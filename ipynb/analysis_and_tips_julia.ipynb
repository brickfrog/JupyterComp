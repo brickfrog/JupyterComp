{
 "cells": [
  {
   "cell_type": "code",
   "execution_count": 1,
   "id": "b72d6b41",
   "metadata": {},
   "outputs": [
    {
     "name": "stderr",
     "output_type": "stream",
     "text": [
      "┌ Warning: Module model_selection has been ported to Julia - try `import ScikitLearn: CrossValidation` instead\n",
      "└ @ ScikitLearn.Skcore C:\\Users\\Justin\\.julia\\packages\\ScikitLearn\\ssekP\\src\\Skcore.jl:179\n"
     ]
    },
    {
     "data": {
      "text/plain": [
       "PyObject <function make_scorer at 0x000000008F07CA60>"
      ]
     },
     "execution_count": 1,
     "metadata": {},
     "output_type": "execute_result"
    }
   ],
   "source": [
    "using DataFrames # Requires > 0.22.0 for rownums function\n",
    "using CSV\n",
    "using Statistics\n",
    "using LinearAlgebra\n",
    "using Plots\n",
    "using StatsBase\n",
    "using Distributions\n",
    "using MLJ\n",
    "using MLJLinearModels\n",
    "using MLJXGBoostInterface\n",
    "using XGBoost\n",
    "import MLJBase: train_test_pairs\n",
    "\n",
    "# Using for Logistic + CV options, also as an example of how to use Sklearn within Julia\n",
    "using ScikitLearn\n",
    "\n",
    "@sk_import linear_model: (LogisticRegression, LinearRegression)\n",
    "@sk_import model_selection: (TimeSeriesSplit, KFold, GroupKFold, cross_val_score)\n",
    "@sk_import metrics: make_scorer"
   ]
  },
  {
   "cell_type": "code",
   "execution_count": 2,
   "id": "6717c869",
   "metadata": {},
   "outputs": [
    {
     "data": {
      "text/html": [
       "<div class=\"data-frame\"><p>5 rows × 314 columns (omitted printing of 309 columns)</p><table class=\"data-frame\"><thead><tr><th></th><th>id</th><th>era</th><th>data_type</th><th>feature_intelligence1</th><th>feature_intelligence2</th></tr><tr><th></th><th title=\"String\">String</th><th title=\"String\">String</th><th title=\"String\">String</th><th title=\"Float64\">Float64</th><th title=\"Float64\">Float64</th></tr></thead><tbody><tr><th>1</th><td>n000315175b67977</td><td>era1</td><td>train</td><td>0.0</td><td>0.5</td></tr><tr><th>2</th><td>n0014af834a96cdd</td><td>era1</td><td>train</td><td>0.0</td><td>0.0</td></tr><tr><th>3</th><td>n001c93979ac41d4</td><td>era1</td><td>train</td><td>0.25</td><td>0.5</td></tr><tr><th>4</th><td>n0034e4143f22a13</td><td>era1</td><td>train</td><td>1.0</td><td>0.0</td></tr><tr><th>5</th><td>n00679d1a636062f</td><td>era1</td><td>train</td><td>0.25</td><td>0.25</td></tr></tbody></table></div>"
      ],
      "text/latex": [
       "\\begin{tabular}{r|cccccc}\n",
       "\t& id & era & data\\_type & feature\\_intelligence1 & feature\\_intelligence2 & \\\\\n",
       "\t\\hline\n",
       "\t& String & String & String & Float64 & Float64 & \\\\\n",
       "\t\\hline\n",
       "\t1 & n000315175b67977 & era1 & train & 0.0 & 0.5 & $\\dots$ \\\\\n",
       "\t2 & n0014af834a96cdd & era1 & train & 0.0 & 0.0 & $\\dots$ \\\\\n",
       "\t3 & n001c93979ac41d4 & era1 & train & 0.25 & 0.5 & $\\dots$ \\\\\n",
       "\t4 & n0034e4143f22a13 & era1 & train & 1.0 & 0.0 & $\\dots$ \\\\\n",
       "\t5 & n00679d1a636062f & era1 & train & 0.25 & 0.25 & $\\dots$ \\\\\n",
       "\\end{tabular}\n"
      ],
      "text/plain": [
       "\u001b[1m5×314 DataFrame\u001b[0m\n",
       "\u001b[1m Row \u001b[0m│\u001b[1m id               \u001b[0m\u001b[1m era    \u001b[0m\u001b[1m data_type \u001b[0m\u001b[1m feature_intelligence1 \u001b[0m\u001b[1m feature_int\u001b[0m ⋯\n",
       "\u001b[1m     \u001b[0m│\u001b[90m String           \u001b[0m\u001b[90m String \u001b[0m\u001b[90m String    \u001b[0m\u001b[90m Float64               \u001b[0m\u001b[90m Float64    \u001b[0m ⋯\n",
       "─────┼──────────────────────────────────────────────────────────────────────────\n",
       "   1 │ n000315175b67977  era1    train                       0.0               ⋯\n",
       "   2 │ n0014af834a96cdd  era1    train                       0.0\n",
       "   3 │ n001c93979ac41d4  era1    train                       0.25\n",
       "   4 │ n0034e4143f22a13  era1    train                       1.0\n",
       "   5 │ n00679d1a636062f  era1    train                       0.25              ⋯\n",
       "\u001b[36m                                                             310 columns omitted\u001b[0m"
      ]
     },
     "execution_count": 2,
     "metadata": {},
     "output_type": "execute_result"
    }
   ],
   "source": [
    "df = CSV.File(\"numerai_training_data.csv\") |> DataFrame\n",
    "\n",
    "first(df,5)"
   ]
  },
  {
   "cell_type": "code",
   "execution_count": 3,
   "id": "b834a137",
   "metadata": {},
   "outputs": [
    {
     "data": {
      "text/plain": [
       "(501808, 314)"
      ]
     },
     "execution_count": 3,
     "metadata": {},
     "output_type": "execute_result"
    }
   ],
   "source": [
    "# There are 501808 rows grouped into eras, and a single target (target)\n",
    "\n",
    "size(df)"
   ]
  },
  {
   "cell_type": "code",
   "execution_count": 4,
   "id": "2c2c49cc",
   "metadata": {},
   "outputs": [
    {
     "data": {
      "text/plain": [
       "310"
      ]
     },
     "execution_count": 4,
     "metadata": {},
     "output_type": "execute_result"
    }
   ],
   "source": [
    "features = select(df, r\"feature\") |> names\n",
    "df.erano = parse.(Int64, replace.(df.era, \"era\" => \"\"))\n",
    "eras = df.erano\n",
    "target = \"target\"\n",
    "length(features)"
   ]
  },
  {
   "cell_type": "code",
   "execution_count": 5,
   "id": "6dffceec-3635-4e61-8423-ff9646e9a42d",
   "metadata": {},
   "outputs": [
    {
     "data": {
      "text/plain": [
       "Dict{String, Vector{String}} with 6 entries:\n",
       "  \"charisma\"     => [\"feature_charisma1\", \"feature_charisma2\", \"feature_charism…\n",
       "  \"constitution\" => [\"feature_constitution1\", \"feature_constitution2\", \"feature…\n",
       "  \"dexterity\"    => [\"feature_dexterity1\", \"feature_dexterity2\", \"feature_dexte…\n",
       "  \"wisdom\"       => [\"feature_wisdom1\", \"feature_wisdom2\", \"feature_wisdom3\", \"…\n",
       "  \"strength\"     => [\"feature_strength1\", \"feature_strength2\", \"feature_strengt…\n",
       "  \"intelligence\" => [\"feature_intelligence1\", \"feature_intelligence2\", \"feature…"
      ]
     },
     "execution_count": 5,
     "metadata": {},
     "output_type": "execute_result"
    }
   ],
   "source": [
    "# The features are grouped together into 6 types\n",
    "feature_groups =\n",
    "    Dict(g => [c for c in features if startswith(c, \"feature_$g\")] \n",
    "        for g in [\"intelligence\", \"wisdom\", \"charisma\", \"dexterity\", \"strength\", \"constitution\"])"
   ]
  },
  {
   "cell_type": "code",
   "execution_count": 6,
   "id": "23bb4f5f-e100-4b3a-8370-5d44d2b6ef5e",
   "metadata": {},
   "outputs": [
    {
     "data": {
      "text/plain": [
       "r2_score (generic function with 1 method)"
      ]
     },
     "execution_count": 6,
     "metadata": {},
     "output_type": "execute_result"
    }
   ],
   "source": [
    "# The models should be scored based on the rank-correlation (spearman) with the target\n",
    "# There's probably (definitely) a better way to write this - [ordinalrank would solve the ranking]\n",
    "\n",
    "function numerai_score(y_true, y_pred, df)\n",
    "        rank_pred = sort(combine(groupby(DataFrame(y_pred = y_pred\n",
    "                                , eras = df.erano\n",
    "                                , rnum = rownumber.(eachrow(df)))\n",
    "                        , :eras)\n",
    "                , sdf -> sort(sdf, :y_pred)\n",
    "                , :eras => eachindex => :rank\n",
    "                , nrow => :n)\n",
    "            , :rnum)\n",
    "\n",
    "        rank_pred = rank_pred.rank ./ rank_pred.n\n",
    "    \n",
    "        cor(y_true, rank_pred)\n",
    "    end\n",
    "\n",
    "# It can also be convenient while working to evaluate based on the regular (pearson) correlation\n",
    "# R2 Score to replicate the Python library outputs\n",
    "\n",
    "function r2_score(y_true, y_pred)\n",
    "    @assert length(y_true) == length(y_pred)\n",
    "    ss_res = sum((y_true .- y_pred).^2)\n",
    "    mean = sum(y_true) / length(y_true)\n",
    "    ss_total = sum((y_true .- mean).^2)\n",
    "    return 1 - ss_res/(ss_total + eps(eltype(y_pred)))\n",
    "end\n",
    "\n",
    "# cor() returns a matrix with no need for manipulation, so no need to replicate that here"
   ]
  },
  {
   "cell_type": "code",
   "execution_count": 7,
   "id": "70cafa56-e01f-4f6a-9160-693c3345d6f6",
   "metadata": {},
   "outputs": [
    {
     "data": {
      "text/html": [
       "<div class=\"data-frame\"><p>1 rows × 13 columns (omitted printing of 3 columns)</p><table class=\"data-frame\"><thead><tr><th></th><th>variable</th><th>mean</th><th>std</th><th>min</th><th>q25</th><th>median</th><th>q75</th><th>max</th><th>nunique</th><th>nmissing</th></tr><tr><th></th><th title=\"Symbol\">Symbol</th><th title=\"Float64\">Float64</th><th title=\"Float64\">Float64</th><th title=\"Int64\">Int64</th><th title=\"Float64\">Float64</th><th title=\"Float64\">Float64</th><th title=\"Float64\">Float64</th><th title=\"Int64\">Int64</th><th title=\"Nothing\">Nothing</th><th title=\"Int64\">Int64</th></tr></thead><tbody><tr><th>1</th><td>erano</td><td>64.002</td><td>33.3329</td><td>1</td><td>37.0</td><td>64.0</td><td>93.0</td><td>120</td><td></td><td>0</td></tr></tbody></table></div>"
      ],
      "text/latex": [
       "\\begin{tabular}{r|ccccccccccc}\n",
       "\t& variable & mean & std & min & q25 & median & q75 & max & nunique & nmissing & \\\\\n",
       "\t\\hline\n",
       "\t& Symbol & Float64 & Float64 & Int64 & Float64 & Float64 & Float64 & Int64 & Nothing & Int64 & \\\\\n",
       "\t\\hline\n",
       "\t1 & erano & 64.002 & 33.3329 & 1 & 37.0 & 64.0 & 93.0 & 120 &  & 0 & $\\dots$ \\\\\n",
       "\\end{tabular}\n"
      ],
      "text/plain": [
       "\u001b[1m1×13 DataFrame\u001b[0m\n",
       "\u001b[1m Row \u001b[0m│\u001b[1m variable \u001b[0m\u001b[1m mean    \u001b[0m\u001b[1m std     \u001b[0m\u001b[1m min   \u001b[0m\u001b[1m q25     \u001b[0m\u001b[1m median  \u001b[0m\u001b[1m q75     \u001b[0m\u001b[1m max   \u001b[0m\u001b[1m nu\u001b[0m ⋯\n",
       "\u001b[1m     \u001b[0m│\u001b[90m Symbol   \u001b[0m\u001b[90m Float64 \u001b[0m\u001b[90m Float64 \u001b[0m\u001b[90m Int64 \u001b[0m\u001b[90m Float64 \u001b[0m\u001b[90m Float64 \u001b[0m\u001b[90m Float64 \u001b[0m\u001b[90m Int64 \u001b[0m\u001b[90m No\u001b[0m ⋯\n",
       "─────┼──────────────────────────────────────────────────────────────────────────\n",
       "   1 │ erano      64.002  33.3329      1     37.0     64.0     93.0    120 \u001b[90m   \u001b[0m ⋯\n",
       "\u001b[36m                                                               5 columns omitted\u001b[0m"
      ]
     },
     "execution_count": 7,
     "metadata": {},
     "output_type": "execute_result"
    }
   ],
   "source": [
    "# There are 120 eras numbered from 1 to 120\n",
    "\n",
    "describe(df, :all, cols=:erano)"
   ]
  },
  {
   "cell_type": "code",
   "execution_count": 8,
   "id": "18d2de89-a2ed-4752-87b4-ad3f09cfa717",
   "metadata": {},
   "outputs": [
    {
     "data": {
      "image/svg+xml": "<?xml version=\"1.0\" encoding=\"utf-8\"?>\n<svg xmlns=\"http://www.w3.org/2000/svg\" xmlns:xlink=\"http://www.w3.org/1999/xlink\" width=\"600\" height=\"400\" viewBox=\"0 0 2400 1600\">\n<defs>\n  <clipPath id=\"clip640\">\n    <rect x=\"0\" y=\"0\" width=\"2400\" height=\"1600\"/>\n  </clipPath>\n</defs>\n<path clip-path=\"url(#clip640)\" d=\"\nM0 1600 L2400 1600 L2400 0 L0 0  Z\n  \" fill=\"#ffffff\" fill-rule=\"evenodd\" fill-opacity=\"1\"/>\n<defs>\n  <clipPath id=\"clip641\">\n    <rect x=\"480\" y=\"0\" width=\"1681\" height=\"1600\"/>\n  </clipPath>\n</defs>\n<path clip-path=\"url(#clip640)\" d=\"\nM202.177 1486.45 L2352.76 1486.45 L2352.76 47.2441 L202.177 47.2441  Z\n  \" fill=\"#ffffff\" fill-rule=\"evenodd\" fill-opacity=\"1\"/>\n<defs>\n  <clipPath id=\"clip642\">\n    <rect x=\"202\" y=\"47\" width=\"2152\" height=\"1440\"/>\n  </clipPath>\n</defs>\n<polyline clip-path=\"url(#clip642)\" style=\"stroke:#000000; stroke-linecap:butt; stroke-linejoin:round; stroke-width:2; stroke-opacity:0.1; fill:none\" points=\"\n  245.993,1486.45 245.993,47.2441 \n  \"/>\n<polyline clip-path=\"url(#clip642)\" style=\"stroke:#000000; stroke-linecap:butt; stroke-linejoin:round; stroke-width:2; stroke-opacity:0.1; fill:none\" points=\"\n  672.222,1486.45 672.222,47.2441 \n  \"/>\n<polyline clip-path=\"url(#clip642)\" style=\"stroke:#000000; stroke-linecap:butt; stroke-linejoin:round; stroke-width:2; stroke-opacity:0.1; fill:none\" points=\"\n  1098.45,1486.45 1098.45,47.2441 \n  \"/>\n<polyline clip-path=\"url(#clip642)\" style=\"stroke:#000000; stroke-linecap:butt; stroke-linejoin:round; stroke-width:2; stroke-opacity:0.1; fill:none\" points=\"\n  1524.68,1486.45 1524.68,47.2441 \n  \"/>\n<polyline clip-path=\"url(#clip642)\" style=\"stroke:#000000; stroke-linecap:butt; stroke-linejoin:round; stroke-width:2; stroke-opacity:0.1; fill:none\" points=\"\n  1950.91,1486.45 1950.91,47.2441 \n  \"/>\n<polyline clip-path=\"url(#clip640)\" style=\"stroke:#000000; stroke-linecap:butt; stroke-linejoin:round; stroke-width:4; stroke-opacity:1; fill:none\" points=\"\n  202.177,1486.45 2352.76,1486.45 \n  \"/>\n<polyline clip-path=\"url(#clip640)\" style=\"stroke:#000000; stroke-linecap:butt; stroke-linejoin:round; stroke-width:4; stroke-opacity:1; fill:none\" points=\"\n  245.993,1486.45 245.993,1469.18 \n  \"/>\n<polyline clip-path=\"url(#clip640)\" style=\"stroke:#000000; stroke-linecap:butt; stroke-linejoin:round; stroke-width:4; stroke-opacity:1; fill:none\" points=\"\n  672.222,1486.45 672.222,1469.18 \n  \"/>\n<polyline clip-path=\"url(#clip640)\" style=\"stroke:#000000; stroke-linecap:butt; stroke-linejoin:round; stroke-width:4; stroke-opacity:1; fill:none\" points=\"\n  1098.45,1486.45 1098.45,1469.18 \n  \"/>\n<polyline clip-path=\"url(#clip640)\" style=\"stroke:#000000; stroke-linecap:butt; stroke-linejoin:round; stroke-width:4; stroke-opacity:1; fill:none\" points=\"\n  1524.68,1486.45 1524.68,1469.18 \n  \"/>\n<polyline clip-path=\"url(#clip640)\" style=\"stroke:#000000; stroke-linecap:butt; stroke-linejoin:round; stroke-width:4; stroke-opacity:1; fill:none\" points=\"\n  1950.91,1486.45 1950.91,1469.18 \n  \"/>\n<path clip-path=\"url(#clip640)\" d=\"M245.993 1515.64 Q242.382 1515.64 240.553 1519.2 Q238.748 1522.75 238.748 1529.87 Q238.748 1536.98 240.553 1540.55 Q242.382 1544.09 245.993 1544.09 Q249.627 1544.09 251.433 1540.55 Q253.261 1536.98 253.261 1529.87 Q253.261 1522.75 251.433 1519.2 Q249.627 1515.64 245.993 1515.64 M245.993 1511.93 Q251.803 1511.93 254.859 1516.54 Q257.937 1521.12 257.937 1529.87 Q257.937 1538.6 254.859 1543.21 Q251.803 1547.79 245.993 1547.79 Q240.183 1547.79 237.104 1543.21 Q234.049 1538.6 234.049 1529.87 Q234.049 1521.12 237.104 1516.54 Q240.183 1511.93 245.993 1511.93 Z\" fill=\"#000000\" fill-rule=\"evenodd\" fill-opacity=\"1\" /><path clip-path=\"url(#clip640)\" d=\"M651.493 1543.18 L667.812 1543.18 L667.812 1547.12 L645.868 1547.12 L645.868 1543.18 Q648.53 1540.43 653.113 1535.8 Q657.719 1531.15 658.9 1529.81 Q661.145 1527.28 662.025 1525.55 Q662.928 1523.79 662.928 1522.1 Q662.928 1519.34 660.983 1517.61 Q659.062 1515.87 655.96 1515.87 Q653.761 1515.87 651.307 1516.63 Q648.877 1517.4 646.099 1518.95 L646.099 1514.23 Q648.923 1513.09 651.377 1512.51 Q653.831 1511.93 655.868 1511.93 Q661.238 1511.93 664.432 1514.62 Q667.627 1517.31 667.627 1521.8 Q667.627 1523.93 666.817 1525.85 Q666.03 1527.74 663.923 1530.34 Q663.344 1531.01 660.243 1534.23 Q657.141 1537.42 651.493 1543.18 Z\" fill=\"#000000\" fill-rule=\"evenodd\" fill-opacity=\"1\" /><path clip-path=\"url(#clip640)\" d=\"M677.673 1512.56 L696.029 1512.56 L696.029 1516.5 L681.955 1516.5 L681.955 1524.97 Q682.974 1524.62 683.992 1524.46 Q685.011 1524.27 686.029 1524.27 Q691.816 1524.27 695.196 1527.44 Q698.576 1530.62 698.576 1536.03 Q698.576 1541.61 695.103 1544.71 Q691.631 1547.79 685.312 1547.79 Q683.136 1547.79 680.867 1547.42 Q678.622 1547.05 676.215 1546.31 L676.215 1541.61 Q678.298 1542.74 680.52 1543.3 Q682.742 1543.86 685.219 1543.86 Q689.224 1543.86 691.562 1541.75 Q693.9 1539.64 693.9 1536.03 Q693.9 1532.42 691.562 1530.31 Q689.224 1528.21 685.219 1528.21 Q683.344 1528.21 681.469 1528.62 Q679.617 1529.04 677.673 1529.92 L677.673 1512.56 Z\" fill=\"#000000\" fill-rule=\"evenodd\" fill-opacity=\"1\" /><path clip-path=\"url(#clip640)\" d=\"M1073.15 1512.56 L1091.51 1512.56 L1091.51 1516.5 L1077.43 1516.5 L1077.43 1524.97 Q1078.45 1524.62 1079.47 1524.46 Q1080.49 1524.27 1081.51 1524.27 Q1087.29 1524.27 1090.67 1527.44 Q1094.05 1530.62 1094.05 1536.03 Q1094.05 1541.61 1090.58 1544.71 Q1087.11 1547.79 1080.79 1547.79 Q1078.61 1547.79 1076.34 1547.42 Q1074.1 1547.05 1071.69 1546.31 L1071.69 1541.61 Q1073.77 1542.74 1076 1543.3 Q1078.22 1543.86 1080.7 1543.86 Q1084.7 1543.86 1087.04 1541.75 Q1089.38 1539.64 1089.38 1536.03 Q1089.38 1532.42 1087.04 1530.31 Q1084.7 1528.21 1080.7 1528.21 Q1078.82 1528.21 1076.95 1528.62 Q1075.09 1529.04 1073.15 1529.92 L1073.15 1512.56 Z\" fill=\"#000000\" fill-rule=\"evenodd\" fill-opacity=\"1\" /><path clip-path=\"url(#clip640)\" d=\"M1113.27 1515.64 Q1109.65 1515.64 1107.83 1519.2 Q1106.02 1522.75 1106.02 1529.87 Q1106.02 1536.98 1107.83 1540.55 Q1109.65 1544.09 1113.27 1544.09 Q1116.9 1544.09 1118.7 1540.55 Q1120.53 1536.98 1120.53 1529.87 Q1120.53 1522.75 1118.7 1519.2 Q1116.9 1515.64 1113.27 1515.64 M1113.27 1511.93 Q1119.08 1511.93 1122.13 1516.54 Q1125.21 1521.12 1125.21 1529.87 Q1125.21 1538.6 1122.13 1543.21 Q1119.08 1547.79 1113.27 1547.79 Q1107.45 1547.79 1104.38 1543.21 Q1101.32 1538.6 1101.32 1529.87 Q1101.32 1521.12 1104.38 1516.54 Q1107.45 1511.93 1113.27 1511.93 Z\" fill=\"#000000\" fill-rule=\"evenodd\" fill-opacity=\"1\" /><path clip-path=\"url(#clip640)\" d=\"M1498.53 1512.56 L1520.76 1512.56 L1520.76 1514.55 L1508.21 1547.12 L1503.32 1547.12 L1515.13 1516.5 L1498.53 1516.5 L1498.53 1512.56 Z\" fill=\"#000000\" fill-rule=\"evenodd\" fill-opacity=\"1\" /><path clip-path=\"url(#clip640)\" d=\"M1529.92 1512.56 L1548.28 1512.56 L1548.28 1516.5 L1534.2 1516.5 L1534.2 1524.97 Q1535.22 1524.62 1536.24 1524.46 Q1537.26 1524.27 1538.28 1524.27 Q1544.07 1524.27 1547.44 1527.44 Q1550.82 1530.62 1550.82 1536.03 Q1550.82 1541.61 1547.35 1544.71 Q1543.88 1547.79 1537.56 1547.79 Q1535.38 1547.79 1533.12 1547.42 Q1530.87 1547.05 1528.46 1546.31 L1528.46 1541.61 Q1530.55 1542.74 1532.77 1543.3 Q1534.99 1543.86 1537.47 1543.86 Q1541.47 1543.86 1543.81 1541.75 Q1546.15 1539.64 1546.15 1536.03 Q1546.15 1532.42 1543.81 1530.31 Q1541.47 1528.21 1537.47 1528.21 Q1535.59 1528.21 1533.72 1528.62 Q1531.87 1529.04 1529.92 1529.92 L1529.92 1512.56 Z\" fill=\"#000000\" fill-rule=\"evenodd\" fill-opacity=\"1\" /><path clip-path=\"url(#clip640)\" d=\"M1910.51 1543.18 L1918.15 1543.18 L1918.15 1516.82 L1909.84 1518.49 L1909.84 1514.23 L1918.11 1512.56 L1922.78 1512.56 L1922.78 1543.18 L1930.42 1543.18 L1930.42 1547.12 L1910.51 1547.12 L1910.51 1543.18 Z\" fill=\"#000000\" fill-rule=\"evenodd\" fill-opacity=\"1\" /><path clip-path=\"url(#clip640)\" d=\"M1949.87 1515.64 Q1946.25 1515.64 1944.43 1519.2 Q1942.62 1522.75 1942.62 1529.87 Q1942.62 1536.98 1944.43 1540.55 Q1946.25 1544.09 1949.87 1544.09 Q1953.5 1544.09 1955.31 1540.55 Q1957.13 1536.98 1957.13 1529.87 Q1957.13 1522.75 1955.31 1519.2 Q1953.5 1515.64 1949.87 1515.64 M1949.87 1511.93 Q1955.68 1511.93 1958.73 1516.54 Q1961.81 1521.12 1961.81 1529.87 Q1961.81 1538.6 1958.73 1543.21 Q1955.68 1547.79 1949.87 1547.79 Q1944.06 1547.79 1940.98 1543.21 Q1937.92 1538.6 1937.92 1529.87 Q1937.92 1521.12 1940.98 1516.54 Q1944.06 1511.93 1949.87 1511.93 Z\" fill=\"#000000\" fill-rule=\"evenodd\" fill-opacity=\"1\" /><path clip-path=\"url(#clip640)\" d=\"M1980.03 1515.64 Q1976.42 1515.64 1974.59 1519.2 Q1972.78 1522.75 1972.78 1529.87 Q1972.78 1536.98 1974.59 1540.55 Q1976.42 1544.09 1980.03 1544.09 Q1983.66 1544.09 1985.47 1540.55 Q1987.3 1536.98 1987.3 1529.87 Q1987.3 1522.75 1985.47 1519.2 Q1983.66 1515.64 1980.03 1515.64 M1980.03 1511.93 Q1985.84 1511.93 1988.89 1516.54 Q1991.97 1521.12 1991.97 1529.87 Q1991.97 1538.6 1988.89 1543.21 Q1985.84 1547.79 1980.03 1547.79 Q1974.22 1547.79 1971.14 1543.21 Q1968.08 1538.6 1968.08 1529.87 Q1968.08 1521.12 1971.14 1516.54 Q1974.22 1511.93 1980.03 1511.93 Z\" fill=\"#000000\" fill-rule=\"evenodd\" fill-opacity=\"1\" /><polyline clip-path=\"url(#clip642)\" style=\"stroke:#000000; stroke-linecap:butt; stroke-linejoin:round; stroke-width:2; stroke-opacity:0.1; fill:none\" points=\"\n  202.177,1376.27 2352.76,1376.27 \n  \"/>\n<polyline clip-path=\"url(#clip642)\" style=\"stroke:#000000; stroke-linecap:butt; stroke-linejoin:round; stroke-width:2; stroke-opacity:0.1; fill:none\" points=\"\n  202.177,1107.09 2352.76,1107.09 \n  \"/>\n<polyline clip-path=\"url(#clip642)\" style=\"stroke:#000000; stroke-linecap:butt; stroke-linejoin:round; stroke-width:2; stroke-opacity:0.1; fill:none\" points=\"\n  202.177,837.909 2352.76,837.909 \n  \"/>\n<polyline clip-path=\"url(#clip642)\" style=\"stroke:#000000; stroke-linecap:butt; stroke-linejoin:round; stroke-width:2; stroke-opacity:0.1; fill:none\" points=\"\n  202.177,568.73 2352.76,568.73 \n  \"/>\n<polyline clip-path=\"url(#clip642)\" style=\"stroke:#000000; stroke-linecap:butt; stroke-linejoin:round; stroke-width:2; stroke-opacity:0.1; fill:none\" points=\"\n  202.177,299.551 2352.76,299.551 \n  \"/>\n<polyline clip-path=\"url(#clip640)\" style=\"stroke:#000000; stroke-linecap:butt; stroke-linejoin:round; stroke-width:4; stroke-opacity:1; fill:none\" points=\"\n  202.177,1486.45 202.177,47.2441 \n  \"/>\n<polyline clip-path=\"url(#clip640)\" style=\"stroke:#000000; stroke-linecap:butt; stroke-linejoin:round; stroke-width:4; stroke-opacity:1; fill:none\" points=\"\n  202.177,1376.27 227.984,1376.27 \n  \"/>\n<polyline clip-path=\"url(#clip640)\" style=\"stroke:#000000; stroke-linecap:butt; stroke-linejoin:round; stroke-width:4; stroke-opacity:1; fill:none\" points=\"\n  202.177,1107.09 227.984,1107.09 \n  \"/>\n<polyline clip-path=\"url(#clip640)\" style=\"stroke:#000000; stroke-linecap:butt; stroke-linejoin:round; stroke-width:4; stroke-opacity:1; fill:none\" points=\"\n  202.177,837.909 227.984,837.909 \n  \"/>\n<polyline clip-path=\"url(#clip640)\" style=\"stroke:#000000; stroke-linecap:butt; stroke-linejoin:round; stroke-width:4; stroke-opacity:1; fill:none\" points=\"\n  202.177,568.73 227.984,568.73 \n  \"/>\n<polyline clip-path=\"url(#clip640)\" style=\"stroke:#000000; stroke-linecap:butt; stroke-linejoin:round; stroke-width:4; stroke-opacity:1; fill:none\" points=\"\n  202.177,299.551 227.984,299.551 \n  \"/>\n<path clip-path=\"url(#clip640)\" d=\"M57.7745 1389.61 L74.0939 1389.61 L74.0939 1393.55 L52.1495 1393.55 L52.1495 1389.61 Q54.8115 1386.86 59.3949 1382.23 Q64.0013 1377.58 65.1819 1376.23 Q67.4272 1373.71 68.3068 1371.97 Q69.2096 1370.21 69.2096 1368.52 Q69.2096 1365.77 67.2652 1364.03 Q65.3439 1362.3 62.2421 1362.3 Q60.043 1362.3 57.5893 1363.06 Q55.1588 1363.83 52.381 1365.38 L52.381 1360.65 Q55.2051 1359.52 57.6588 1358.94 Q60.1124 1358.36 62.1495 1358.36 Q67.5198 1358.36 70.7142 1361.05 Q73.9087 1363.73 73.9087 1368.22 Q73.9087 1370.35 73.0985 1372.27 Q72.3115 1374.17 70.205 1376.77 Q69.6263 1377.44 66.5245 1380.65 Q63.4226 1383.85 57.7745 1389.61 Z\" fill=\"#000000\" fill-rule=\"evenodd\" fill-opacity=\"1\" /><path clip-path=\"url(#clip640)\" d=\"M83.9549 1358.99 L102.311 1358.99 L102.311 1362.92 L88.2373 1362.92 L88.2373 1371.39 Q89.2558 1371.05 90.2743 1370.89 Q91.2928 1370.7 92.3113 1370.7 Q98.0984 1370.7 101.478 1373.87 Q104.858 1377.04 104.858 1382.46 Q104.858 1388.04 101.385 1391.14 Q97.9132 1394.22 91.5938 1394.22 Q89.4178 1394.22 87.1493 1393.85 Q84.904 1393.48 82.4966 1392.74 L82.4966 1388.04 Q84.5799 1389.17 86.8021 1389.73 Q89.0243 1390.28 91.5012 1390.28 Q95.5058 1390.28 97.8437 1388.18 Q100.182 1386.07 100.182 1382.46 Q100.182 1378.85 97.8437 1376.74 Q95.5058 1374.64 91.5012 1374.64 Q89.6262 1374.64 87.7512 1375.05 Q85.8993 1375.47 83.9549 1376.35 L83.9549 1358.99 Z\" fill=\"#000000\" fill-rule=\"evenodd\" fill-opacity=\"1\" /><path clip-path=\"url(#clip640)\" d=\"M124.07 1362.07 Q120.459 1362.07 118.631 1365.63 Q116.825 1369.17 116.825 1376.3 Q116.825 1383.41 118.631 1386.97 Q120.459 1390.52 124.07 1390.52 Q127.705 1390.52 129.51 1386.97 Q131.339 1383.41 131.339 1376.3 Q131.339 1369.17 129.51 1365.63 Q127.705 1362.07 124.07 1362.07 M124.07 1358.36 Q129.881 1358.36 132.936 1362.97 Q136.015 1367.55 136.015 1376.3 Q136.015 1385.03 132.936 1389.64 Q129.881 1394.22 124.07 1394.22 Q118.26 1394.22 115.182 1389.64 Q112.126 1385.03 112.126 1376.3 Q112.126 1367.55 115.182 1362.97 Q118.26 1358.36 124.07 1358.36 Z\" fill=\"#000000\" fill-rule=\"evenodd\" fill-opacity=\"1\" /><path clip-path=\"url(#clip640)\" d=\"M154.232 1362.07 Q150.621 1362.07 148.793 1365.63 Q146.987 1369.17 146.987 1376.3 Q146.987 1383.41 148.793 1386.97 Q150.621 1390.52 154.232 1390.52 Q157.867 1390.52 159.672 1386.97 Q161.501 1383.41 161.501 1376.3 Q161.501 1369.17 159.672 1365.63 Q157.867 1362.07 154.232 1362.07 M154.232 1358.36 Q160.042 1358.36 163.098 1362.97 Q166.177 1367.55 166.177 1376.3 Q166.177 1385.03 163.098 1389.64 Q160.042 1394.22 154.232 1394.22 Q148.422 1394.22 145.343 1389.64 Q142.288 1385.03 142.288 1376.3 Q142.288 1367.55 145.343 1362.97 Q148.422 1358.36 154.232 1358.36 Z\" fill=\"#000000\" fill-rule=\"evenodd\" fill-opacity=\"1\" /><path clip-path=\"url(#clip640)\" d=\"M67.9133 1105.73 Q71.2698 1106.45 73.1448 1108.72 Q75.0429 1110.99 75.0429 1114.32 Q75.0429 1119.44 71.5244 1122.24 Q68.0059 1125.04 61.5245 1125.04 Q59.3486 1125.04 57.0338 1124.6 Q54.7421 1124.18 52.2884 1123.33 L52.2884 1118.81 Q54.2328 1119.95 56.5477 1120.53 Q58.8625 1121.1 61.3856 1121.1 Q65.7837 1121.1 68.0754 1119.37 Q70.3902 1117.63 70.3902 1114.32 Q70.3902 1111.27 68.2374 1109.55 Q66.1078 1107.82 62.2884 1107.82 L58.2606 1107.82 L58.2606 1103.97 L62.4735 1103.97 Q65.9226 1103.97 67.7513 1102.61 Q69.58 1101.22 69.58 1098.63 Q69.58 1095.97 67.6819 1094.55 Q65.8069 1093.12 62.2884 1093.12 Q60.3671 1093.12 58.168 1093.54 Q55.969 1093.95 53.3301 1094.83 L53.3301 1090.66 Q55.9921 1089.92 58.3069 1089.55 Q60.6449 1089.18 62.705 1089.18 Q68.0291 1089.18 71.1309 1091.61 Q74.2327 1094.02 74.2327 1098.14 Q74.2327 1101.01 72.5892 1103 Q70.9457 1104.97 67.9133 1105.73 Z\" fill=\"#000000\" fill-rule=\"evenodd\" fill-opacity=\"1\" /><path clip-path=\"url(#clip640)\" d=\"M93.9086 1092.89 Q90.2975 1092.89 88.4688 1096.45 Q86.6632 1099.99 86.6632 1107.12 Q86.6632 1114.23 88.4688 1117.79 Q90.2975 1121.34 93.9086 1121.34 Q97.5428 1121.34 99.3483 1117.79 Q101.177 1114.23 101.177 1107.12 Q101.177 1099.99 99.3483 1096.45 Q97.5428 1092.89 93.9086 1092.89 M93.9086 1089.18 Q99.7187 1089.18 102.774 1093.79 Q105.853 1098.37 105.853 1107.12 Q105.853 1115.85 102.774 1120.46 Q99.7187 1125.04 93.9086 1125.04 Q88.0984 1125.04 85.0197 1120.46 Q81.9642 1115.85 81.9642 1107.12 Q81.9642 1098.37 85.0197 1093.79 Q88.0984 1089.18 93.9086 1089.18 Z\" fill=\"#000000\" fill-rule=\"evenodd\" fill-opacity=\"1\" /><path clip-path=\"url(#clip640)\" d=\"M124.07 1092.89 Q120.459 1092.89 118.631 1096.45 Q116.825 1099.99 116.825 1107.12 Q116.825 1114.23 118.631 1117.79 Q120.459 1121.34 124.07 1121.34 Q127.705 1121.34 129.51 1117.79 Q131.339 1114.23 131.339 1107.12 Q131.339 1099.99 129.51 1096.45 Q127.705 1092.89 124.07 1092.89 M124.07 1089.18 Q129.881 1089.18 132.936 1093.79 Q136.015 1098.37 136.015 1107.12 Q136.015 1115.85 132.936 1120.46 Q129.881 1125.04 124.07 1125.04 Q118.26 1125.04 115.182 1120.46 Q112.126 1115.85 112.126 1107.12 Q112.126 1098.37 115.182 1093.79 Q118.26 1089.18 124.07 1089.18 Z\" fill=\"#000000\" fill-rule=\"evenodd\" fill-opacity=\"1\" /><path clip-path=\"url(#clip640)\" d=\"M154.232 1092.89 Q150.621 1092.89 148.793 1096.45 Q146.987 1099.99 146.987 1107.12 Q146.987 1114.23 148.793 1117.79 Q150.621 1121.34 154.232 1121.34 Q157.867 1121.34 159.672 1117.79 Q161.501 1114.23 161.501 1107.12 Q161.501 1099.99 159.672 1096.45 Q157.867 1092.89 154.232 1092.89 M154.232 1089.18 Q160.042 1089.18 163.098 1093.79 Q166.177 1098.37 166.177 1107.12 Q166.177 1115.85 163.098 1120.46 Q160.042 1125.04 154.232 1125.04 Q148.422 1125.04 145.343 1120.46 Q142.288 1115.85 142.288 1107.12 Q142.288 1098.37 145.343 1093.79 Q148.422 1089.18 154.232 1089.18 Z\" fill=\"#000000\" fill-rule=\"evenodd\" fill-opacity=\"1\" /><path clip-path=\"url(#clip640)\" d=\"M67.9133 836.555 Q71.2698 837.273 73.1448 839.541 Q75.0429 841.81 75.0429 845.143 Q75.0429 850.259 71.5244 853.06 Q68.0059 855.861 61.5245 855.861 Q59.3486 855.861 57.0338 855.421 Q54.7421 855.004 52.2884 854.148 L52.2884 849.634 Q54.2328 850.768 56.5477 851.347 Q58.8625 851.925 61.3856 851.925 Q65.7837 851.925 68.0754 850.189 Q70.3902 848.453 70.3902 845.143 Q70.3902 842.087 68.2374 840.375 Q66.1078 838.638 62.2884 838.638 L58.2606 838.638 L58.2606 834.796 L62.4735 834.796 Q65.9226 834.796 67.7513 833.43 Q69.58 832.041 69.58 829.449 Q69.58 826.787 67.6819 825.375 Q65.8069 823.939 62.2884 823.939 Q60.3671 823.939 58.168 824.356 Q55.969 824.773 53.3301 825.652 L53.3301 821.486 Q55.9921 820.745 58.3069 820.375 Q60.6449 820.004 62.705 820.004 Q68.0291 820.004 71.1309 822.435 Q74.2327 824.842 74.2327 828.963 Q74.2327 831.833 72.5892 833.824 Q70.9457 835.791 67.9133 836.555 Z\" fill=\"#000000\" fill-rule=\"evenodd\" fill-opacity=\"1\" /><path clip-path=\"url(#clip640)\" d=\"M83.9549 820.629 L102.311 820.629 L102.311 824.564 L88.2373 824.564 L88.2373 833.037 Q89.2558 832.689 90.2743 832.527 Q91.2928 832.342 92.3113 832.342 Q98.0984 832.342 101.478 835.513 Q104.858 838.685 104.858 844.101 Q104.858 849.68 101.385 852.782 Q97.9132 855.861 91.5938 855.861 Q89.4178 855.861 87.1493 855.49 Q84.904 855.12 82.4966 854.379 L82.4966 849.68 Q84.5799 850.814 86.8021 851.37 Q89.0243 851.925 91.5012 851.925 Q95.5058 851.925 97.8437 849.819 Q100.182 847.712 100.182 844.101 Q100.182 840.49 97.8437 838.384 Q95.5058 836.277 91.5012 836.277 Q89.6262 836.277 87.7512 836.694 Q85.8993 837.111 83.9549 837.99 L83.9549 820.629 Z\" fill=\"#000000\" fill-rule=\"evenodd\" fill-opacity=\"1\" /><path clip-path=\"url(#clip640)\" d=\"M124.07 823.708 Q120.459 823.708 118.631 827.273 Q116.825 830.814 116.825 837.944 Q116.825 845.05 118.631 848.615 Q120.459 852.157 124.07 852.157 Q127.705 852.157 129.51 848.615 Q131.339 845.05 131.339 837.944 Q131.339 830.814 129.51 827.273 Q127.705 823.708 124.07 823.708 M124.07 820.004 Q129.881 820.004 132.936 824.611 Q136.015 829.194 136.015 837.944 Q136.015 846.671 132.936 851.277 Q129.881 855.861 124.07 855.861 Q118.26 855.861 115.182 851.277 Q112.126 846.671 112.126 837.944 Q112.126 829.194 115.182 824.611 Q118.26 820.004 124.07 820.004 Z\" fill=\"#000000\" fill-rule=\"evenodd\" fill-opacity=\"1\" /><path clip-path=\"url(#clip640)\" d=\"M154.232 823.708 Q150.621 823.708 148.793 827.273 Q146.987 830.814 146.987 837.944 Q146.987 845.05 148.793 848.615 Q150.621 852.157 154.232 852.157 Q157.867 852.157 159.672 848.615 Q161.501 845.05 161.501 837.944 Q161.501 830.814 159.672 827.273 Q157.867 823.708 154.232 823.708 M154.232 820.004 Q160.042 820.004 163.098 824.611 Q166.177 829.194 166.177 837.944 Q166.177 846.671 163.098 851.277 Q160.042 855.861 154.232 855.861 Q148.422 855.861 145.343 851.277 Q142.288 846.671 142.288 837.944 Q142.288 829.194 145.343 824.611 Q148.422 820.004 154.232 820.004 Z\" fill=\"#000000\" fill-rule=\"evenodd\" fill-opacity=\"1\" /><path clip-path=\"url(#clip640)\" d=\"M66.5939 555.524 L54.7884 573.973 L66.5939 573.973 L66.5939 555.524 M65.367 551.45 L71.2466 551.45 L71.2466 573.973 L76.1772 573.973 L76.1772 577.862 L71.2466 577.862 L71.2466 586.01 L66.5939 586.01 L66.5939 577.862 L50.9921 577.862 L50.9921 573.348 L65.367 551.45 Z\" fill=\"#000000\" fill-rule=\"evenodd\" fill-opacity=\"1\" /><path clip-path=\"url(#clip640)\" d=\"M93.9086 554.529 Q90.2975 554.529 88.4688 558.094 Q86.6632 561.635 86.6632 568.765 Q86.6632 575.871 88.4688 579.436 Q90.2975 582.978 93.9086 582.978 Q97.5428 582.978 99.3483 579.436 Q101.177 575.871 101.177 568.765 Q101.177 561.635 99.3483 558.094 Q97.5428 554.529 93.9086 554.529 M93.9086 550.825 Q99.7187 550.825 102.774 555.432 Q105.853 560.015 105.853 568.765 Q105.853 577.492 102.774 582.098 Q99.7187 586.681 93.9086 586.681 Q88.0984 586.681 85.0197 582.098 Q81.9642 577.492 81.9642 568.765 Q81.9642 560.015 85.0197 555.432 Q88.0984 550.825 93.9086 550.825 Z\" fill=\"#000000\" fill-rule=\"evenodd\" fill-opacity=\"1\" /><path clip-path=\"url(#clip640)\" d=\"M124.07 554.529 Q120.459 554.529 118.631 558.094 Q116.825 561.635 116.825 568.765 Q116.825 575.871 118.631 579.436 Q120.459 582.978 124.07 582.978 Q127.705 582.978 129.51 579.436 Q131.339 575.871 131.339 568.765 Q131.339 561.635 129.51 558.094 Q127.705 554.529 124.07 554.529 M124.07 550.825 Q129.881 550.825 132.936 555.432 Q136.015 560.015 136.015 568.765 Q136.015 577.492 132.936 582.098 Q129.881 586.681 124.07 586.681 Q118.26 586.681 115.182 582.098 Q112.126 577.492 112.126 568.765 Q112.126 560.015 115.182 555.432 Q118.26 550.825 124.07 550.825 Z\" fill=\"#000000\" fill-rule=\"evenodd\" fill-opacity=\"1\" /><path clip-path=\"url(#clip640)\" d=\"M154.232 554.529 Q150.621 554.529 148.793 558.094 Q146.987 561.635 146.987 568.765 Q146.987 575.871 148.793 579.436 Q150.621 582.978 154.232 582.978 Q157.867 582.978 159.672 579.436 Q161.501 575.871 161.501 568.765 Q161.501 561.635 159.672 558.094 Q157.867 554.529 154.232 554.529 M154.232 550.825 Q160.042 550.825 163.098 555.432 Q166.177 560.015 166.177 568.765 Q166.177 577.492 163.098 582.098 Q160.042 586.681 154.232 586.681 Q148.422 586.681 145.343 582.098 Q142.288 577.492 142.288 568.765 Q142.288 560.015 145.343 555.432 Q148.422 550.825 154.232 550.825 Z\" fill=\"#000000\" fill-rule=\"evenodd\" fill-opacity=\"1\" /><path clip-path=\"url(#clip640)\" d=\"M66.5939 286.345 L54.7884 304.794 L66.5939 304.794 L66.5939 286.345 M65.367 282.271 L71.2466 282.271 L71.2466 304.794 L76.1772 304.794 L76.1772 308.683 L71.2466 308.683 L71.2466 316.831 L66.5939 316.831 L66.5939 308.683 L50.9921 308.683 L50.9921 304.169 L65.367 282.271 Z\" fill=\"#000000\" fill-rule=\"evenodd\" fill-opacity=\"1\" /><path clip-path=\"url(#clip640)\" d=\"M83.9549 282.271 L102.311 282.271 L102.311 286.206 L88.2373 286.206 L88.2373 294.678 Q89.2558 294.331 90.2743 294.169 Q91.2928 293.984 92.3113 293.984 Q98.0984 293.984 101.478 297.155 Q104.858 300.327 104.858 305.743 Q104.858 311.322 101.385 314.424 Q97.9132 317.502 91.5938 317.502 Q89.4178 317.502 87.1493 317.132 Q84.904 316.762 82.4966 316.021 L82.4966 311.322 Q84.5799 312.456 86.8021 313.012 Q89.0243 313.567 91.5012 313.567 Q95.5058 313.567 97.8437 311.461 Q100.182 309.354 100.182 305.743 Q100.182 302.132 97.8437 300.026 Q95.5058 297.919 91.5012 297.919 Q89.6262 297.919 87.7512 298.336 Q85.8993 298.752 83.9549 299.632 L83.9549 282.271 Z\" fill=\"#000000\" fill-rule=\"evenodd\" fill-opacity=\"1\" /><path clip-path=\"url(#clip640)\" d=\"M124.07 285.35 Q120.459 285.35 118.631 288.915 Q116.825 292.456 116.825 299.586 Q116.825 306.692 118.631 310.257 Q120.459 313.799 124.07 313.799 Q127.705 313.799 129.51 310.257 Q131.339 306.692 131.339 299.586 Q131.339 292.456 129.51 288.915 Q127.705 285.35 124.07 285.35 M124.07 281.646 Q129.881 281.646 132.936 286.253 Q136.015 290.836 136.015 299.586 Q136.015 308.313 132.936 312.919 Q129.881 317.502 124.07 317.502 Q118.26 317.502 115.182 312.919 Q112.126 308.313 112.126 299.586 Q112.126 290.836 115.182 286.253 Q118.26 281.646 124.07 281.646 Z\" fill=\"#000000\" fill-rule=\"evenodd\" fill-opacity=\"1\" /><path clip-path=\"url(#clip640)\" d=\"M154.232 285.35 Q150.621 285.35 148.793 288.915 Q146.987 292.456 146.987 299.586 Q146.987 306.692 148.793 310.257 Q150.621 313.799 154.232 313.799 Q157.867 313.799 159.672 310.257 Q161.501 306.692 161.501 299.586 Q161.501 292.456 159.672 288.915 Q157.867 285.35 154.232 285.35 M154.232 281.646 Q160.042 281.646 163.098 286.253 Q166.177 290.836 166.177 299.586 Q166.177 308.313 163.098 312.919 Q160.042 317.502 154.232 317.502 Q148.422 317.502 145.343 312.919 Q142.288 308.313 142.288 299.586 Q142.288 290.836 145.343 286.253 Q148.422 281.646 154.232 281.646 Z\" fill=\"#000000\" fill-rule=\"evenodd\" fill-opacity=\"1\" /><polyline clip-path=\"url(#clip642)\" style=\"stroke:#009af9; stroke-linecap:butt; stroke-linejoin:round; stroke-width:4; stroke-opacity:1; fill:none\" points=\"\n  263.042,1425.8 280.091,1445.72 297.14,1417.18 314.19,1353.12 331.239,1279.9 348.288,1174.38 365.337,1093.09 382.386,1097.4 399.435,1015.03 416.484,926.2 \n  433.534,897.667 450.583,881.516 467.632,950.964 484.681,938.582 501.73,791.072 518.779,789.995 535.828,822.297 552.878,793.226 569.927,802.916 586.976,834.141 \n  604.025,838.448 621.074,811.53 638.123,746.388 655.172,697.936 672.222,651.099 689.271,630.641 706.32,600.493 723.369,611.26 740.418,641.409 757.467,601.032 \n  774.517,581.651 791.566,591.88 808.615,564.962 825.664,543.427 842.713,516.509 859.762,482.054 876.811,439.524 893.861,401.839 910.91,371.691 927.959,333.468 \n  945.008,428.757 962.057,421.22 979.106,433.602 996.155,456.213 1013.2,456.752 1030.25,403.454 1047.3,348.542 1064.35,297.936 1081.4,255.944 1098.45,215.029 \n  1115.5,187.034 1132.55,161.193 1149.6,138.582 1166.65,91.2064 1183.7,87.9763 1200.75,95.5133 1217.79,100.359 1234.84,87.9763 1251.89,115.433 1268.94,119.201 \n  1285.99,148.811 1303.04,150.426 1320.09,173.037 1337.14,168.73 1354.19,181.651 1371.24,230.641 1388.29,240.87 1405.33,260.251 1422.38,336.159 1439.43,494.437 \n  1456.48,546.119 1473.53,537.505 1490.58,605.339 1507.63,679.632 1524.68,681.785 1541.73,586.496 1558.78,479.901 1575.83,430.372 1592.88,428.757 1609.92,379.766 \n  1626.97,343.696 1644.02,338.851 1661.07,357.155 1678.12,362.001 1695.17,363.616 1712.22,378.151 1729.27,338.313 1746.32,339.928 1763.37,348.003 1780.42,316.779 \n  1797.47,330.237 1814.51,363.616 1831.56,324.316 1848.61,294.706 1865.66,281.247 1882.71,214.49 1899.76,194.033 1916.81,182.727 1933.86,165.5 1950.91,166.038 \n  1967.96,175.729 1985.01,189.726 2002.05,187.034 2019.1,222.566 2036.15,258.097 2053.2,225.258 2070.25,290.399 2087.3,342.081 2104.35,342.62 2121.4,271.018 \n  2138.45,239.793 2155.5,252.176 2172.55,320.547 2189.6,301.704 2206.64,299.551 2223.69,334.544 2240.74,309.242 2257.79,326.469 2274.84,302.781 2291.89,282.324 \n  \n  \"/>\n<path clip-path=\"url(#clip640)\" d=\"\nM1989.69 198.898 L2281.07 198.898 L2281.07 95.2176 L1989.69 95.2176  Z\n  \" fill=\"#ffffff\" fill-rule=\"evenodd\" fill-opacity=\"1\"/>\n<polyline clip-path=\"url(#clip640)\" style=\"stroke:#000000; stroke-linecap:butt; stroke-linejoin:round; stroke-width:4; stroke-opacity:1; fill:none\" points=\"\n  1989.69,198.898 2281.07,198.898 2281.07,95.2176 1989.69,95.2176 1989.69,198.898 \n  \"/>\n<polyline clip-path=\"url(#clip640)\" style=\"stroke:#009af9; stroke-linecap:butt; stroke-linejoin:round; stroke-width:4; stroke-opacity:1; fill:none\" points=\"\n  2013.58,147.058 2156.95,147.058 \n  \"/>\n<path clip-path=\"url(#clip640)\" d=\"M2194.69 166.745 Q2192.89 171.375 2191.17 172.787 Q2189.46 174.199 2186.59 174.199 L2183.19 174.199 L2183.19 170.634 L2185.69 170.634 Q2187.45 170.634 2188.42 169.8 Q2189.39 168.967 2190.57 165.865 L2191.34 163.921 L2180.85 138.412 L2185.36 138.412 L2193.46 158.689 L2201.57 138.412 L2206.08 138.412 L2194.69 166.745 Z\" fill=\"#000000\" fill-rule=\"evenodd\" fill-opacity=\"1\" /><path clip-path=\"url(#clip640)\" d=\"M2213.37 160.402 L2221.01 160.402 L2221.01 134.037 L2212.7 135.703 L2212.7 131.444 L2220.96 129.778 L2225.64 129.778 L2225.64 160.402 L2233.28 160.402 L2233.28 164.338 L2213.37 164.338 L2213.37 160.402 Z\" fill=\"#000000\" fill-rule=\"evenodd\" fill-opacity=\"1\" /></svg>\n"
     },
     "execution_count": 8,
     "metadata": {},
     "output_type": "execute_result"
    },
    {
     "name": "stderr",
     "output_type": "stream",
     "text": [
      "WARNING: CPU random generator seem to be failing, disabling hardware random number generation\n",
      "WARNING: RDRND generated: 0xffffffff 0xffffffff 0xffffffff 0xffffffff\n"
     ]
    }
   ],
   "source": [
    "# The earlier eras are smaller, but generally each era is 4000-5000 rows\n",
    "\n",
    "group_df = combine(groupby(df, :erano), nrow => :count)\n",
    "plot(group_df.erano, group_df.count)"
   ]
  },
  {
   "cell_type": "code",
   "execution_count": 9,
   "id": "1c8e9d30-89a2-4584-87fd-0f5cb4f11e17",
   "metadata": {},
   "outputs": [
    {
     "data": {
      "text/html": [
       "<div class=\"data-frame\"><p>5 rows × 2 columns</p><table class=\"data-frame\"><thead><tr><th></th><th>target</th><th>count</th></tr><tr><th></th><th title=\"Float64\">Float64</th><th title=\"Int64\">Int64</th></tr></thead><tbody><tr><th>1</th><td>0.5</td><td>251677</td></tr><tr><th>2</th><td>0.25</td><td>100053</td></tr><tr><th>3</th><td>0.75</td><td>100045</td></tr><tr><th>4</th><td>0.0</td><td>25016</td></tr><tr><th>5</th><td>1.0</td><td>25017</td></tr></tbody></table></div>"
      ],
      "text/latex": [
       "\\begin{tabular}{r|cc}\n",
       "\t& target & count\\\\\n",
       "\t\\hline\n",
       "\t& Float64 & Int64\\\\\n",
       "\t\\hline\n",
       "\t1 & 0.5 & 251677 \\\\\n",
       "\t2 & 0.25 & 100053 \\\\\n",
       "\t3 & 0.75 & 100045 \\\\\n",
       "\t4 & 0.0 & 25016 \\\\\n",
       "\t5 & 1.0 & 25017 \\\\\n",
       "\\end{tabular}\n"
      ],
      "text/plain": [
       "\u001b[1m5×2 DataFrame\u001b[0m\n",
       "\u001b[1m Row \u001b[0m│\u001b[1m target  \u001b[0m\u001b[1m count  \u001b[0m\n",
       "\u001b[1m     \u001b[0m│\u001b[90m Float64 \u001b[0m\u001b[90m Int64  \u001b[0m\n",
       "─────┼─────────────────\n",
       "   1 │    0.5   251677\n",
       "   2 │    0.25  100053\n",
       "   3 │    0.75  100045\n",
       "   4 │    0.0    25016\n",
       "   5 │    1.0    25017"
      ]
     },
     "execution_count": 9,
     "metadata": {},
     "output_type": "execute_result"
    }
   ],
   "source": [
    "# The target is discrete and takes on 5 different values\n",
    "\n",
    "combine(groupby(df, :target), nrow => :count)"
   ]
  },
  {
   "cell_type": "markdown",
   "id": "b61a4d06-8b5e-437d-96b7-424cce94a5cf",
   "metadata": {},
   "source": [
    "# Some of the features are very correlated\n",
    "Especially within feature groups"
   ]
  },
  {
   "cell_type": "code",
   "execution_count": 10,
   "id": "c29c8684-a83b-4f78-8324-a44b70268358",
   "metadata": {},
   "outputs": [
    {
     "data": {
      "text/html": [
       "<div class=\"data-frame\"><p>5 rows × 311 columns (omitted printing of 307 columns)</p><table class=\"data-frame\"><thead><tr><th></th><th>features</th><th>feature_intelligence1</th><th>feature_intelligence2</th><th>feature_intelligence3</th></tr><tr><th></th><th title=\"String\">String</th><th title=\"Float64\">Float64</th><th title=\"Float64\">Float64</th><th title=\"Float64\">Float64</th></tr></thead><tbody><tr><th>1</th><td>feature_intelligence1</td><td>1.0</td><td>-0.0141565</td><td>-0.0244041</td></tr><tr><th>2</th><td>feature_intelligence2</td><td>-0.0141565</td><td>1.0</td><td>0.905315</td></tr><tr><th>3</th><td>feature_intelligence3</td><td>-0.0244041</td><td>0.905315</td><td>1.0</td></tr><tr><th>4</th><td>feature_intelligence4</td><td>0.652596</td><td>-0.0280969</td><td>-0.0410859</td></tr><tr><th>5</th><td>feature_intelligence5</td><td>0.0698683</td><td>0.184372</td><td>0.17387</td></tr></tbody></table></div>"
      ],
      "text/latex": [
       "\\begin{tabular}{r|ccccc}\n",
       "\t& features & feature\\_intelligence1 & feature\\_intelligence2 & feature\\_intelligence3 & \\\\\n",
       "\t\\hline\n",
       "\t& String & Float64 & Float64 & Float64 & \\\\\n",
       "\t\\hline\n",
       "\t1 & feature\\_intelligence1 & 1.0 & -0.0141565 & -0.0244041 & $\\dots$ \\\\\n",
       "\t2 & feature\\_intelligence2 & -0.0141565 & 1.0 & 0.905315 & $\\dots$ \\\\\n",
       "\t3 & feature\\_intelligence3 & -0.0244041 & 0.905315 & 1.0 & $\\dots$ \\\\\n",
       "\t4 & feature\\_intelligence4 & 0.652596 & -0.0280969 & -0.0410859 & $\\dots$ \\\\\n",
       "\t5 & feature\\_intelligence5 & 0.0698683 & 0.184372 & 0.17387 & $\\dots$ \\\\\n",
       "\\end{tabular}\n"
      ],
      "text/plain": [
       "\u001b[1m5×311 DataFrame\u001b[0m\n",
       "\u001b[1m Row \u001b[0m│\u001b[1m features              \u001b[0m\u001b[1m feature_intelligence1 \u001b[0m\u001b[1m feature_intelligence2 \u001b[0m\u001b[1m fe\u001b[0m ⋯\n",
       "\u001b[1m     \u001b[0m│\u001b[90m String                \u001b[0m\u001b[90m Float64               \u001b[0m\u001b[90m Float64               \u001b[0m\u001b[90m Fl\u001b[0m ⋯\n",
       "─────┼──────────────────────────────────────────────────────────────────────────\n",
       "   1 │ feature_intelligence1              1.0                   -0.0141565     ⋯\n",
       "   2 │ feature_intelligence2             -0.0141565              1.0\n",
       "   3 │ feature_intelligence3             -0.0244041              0.905315\n",
       "   4 │ feature_intelligence4              0.652596              -0.0280969\n",
       "   5 │ feature_intelligence5              0.0698683              0.184372      ⋯\n",
       "\u001b[36m                                                             308 columns omitted\u001b[0m"
      ]
     },
     "execution_count": 10,
     "metadata": {},
     "output_type": "execute_result"
    }
   ],
   "source": [
    "feature_corrs = DataFrame(cor(Matrix(df[!, names(df, features)])), features)\n",
    "insertcols!(feature_corrs, 1, :features => features)\n",
    "\n",
    "first(feature_corrs,5)"
   ]
  },
  {
   "cell_type": "code",
   "execution_count": 11,
   "id": "a5408293-e517-42ca-81a8-62a5278f34f7",
   "metadata": {},
   "outputs": [
    {
     "data": {
      "text/html": [
       "<div class=\"data-frame\"><p>5 rows × 3 columns</p><table class=\"data-frame\"><thead><tr><th></th><th>features</th><th>variable</th><th>value</th></tr><tr><th></th><th title=\"String\">String</th><th title=\"String\">String</th><th title=\"Float64\">Float64</th></tr></thead><tbody><tr><th>1</th><td>feature_intelligence1</td><td>feature_intelligence1</td><td>1.0</td></tr><tr><th>2</th><td>feature_intelligence2</td><td>feature_intelligence1</td><td>-0.0141565</td></tr><tr><th>3</th><td>feature_intelligence3</td><td>feature_intelligence1</td><td>-0.0244041</td></tr><tr><th>4</th><td>feature_intelligence4</td><td>feature_intelligence1</td><td>0.652596</td></tr><tr><th>5</th><td>feature_intelligence5</td><td>feature_intelligence1</td><td>0.0698683</td></tr></tbody></table></div>"
      ],
      "text/latex": [
       "\\begin{tabular}{r|ccc}\n",
       "\t& features & variable & value\\\\\n",
       "\t\\hline\n",
       "\t& String & String & Float64\\\\\n",
       "\t\\hline\n",
       "\t1 & feature\\_intelligence1 & feature\\_intelligence1 & 1.0 \\\\\n",
       "\t2 & feature\\_intelligence2 & feature\\_intelligence1 & -0.0141565 \\\\\n",
       "\t3 & feature\\_intelligence3 & feature\\_intelligence1 & -0.0244041 \\\\\n",
       "\t4 & feature\\_intelligence4 & feature\\_intelligence1 & 0.652596 \\\\\n",
       "\t5 & feature\\_intelligence5 & feature\\_intelligence1 & 0.0698683 \\\\\n",
       "\\end{tabular}\n"
      ],
      "text/plain": [
       "\u001b[1m5×3 DataFrame\u001b[0m\n",
       "\u001b[1m Row \u001b[0m│\u001b[1m features              \u001b[0m\u001b[1m variable              \u001b[0m\u001b[1m value      \u001b[0m\n",
       "\u001b[1m     \u001b[0m│\u001b[90m String                \u001b[0m\u001b[90m String                \u001b[0m\u001b[90m Float64    \u001b[0m\n",
       "─────┼──────────────────────────────────────────────────────────\n",
       "   1 │ feature_intelligence1  feature_intelligence1   1.0\n",
       "   2 │ feature_intelligence2  feature_intelligence1  -0.0141565\n",
       "   3 │ feature_intelligence3  feature_intelligence1  -0.0244041\n",
       "   4 │ feature_intelligence4  feature_intelligence1   0.652596\n",
       "   5 │ feature_intelligence5  feature_intelligence1   0.0698683"
      ]
     },
     "execution_count": 11,
     "metadata": {},
     "output_type": "execute_result"
    }
   ],
   "source": [
    "first(stack(feature_corrs), 5)"
   ]
  },
  {
   "cell_type": "code",
   "execution_count": 12,
   "id": "5f67d8b8-d794-498f-949c-a77fe6441fb9",
   "metadata": {},
   "outputs": [
    {
     "data": {
      "text/html": [
       "<div class=\"data-frame\"><p>10 rows × 3 columns</p><table class=\"data-frame\"><thead><tr><th></th><th>features</th><th>variable</th><th>value</th></tr><tr><th></th><th title=\"String\">String</th><th title=\"String\">String</th><th title=\"Float64\">Float64</th></tr></thead><tbody><tr><th>1</th><td>feature_constitution9</td><td>feature_constitution112</td><td>-0.855008</td></tr><tr><th>2</th><td>feature_constitution46</td><td>feature_constitution33</td><td>-0.83031</td></tr><tr><th>3</th><td>feature_constitution60</td><td>feature_constitution112</td><td>-0.820694</td></tr><tr><th>4</th><td>feature_constitution87</td><td>feature_constitution46</td><td>-0.815888</td></tr><tr><th>5</th><td>feature_constitution33</td><td>feature_constitution112</td><td>-0.759084</td></tr><tr><th>6</th><td>feature_constitution7</td><td>feature_constitution27</td><td>0.94892</td></tr><tr><th>7</th><td>feature_constitution79</td><td>feature_constitution13</td><td>0.949139</td></tr><tr><th>8</th><td>feature_wisdom39</td><td>feature_wisdom31</td><td>0.954984</td></tr><tr><th>9</th><td>feature_wisdom7</td><td>feature_wisdom46</td><td>0.963706</td></tr><tr><th>10</th><td>feature_wisdom2</td><td>feature_wisdom12</td><td>0.968062</td></tr></tbody></table></div>"
      ],
      "text/latex": [
       "\\begin{tabular}{r|ccc}\n",
       "\t& features & variable & value\\\\\n",
       "\t\\hline\n",
       "\t& String & String & Float64\\\\\n",
       "\t\\hline\n",
       "\t1 & feature\\_constitution9 & feature\\_constitution112 & -0.855008 \\\\\n",
       "\t2 & feature\\_constitution46 & feature\\_constitution33 & -0.83031 \\\\\n",
       "\t3 & feature\\_constitution60 & feature\\_constitution112 & -0.820694 \\\\\n",
       "\t4 & feature\\_constitution87 & feature\\_constitution46 & -0.815888 \\\\\n",
       "\t5 & feature\\_constitution33 & feature\\_constitution112 & -0.759084 \\\\\n",
       "\t6 & feature\\_constitution7 & feature\\_constitution27 & 0.94892 \\\\\n",
       "\t7 & feature\\_constitution79 & feature\\_constitution13 & 0.949139 \\\\\n",
       "\t8 & feature\\_wisdom39 & feature\\_wisdom31 & 0.954984 \\\\\n",
       "\t9 & feature\\_wisdom7 & feature\\_wisdom46 & 0.963706 \\\\\n",
       "\t10 & feature\\_wisdom2 & feature\\_wisdom12 & 0.968062 \\\\\n",
       "\\end{tabular}\n"
      ],
      "text/plain": [
       "\u001b[1m10×3 DataFrame\u001b[0m\n",
       "\u001b[1m Row \u001b[0m│\u001b[1m features               \u001b[0m\u001b[1m variable                \u001b[0m\u001b[1m value     \u001b[0m\n",
       "\u001b[1m     \u001b[0m│\u001b[90m String                 \u001b[0m\u001b[90m String                  \u001b[0m\u001b[90m Float64   \u001b[0m\n",
       "─────┼────────────────────────────────────────────────────────────\n",
       "   1 │ feature_constitution9   feature_constitution112  -0.855008\n",
       "   2 │ feature_constitution46  feature_constitution33   -0.83031\n",
       "   3 │ feature_constitution60  feature_constitution112  -0.820694\n",
       "   4 │ feature_constitution87  feature_constitution46   -0.815888\n",
       "   5 │ feature_constitution33  feature_constitution112  -0.759084\n",
       "   6 │ feature_constitution7   feature_constitution27    0.94892\n",
       "   7 │ feature_constitution79  feature_constitution13    0.949139\n",
       "   8 │ feature_wisdom39        feature_wisdom31          0.954984\n",
       "   9 │ feature_wisdom7         feature_wisdom46          0.963706\n",
       "  10 │ feature_wisdom2         feature_wisdom12          0.968062"
      ]
     },
     "execution_count": 12,
     "metadata": {},
     "output_type": "execute_result"
    }
   ],
   "source": [
    "tdf = stack(feature_corrs)\n",
    "tdf = tdf[coalesce.(tdf.variable .< tdf.features, false), :]\n",
    "\n",
    "sort!(tdf, :value)\n",
    "vcat(first(tdf, 5), last(tdf, 5))"
   ]
  },
  {
   "cell_type": "markdown",
   "id": "01672d59-36bb-4e28-a022-72afcc93d2c9",
   "metadata": {},
   "source": [
    "### The correlation can change over time\n",
    "You can see this by comparing feature correlations on the first half and second half on the training set"
   ]
  },
  {
   "cell_type": "code",
   "execution_count": 13,
   "id": "d077ebee-2ab6-4f81-b66a-2ca5fd76f1fa",
   "metadata": {},
   "outputs": [
    {
     "data": {
      "text/html": [
       "<div class=\"data-frame\"><p>10 rows × 5 columns</p><table class=\"data-frame\"><thead><tr><th></th><th>features</th><th>variable</th><th>corr₁</th><th>corr₂</th><th>corr_diff</th></tr><tr><th></th><th title=\"String\">String</th><th title=\"String\">String</th><th title=\"Float64\">Float64</th><th title=\"Union{Missing, Float64}\">Float64?</th><th title=\"Float64\">Float64</th></tr></thead><tbody><tr><th>1</th><td>feature_intelligence9</td><td>feature_intelligence11</td><td>0.0913519</td><td>-0.128851</td><td>-0.220203</td></tr><tr><th>2</th><td>feature_intelligence10</td><td>feature_dexterity12</td><td>0.548931</td><td>0.343117</td><td>-0.205814</td></tr><tr><th>3</th><td>feature_intelligence11</td><td>feature_dexterity9</td><td>0.0787148</td><td>-0.12707</td><td>-0.205785</td></tr><tr><th>4</th><td>feature_dexterity12</td><td>feature_dexterity1</td><td>0.653528</td><td>0.447942</td><td>-0.205587</td></tr><tr><th>5</th><td>feature_intelligence11</td><td>feature_intelligence10</td><td>0.0750222</td><td>-0.130511</td><td>-0.205534</td></tr><tr><th>6</th><td>feature_wisdom22</td><td>feature_intelligence8</td><td>-0.0883461</td><td>0.117772</td><td>0.206119</td></tr><tr><th>7</th><td>feature_wisdom43</td><td>feature_intelligence4</td><td>-0.102438</td><td>0.103758</td><td>0.206197</td></tr><tr><th>8</th><td>feature_wisdom33</td><td>feature_intelligence4</td><td>-0.0789296</td><td>0.133664</td><td>0.212593</td></tr><tr><th>9</th><td>feature_wisdom43</td><td>feature_intelligence8</td><td>-0.121306</td><td>0.115194</td><td>0.236501</td></tr><tr><th>10</th><td>feature_wisdom33</td><td>feature_intelligence8</td><td>-0.0917593</td><td>0.150549</td><td>0.242308</td></tr></tbody></table></div>"
      ],
      "text/latex": [
       "\\begin{tabular}{r|ccccc}\n",
       "\t& features & variable & corr₁ & corr₂ & corr\\_diff\\\\\n",
       "\t\\hline\n",
       "\t& String & String & Float64 & Float64? & Float64\\\\\n",
       "\t\\hline\n",
       "\t1 & feature\\_intelligence9 & feature\\_intelligence11 & 0.0913519 & -0.128851 & -0.220203 \\\\\n",
       "\t2 & feature\\_intelligence10 & feature\\_dexterity12 & 0.548931 & 0.343117 & -0.205814 \\\\\n",
       "\t3 & feature\\_intelligence11 & feature\\_dexterity9 & 0.0787148 & -0.12707 & -0.205785 \\\\\n",
       "\t4 & feature\\_dexterity12 & feature\\_dexterity1 & 0.653528 & 0.447942 & -0.205587 \\\\\n",
       "\t5 & feature\\_intelligence11 & feature\\_intelligence10 & 0.0750222 & -0.130511 & -0.205534 \\\\\n",
       "\t6 & feature\\_wisdom22 & feature\\_intelligence8 & -0.0883461 & 0.117772 & 0.206119 \\\\\n",
       "\t7 & feature\\_wisdom43 & feature\\_intelligence4 & -0.102438 & 0.103758 & 0.206197 \\\\\n",
       "\t8 & feature\\_wisdom33 & feature\\_intelligence4 & -0.0789296 & 0.133664 & 0.212593 \\\\\n",
       "\t9 & feature\\_wisdom43 & feature\\_intelligence8 & -0.121306 & 0.115194 & 0.236501 \\\\\n",
       "\t10 & feature\\_wisdom33 & feature\\_intelligence8 & -0.0917593 & 0.150549 & 0.242308 \\\\\n",
       "\\end{tabular}\n"
      ],
      "text/plain": [
       "\u001b[1m10×5 DataFrame\u001b[0m\n",
       "\u001b[1m Row \u001b[0m│\u001b[1m features               \u001b[0m\u001b[1m variable               \u001b[0m\u001b[1m corr₁      \u001b[0m\u001b[1m corr₂     \u001b[0m\u001b[1m \u001b[0m ⋯\n",
       "\u001b[1m     \u001b[0m│\u001b[90m String                 \u001b[0m\u001b[90m String                 \u001b[0m\u001b[90m Float64    \u001b[0m\u001b[90m Float64?  \u001b[0m\u001b[90m \u001b[0m ⋯\n",
       "─────┼──────────────────────────────────────────────────────────────────────────\n",
       "   1 │ feature_intelligence9   feature_intelligence11   0.0913519  -0.128851   ⋯\n",
       "   2 │ feature_intelligence10  feature_dexterity12      0.548931    0.343117\n",
       "   3 │ feature_intelligence11  feature_dexterity9       0.0787148  -0.12707\n",
       "   4 │ feature_dexterity12     feature_dexterity1       0.653528    0.447942\n",
       "   5 │ feature_intelligence11  feature_intelligence10   0.0750222  -0.130511   ⋯\n",
       "   6 │ feature_wisdom22        feature_intelligence8   -0.0883461   0.117772\n",
       "   7 │ feature_wisdom43        feature_intelligence4   -0.102438    0.103758\n",
       "   8 │ feature_wisdom33        feature_intelligence4   -0.0789296   0.133664\n",
       "   9 │ feature_wisdom43        feature_intelligence8   -0.121306    0.115194   ⋯\n",
       "  10 │ feature_wisdom33        feature_intelligence8   -0.0917593   0.150549\n",
       "\u001b[36m                                                                1 column omitted\u001b[0m"
      ]
     },
     "execution_count": 13,
     "metadata": {},
     "output_type": "execute_result"
    }
   ],
   "source": [
    "df₁ = df[coalesce.(eras .<= median(eras), false), :]\n",
    "df₂ = df[coalesce.(eras .> median(eras), false), :]\n",
    "\n",
    "corr₁ = DataFrame(cor(Matrix(df₁[!, names(df₁, features)])), features)\n",
    "insertcols!(corr₁, 1, :features => features)\n",
    "corr₁ = stack(corr₁)\n",
    "corr₁ = corr₁[coalesce.(corr₁.variable .< corr₁.features, false), :]\n",
    "\n",
    "corr₂ = DataFrame(cor(Matrix(df₂[!, names(df₂, features)])), features)\n",
    "insertcols!(corr₂, 1, :features => features)\n",
    "corr₂ = stack(corr₂)\n",
    "corr₂ = corr₂[coalesce.(corr₂.variable .< corr₂.features, false), :]\n",
    "\n",
    "tdf = leftjoin(corr₁, corr₂, on = [:variable, :features], makeunique=true)\n",
    "rename!(tdf, [:value, :value_1] .=> [:corr₁, :corr₂])\n",
    "tdf.corr_diff = tdf.corr₂ - tdf.corr₁\n",
    "sort!(tdf, :corr_diff)\n",
    "\n",
    "vcat(first(tdf,5), last(tdf,5))"
   ]
  },
  {
   "cell_type": "markdown",
   "id": "100025f4-cbbb-4924-aff8-8ee31b591e54",
   "metadata": {},
   "source": [
    "## Some features are predictive on their own"
   ]
  },
  {
   "cell_type": "code",
   "execution_count": 14,
   "id": "9db6777e-777c-4150-af37-0629e2aaa27b",
   "metadata": {},
   "outputs": [],
   "source": [
    "feature_scores = \n",
    "    Dict(feature => numerai_score(df.target, df[!, feature], df) \n",
    "    for feature in features);"
   ]
  },
  {
   "cell_type": "code",
   "execution_count": 15,
   "id": "9fc95efa-dd8e-4969-a25f-16e62778c158",
   "metadata": {},
   "outputs": [
    {
     "data": {
      "text/plain": [
       "310-element Vector{Pair{String, Float64}}:\n",
       "      \"feature_dexterity7\" => -0.011504914975281387\n",
       "      \"feature_dexterity6\" => -0.011161569760516648\n",
       "      \"feature_dexterity4\" => -0.011051275935746707\n",
       "      \"feature_charisma69\" => -0.010221311263804505\n",
       "     \"feature_dexterity11\" => -0.010198611285978189\n",
       "       \"feature_charisma9\" => -0.01005025481510148\n",
       "     \"feature_dexterity12\" => -0.008647990681418269\n",
       "     \"feature_dexterity14\" => -0.008611934226827449\n",
       "      \"feature_dexterity3\" => -0.007607475423078082\n",
       "  \"feature_constitution91\" => -0.007343474478571397\n",
       "      \"feature_dexterity8\" => -0.0072798010318430835\n",
       "  \"feature_constitution56\" => -0.007206474137472462\n",
       " \"feature_constitution110\" => -0.007154545491821277\n",
       "                           ⋮\n",
       "       \"feature_strength4\" => 0.010184232051437234\n",
       "      \"feature_charisma81\" => 0.010224703123621929\n",
       "      \"feature_charisma46\" => 0.01039946229179084\n",
       "      \"feature_charisma66\" => 0.010507207995266913\n",
       "      \"feature_charisma54\" => 0.010507614931830764\n",
       "       \"feature_charisma6\" => 0.010580151207446348\n",
       "      \"feature_charisma76\" => 0.010608014161745269\n",
       "      \"feature_charisma18\" => 0.010697616377184683\n",
       "      \"feature_charisma19\" => 0.01071636820945142\n",
       "      \"feature_charisma37\" => 0.01089177370157534\n",
       "      \"feature_strength14\" => 0.01160884774563975\n",
       "      \"feature_strength34\" => 0.012487781133717898"
      ]
     },
     "execution_count": 15,
     "metadata": {},
     "output_type": "execute_result"
    }
   ],
   "source": [
    "sort(collect(feature_scores), by=x->x[2])"
   ]
  },
  {
   "cell_type": "code",
   "execution_count": 16,
   "id": "46a76eda-c6b9-4ee4-9370-b393059cdfbc",
   "metadata": {},
   "outputs": [
    {
     "data": {
      "image/svg+xml": "<?xml version=\"1.0\" encoding=\"utf-8\"?>\n<svg xmlns=\"http://www.w3.org/2000/svg\" xmlns:xlink=\"http://www.w3.org/1999/xlink\" width=\"600\" height=\"400\" viewBox=\"0 0 2400 1600\">\n<defs>\n  <clipPath id=\"clip680\">\n    <rect x=\"0\" y=\"0\" width=\"2400\" height=\"1600\"/>\n  </clipPath>\n</defs>\n<path clip-path=\"url(#clip680)\" d=\"\nM0 1600 L2400 1600 L2400 0 L0 0  Z\n  \" fill=\"#ffffff\" fill-rule=\"evenodd\" fill-opacity=\"1\"/>\n<defs>\n  <clipPath id=\"clip681\">\n    <rect x=\"480\" y=\"0\" width=\"1681\" height=\"1600\"/>\n  </clipPath>\n</defs>\n<path clip-path=\"url(#clip680)\" d=\"\nM222.501 1486.45 L2352.76 1486.45 L2352.76 47.2441 L222.501 47.2441  Z\n  \" fill=\"#ffffff\" fill-rule=\"evenodd\" fill-opacity=\"1\"/>\n<defs>\n  <clipPath id=\"clip682\">\n    <rect x=\"222\" y=\"47\" width=\"2131\" height=\"1440\"/>\n  </clipPath>\n</defs>\n<polyline clip-path=\"url(#clip682)\" style=\"stroke:#000000; stroke-linecap:butt; stroke-linejoin:round; stroke-width:2; stroke-opacity:0.1; fill:none\" points=\"\n  265.903,1486.45 265.903,47.2441 \n  \"/>\n<polyline clip-path=\"url(#clip682)\" style=\"stroke:#000000; stroke-linecap:butt; stroke-linejoin:round; stroke-width:2; stroke-opacity:0.1; fill:none\" points=\"\n  688.103,1486.45 688.103,47.2441 \n  \"/>\n<polyline clip-path=\"url(#clip682)\" style=\"stroke:#000000; stroke-linecap:butt; stroke-linejoin:round; stroke-width:2; stroke-opacity:0.1; fill:none\" points=\"\n  1110.3,1486.45 1110.3,47.2441 \n  \"/>\n<polyline clip-path=\"url(#clip682)\" style=\"stroke:#000000; stroke-linecap:butt; stroke-linejoin:round; stroke-width:2; stroke-opacity:0.1; fill:none\" points=\"\n  1532.5,1486.45 1532.5,47.2441 \n  \"/>\n<polyline clip-path=\"url(#clip682)\" style=\"stroke:#000000; stroke-linecap:butt; stroke-linejoin:round; stroke-width:2; stroke-opacity:0.1; fill:none\" points=\"\n  1954.71,1486.45 1954.71,47.2441 \n  \"/>\n<polyline clip-path=\"url(#clip680)\" style=\"stroke:#000000; stroke-linecap:butt; stroke-linejoin:round; stroke-width:4; stroke-opacity:1; fill:none\" points=\"\n  222.501,1486.45 2352.76,1486.45 \n  \"/>\n<polyline clip-path=\"url(#clip680)\" style=\"stroke:#000000; stroke-linecap:butt; stroke-linejoin:round; stroke-width:4; stroke-opacity:1; fill:none\" points=\"\n  265.903,1486.45 265.903,1469.18 \n  \"/>\n<polyline clip-path=\"url(#clip680)\" style=\"stroke:#000000; stroke-linecap:butt; stroke-linejoin:round; stroke-width:4; stroke-opacity:1; fill:none\" points=\"\n  688.103,1486.45 688.103,1469.18 \n  \"/>\n<polyline clip-path=\"url(#clip680)\" style=\"stroke:#000000; stroke-linecap:butt; stroke-linejoin:round; stroke-width:4; stroke-opacity:1; fill:none\" points=\"\n  1110.3,1486.45 1110.3,1469.18 \n  \"/>\n<polyline clip-path=\"url(#clip680)\" style=\"stroke:#000000; stroke-linecap:butt; stroke-linejoin:round; stroke-width:4; stroke-opacity:1; fill:none\" points=\"\n  1532.5,1486.45 1532.5,1469.18 \n  \"/>\n<polyline clip-path=\"url(#clip680)\" style=\"stroke:#000000; stroke-linecap:butt; stroke-linejoin:round; stroke-width:4; stroke-opacity:1; fill:none\" points=\"\n  1954.71,1486.45 1954.71,1469.18 \n  \"/>\n<path clip-path=\"url(#clip680)\" d=\"M265.903 1515.64 Q262.292 1515.64 260.463 1519.2 Q258.658 1522.75 258.658 1529.87 Q258.658 1536.98 260.463 1540.55 Q262.292 1544.09 265.903 1544.09 Q269.537 1544.09 271.343 1540.55 Q273.171 1536.98 273.171 1529.87 Q273.171 1522.75 271.343 1519.2 Q269.537 1515.64 265.903 1515.64 M265.903 1511.93 Q271.713 1511.93 274.769 1516.54 Q277.847 1521.12 277.847 1529.87 Q277.847 1538.6 274.769 1543.21 Q271.713 1547.79 265.903 1547.79 Q260.093 1547.79 257.014 1543.21 Q253.958 1538.6 253.958 1529.87 Q253.958 1521.12 257.014 1516.54 Q260.093 1511.93 265.903 1511.93 Z\" fill=\"#000000\" fill-rule=\"evenodd\" fill-opacity=\"1\" /><path clip-path=\"url(#clip680)\" d=\"M667.374 1543.18 L683.694 1543.18 L683.694 1547.12 L661.749 1547.12 L661.749 1543.18 Q664.411 1540.43 668.995 1535.8 Q673.601 1531.15 674.782 1529.81 Q677.027 1527.28 677.907 1525.55 Q678.81 1523.79 678.81 1522.1 Q678.81 1519.34 676.865 1517.61 Q674.944 1515.87 671.842 1515.87 Q669.643 1515.87 667.189 1516.63 Q664.759 1517.4 661.981 1518.95 L661.981 1514.23 Q664.805 1513.09 667.259 1512.51 Q669.712 1511.93 671.749 1511.93 Q677.12 1511.93 680.314 1514.62 Q683.509 1517.31 683.509 1521.8 Q683.509 1523.93 682.698 1525.85 Q681.911 1527.74 679.805 1530.34 Q679.226 1531.01 676.124 1534.23 Q673.023 1537.42 667.374 1543.18 Z\" fill=\"#000000\" fill-rule=\"evenodd\" fill-opacity=\"1\" /><path clip-path=\"url(#clip680)\" d=\"M693.555 1512.56 L711.911 1512.56 L711.911 1516.5 L697.837 1516.5 L697.837 1524.97 Q698.856 1524.62 699.874 1524.46 Q700.893 1524.27 701.911 1524.27 Q707.698 1524.27 711.078 1527.44 Q714.457 1530.62 714.457 1536.03 Q714.457 1541.61 710.985 1544.71 Q707.513 1547.79 701.194 1547.79 Q699.018 1547.79 696.749 1547.42 Q694.504 1547.05 692.096 1546.31 L692.096 1541.61 Q694.18 1542.74 696.402 1543.3 Q698.624 1543.86 701.101 1543.86 Q705.106 1543.86 707.444 1541.75 Q709.782 1539.64 709.782 1536.03 Q709.782 1532.42 707.444 1530.31 Q705.106 1528.21 701.101 1528.21 Q699.226 1528.21 697.351 1528.62 Q695.499 1529.04 693.555 1529.92 L693.555 1512.56 Z\" fill=\"#000000\" fill-rule=\"evenodd\" fill-opacity=\"1\" /><path clip-path=\"url(#clip680)\" d=\"M1085 1512.56 L1103.36 1512.56 L1103.36 1516.5 L1089.29 1516.5 L1089.29 1524.97 Q1090.3 1524.62 1091.32 1524.46 Q1092.34 1524.27 1093.36 1524.27 Q1099.15 1524.27 1102.53 1527.44 Q1105.91 1530.62 1105.91 1536.03 Q1105.91 1541.61 1102.43 1544.71 Q1098.96 1547.79 1092.64 1547.79 Q1090.47 1547.79 1088.2 1547.42 Q1085.95 1547.05 1083.54 1546.31 L1083.54 1541.61 Q1085.63 1542.74 1087.85 1543.3 Q1090.07 1543.86 1092.55 1543.86 Q1096.55 1543.86 1098.89 1541.75 Q1101.23 1539.64 1101.23 1536.03 Q1101.23 1532.42 1098.89 1530.31 Q1096.55 1528.21 1092.55 1528.21 Q1090.67 1528.21 1088.8 1528.62 Q1086.95 1529.04 1085 1529.92 L1085 1512.56 Z\" fill=\"#000000\" fill-rule=\"evenodd\" fill-opacity=\"1\" /><path clip-path=\"url(#clip680)\" d=\"M1125.12 1515.64 Q1121.51 1515.64 1119.68 1519.2 Q1117.87 1522.75 1117.87 1529.87 Q1117.87 1536.98 1119.68 1540.55 Q1121.51 1544.09 1125.12 1544.09 Q1128.75 1544.09 1130.56 1540.55 Q1132.39 1536.98 1132.39 1529.87 Q1132.39 1522.75 1130.56 1519.2 Q1128.75 1515.64 1125.12 1515.64 M1125.12 1511.93 Q1130.93 1511.93 1133.98 1516.54 Q1137.06 1521.12 1137.06 1529.87 Q1137.06 1538.6 1133.98 1543.21 Q1130.93 1547.79 1125.12 1547.79 Q1119.31 1547.79 1116.23 1543.21 Q1113.17 1538.6 1113.17 1529.87 Q1113.17 1521.12 1116.23 1516.54 Q1119.31 1511.93 1125.12 1511.93 Z\" fill=\"#000000\" fill-rule=\"evenodd\" fill-opacity=\"1\" /><path clip-path=\"url(#clip680)\" d=\"M1506.36 1512.56 L1528.58 1512.56 L1528.58 1514.55 L1516.03 1547.12 L1511.15 1547.12 L1522.96 1516.5 L1506.36 1516.5 L1506.36 1512.56 Z\" fill=\"#000000\" fill-rule=\"evenodd\" fill-opacity=\"1\" /><path clip-path=\"url(#clip680)\" d=\"M1537.75 1512.56 L1556.1 1512.56 L1556.1 1516.5 L1542.03 1516.5 L1542.03 1524.97 Q1543.05 1524.62 1544.07 1524.46 Q1545.09 1524.27 1546.1 1524.27 Q1551.89 1524.27 1555.27 1527.44 Q1558.65 1530.62 1558.65 1536.03 Q1558.65 1541.61 1555.18 1544.71 Q1551.71 1547.79 1545.39 1547.79 Q1543.21 1547.79 1540.94 1547.42 Q1538.7 1547.05 1536.29 1546.31 L1536.29 1541.61 Q1538.37 1542.74 1540.59 1543.3 Q1542.82 1543.86 1545.29 1543.86 Q1549.3 1543.86 1551.64 1541.75 Q1553.97 1539.64 1553.97 1536.03 Q1553.97 1532.42 1551.64 1530.31 Q1549.3 1528.21 1545.29 1528.21 Q1543.42 1528.21 1541.54 1528.62 Q1539.69 1529.04 1537.75 1529.92 L1537.75 1512.56 Z\" fill=\"#000000\" fill-rule=\"evenodd\" fill-opacity=\"1\" /><path clip-path=\"url(#clip680)\" d=\"M1914.31 1543.18 L1921.95 1543.18 L1921.95 1516.82 L1913.64 1518.49 L1913.64 1514.23 L1921.9 1512.56 L1926.58 1512.56 L1926.58 1543.18 L1934.22 1543.18 L1934.22 1547.12 L1914.31 1547.12 L1914.31 1543.18 Z\" fill=\"#000000\" fill-rule=\"evenodd\" fill-opacity=\"1\" /><path clip-path=\"url(#clip680)\" d=\"M1953.66 1515.64 Q1950.05 1515.64 1948.22 1519.2 Q1946.42 1522.75 1946.42 1529.87 Q1946.42 1536.98 1948.22 1540.55 Q1950.05 1544.09 1953.66 1544.09 Q1957.3 1544.09 1959.1 1540.55 Q1960.93 1536.98 1960.93 1529.87 Q1960.93 1522.75 1959.1 1519.2 Q1957.3 1515.64 1953.66 1515.64 M1953.66 1511.93 Q1959.47 1511.93 1962.53 1516.54 Q1965.61 1521.12 1965.61 1529.87 Q1965.61 1538.6 1962.53 1543.21 Q1959.47 1547.79 1953.66 1547.79 Q1947.85 1547.79 1944.77 1543.21 Q1941.72 1538.6 1941.72 1529.87 Q1941.72 1521.12 1944.77 1516.54 Q1947.85 1511.93 1953.66 1511.93 Z\" fill=\"#000000\" fill-rule=\"evenodd\" fill-opacity=\"1\" /><path clip-path=\"url(#clip680)\" d=\"M1983.83 1515.64 Q1980.21 1515.64 1978.39 1519.2 Q1976.58 1522.75 1976.58 1529.87 Q1976.58 1536.98 1978.39 1540.55 Q1980.21 1544.09 1983.83 1544.09 Q1987.46 1544.09 1989.27 1540.55 Q1991.09 1536.98 1991.09 1529.87 Q1991.09 1522.75 1989.27 1519.2 Q1987.46 1515.64 1983.83 1515.64 M1983.83 1511.93 Q1989.64 1511.93 1992.69 1516.54 Q1995.77 1521.12 1995.77 1529.87 Q1995.77 1538.6 1992.69 1543.21 Q1989.64 1547.79 1983.83 1547.79 Q1978.02 1547.79 1974.94 1543.21 Q1971.88 1538.6 1971.88 1529.87 Q1971.88 1521.12 1974.94 1516.54 Q1978.02 1511.93 1983.83 1511.93 Z\" fill=\"#000000\" fill-rule=\"evenodd\" fill-opacity=\"1\" /><polyline clip-path=\"url(#clip682)\" style=\"stroke:#000000; stroke-linecap:butt; stroke-linejoin:round; stroke-width:2; stroke-opacity:0.1; fill:none\" points=\"\n  222.501,1353.48 2352.76,1353.48 \n  \"/>\n<polyline clip-path=\"url(#clip682)\" style=\"stroke:#000000; stroke-linecap:butt; stroke-linejoin:round; stroke-width:2; stroke-opacity:0.1; fill:none\" points=\"\n  222.501,1088.32 2352.76,1088.32 \n  \"/>\n<polyline clip-path=\"url(#clip682)\" style=\"stroke:#000000; stroke-linecap:butt; stroke-linejoin:round; stroke-width:2; stroke-opacity:0.1; fill:none\" points=\"\n  222.501,823.149 2352.76,823.149 \n  \"/>\n<polyline clip-path=\"url(#clip682)\" style=\"stroke:#000000; stroke-linecap:butt; stroke-linejoin:round; stroke-width:2; stroke-opacity:0.1; fill:none\" points=\"\n  222.501,557.981 2352.76,557.981 \n  \"/>\n<polyline clip-path=\"url(#clip682)\" style=\"stroke:#000000; stroke-linecap:butt; stroke-linejoin:round; stroke-width:2; stroke-opacity:0.1; fill:none\" points=\"\n  222.501,292.814 2352.76,292.814 \n  \"/>\n<polyline clip-path=\"url(#clip680)\" style=\"stroke:#000000; stroke-linecap:butt; stroke-linejoin:round; stroke-width:4; stroke-opacity:1; fill:none\" points=\"\n  222.501,1486.45 222.501,47.2441 \n  \"/>\n<polyline clip-path=\"url(#clip680)\" style=\"stroke:#000000; stroke-linecap:butt; stroke-linejoin:round; stroke-width:4; stroke-opacity:1; fill:none\" points=\"\n  222.501,1353.48 248.064,1353.48 \n  \"/>\n<polyline clip-path=\"url(#clip680)\" style=\"stroke:#000000; stroke-linecap:butt; stroke-linejoin:round; stroke-width:4; stroke-opacity:1; fill:none\" points=\"\n  222.501,1088.32 248.064,1088.32 \n  \"/>\n<polyline clip-path=\"url(#clip680)\" style=\"stroke:#000000; stroke-linecap:butt; stroke-linejoin:round; stroke-width:4; stroke-opacity:1; fill:none\" points=\"\n  222.501,823.149 248.064,823.149 \n  \"/>\n<polyline clip-path=\"url(#clip680)\" style=\"stroke:#000000; stroke-linecap:butt; stroke-linejoin:round; stroke-width:4; stroke-opacity:1; fill:none\" points=\"\n  222.501,557.981 248.064,557.981 \n  \"/>\n<polyline clip-path=\"url(#clip680)\" style=\"stroke:#000000; stroke-linecap:butt; stroke-linejoin:round; stroke-width:4; stroke-opacity:1; fill:none\" points=\"\n  222.501,292.814 248.064,292.814 \n  \"/>\n<path clip-path=\"url(#clip680)\" d=\"M50.9921 1353.93 L80.6679 1353.93 L80.6679 1357.87 L50.9921 1357.87 L50.9921 1353.93 Z\" fill=\"#000000\" fill-rule=\"evenodd\" fill-opacity=\"1\" /><path clip-path=\"url(#clip680)\" d=\"M100.76 1339.28 Q97.1493 1339.28 95.3206 1342.85 Q93.515 1346.39 93.515 1353.52 Q93.515 1360.62 95.3206 1364.19 Q97.1493 1367.73 100.76 1367.73 Q104.395 1367.73 106.2 1364.19 Q108.029 1360.62 108.029 1353.52 Q108.029 1346.39 106.2 1342.85 Q104.395 1339.28 100.76 1339.28 M100.76 1335.58 Q106.571 1335.58 109.626 1340.18 Q112.705 1344.77 112.705 1353.52 Q112.705 1362.24 109.626 1366.85 Q106.571 1371.43 100.76 1371.43 Q94.9502 1371.43 91.8715 1366.85 Q88.816 1362.24 88.816 1353.52 Q88.816 1344.77 91.8715 1340.18 Q94.9502 1335.58 100.76 1335.58 Z\" fill=\"#000000\" fill-rule=\"evenodd\" fill-opacity=\"1\" /><path clip-path=\"url(#clip680)\" d=\"M120.922 1364.88 L125.807 1364.88 L125.807 1370.76 L120.922 1370.76 L120.922 1364.88 Z\" fill=\"#000000\" fill-rule=\"evenodd\" fill-opacity=\"1\" /><path clip-path=\"url(#clip680)\" d=\"M145.992 1339.28 Q142.381 1339.28 140.552 1342.85 Q138.746 1346.39 138.746 1353.52 Q138.746 1360.62 140.552 1364.19 Q142.381 1367.73 145.992 1367.73 Q149.626 1367.73 151.431 1364.19 Q153.26 1360.62 153.26 1353.52 Q153.26 1346.39 151.431 1342.85 Q149.626 1339.28 145.992 1339.28 M145.992 1335.58 Q151.802 1335.58 154.857 1340.18 Q157.936 1344.77 157.936 1353.52 Q157.936 1362.24 154.857 1366.85 Q151.802 1371.43 145.992 1371.43 Q140.181 1371.43 137.103 1366.85 Q134.047 1362.24 134.047 1353.52 Q134.047 1344.77 137.103 1340.18 Q140.181 1335.58 145.992 1335.58 Z\" fill=\"#000000\" fill-rule=\"evenodd\" fill-opacity=\"1\" /><path clip-path=\"url(#clip680)\" d=\"M170.181 1366.83 L186.501 1366.83 L186.501 1370.76 L164.556 1370.76 L164.556 1366.83 Q167.218 1364.07 171.802 1359.44 Q176.408 1354.79 177.589 1353.45 Q179.834 1350.93 180.714 1349.19 Q181.616 1347.43 181.616 1345.74 Q181.616 1342.99 179.672 1341.25 Q177.751 1339.51 174.649 1339.51 Q172.45 1339.51 169.996 1340.28 Q167.566 1341.04 164.788 1342.59 L164.788 1337.87 Q167.612 1336.74 170.066 1336.16 Q172.519 1335.58 174.556 1335.58 Q179.927 1335.58 183.121 1338.26 Q186.315 1340.95 186.315 1345.44 Q186.315 1347.57 185.505 1349.49 Q184.718 1351.39 182.612 1353.98 Q182.033 1354.65 178.931 1357.87 Q175.829 1361.06 170.181 1366.83 Z\" fill=\"#000000\" fill-rule=\"evenodd\" fill-opacity=\"1\" /><path clip-path=\"url(#clip680)\" d=\"M99.1632 1074.11 Q95.5521 1074.11 93.7234 1077.68 Q91.9178 1081.22 91.9178 1088.35 Q91.9178 1095.46 93.7234 1099.02 Q95.5521 1102.56 99.1632 1102.56 Q102.797 1102.56 104.603 1099.02 Q106.432 1095.46 106.432 1088.35 Q106.432 1081.22 104.603 1077.68 Q102.797 1074.11 99.1632 1074.11 M99.1632 1070.41 Q104.973 1070.41 108.029 1075.02 Q111.108 1079.6 111.108 1088.35 Q111.108 1097.08 108.029 1101.68 Q104.973 1106.27 99.1632 1106.27 Q93.353 1106.27 90.2743 1101.68 Q87.2188 1097.08 87.2188 1088.35 Q87.2188 1079.6 90.2743 1075.02 Q93.353 1070.41 99.1632 1070.41 Z\" fill=\"#000000\" fill-rule=\"evenodd\" fill-opacity=\"1\" /><path clip-path=\"url(#clip680)\" d=\"M119.325 1099.72 L124.209 1099.72 L124.209 1105.6 L119.325 1105.6 L119.325 1099.72 Z\" fill=\"#000000\" fill-rule=\"evenodd\" fill-opacity=\"1\" /><path clip-path=\"url(#clip680)\" d=\"M144.394 1074.11 Q140.783 1074.11 138.955 1077.68 Q137.149 1081.22 137.149 1088.35 Q137.149 1095.46 138.955 1099.02 Q140.783 1102.56 144.394 1102.56 Q148.029 1102.56 149.834 1099.02 Q151.663 1095.46 151.663 1088.35 Q151.663 1081.22 149.834 1077.68 Q148.029 1074.11 144.394 1074.11 M144.394 1070.41 Q150.205 1070.41 153.26 1075.02 Q156.339 1079.6 156.339 1088.35 Q156.339 1097.08 153.26 1101.68 Q150.205 1106.27 144.394 1106.27 Q138.584 1106.27 135.506 1101.68 Q132.45 1097.08 132.45 1088.35 Q132.45 1079.6 135.506 1075.02 Q138.584 1070.41 144.394 1070.41 Z\" fill=\"#000000\" fill-rule=\"evenodd\" fill-opacity=\"1\" /><path clip-path=\"url(#clip680)\" d=\"M174.556 1074.11 Q170.945 1074.11 169.116 1077.68 Q167.311 1081.22 167.311 1088.35 Q167.311 1095.46 169.116 1099.02 Q170.945 1102.56 174.556 1102.56 Q178.191 1102.56 179.996 1099.02 Q181.825 1095.46 181.825 1088.35 Q181.825 1081.22 179.996 1077.68 Q178.191 1074.11 174.556 1074.11 M174.556 1070.41 Q180.366 1070.41 183.422 1075.02 Q186.501 1079.6 186.501 1088.35 Q186.501 1097.08 183.422 1101.68 Q180.366 1106.27 174.556 1106.27 Q168.746 1106.27 165.667 1101.68 Q162.612 1097.08 162.612 1088.35 Q162.612 1079.6 165.667 1075.02 Q168.746 1070.41 174.556 1070.41 Z\" fill=\"#000000\" fill-rule=\"evenodd\" fill-opacity=\"1\" /><path clip-path=\"url(#clip680)\" d=\"M100.76 808.947 Q97.1493 808.947 95.3206 812.512 Q93.515 816.054 93.515 823.183 Q93.515 830.29 95.3206 833.855 Q97.1493 837.396 100.76 837.396 Q104.395 837.396 106.2 833.855 Q108.029 830.29 108.029 823.183 Q108.029 816.054 106.2 812.512 Q104.395 808.947 100.76 808.947 M100.76 805.244 Q106.571 805.244 109.626 809.85 Q112.705 814.433 112.705 823.183 Q112.705 831.91 109.626 836.517 Q106.571 841.1 100.76 841.1 Q94.9502 841.1 91.8715 836.517 Q88.816 831.91 88.816 823.183 Q88.816 814.433 91.8715 809.85 Q94.9502 805.244 100.76 805.244 Z\" fill=\"#000000\" fill-rule=\"evenodd\" fill-opacity=\"1\" /><path clip-path=\"url(#clip680)\" d=\"M120.922 834.549 L125.807 834.549 L125.807 840.429 L120.922 840.429 L120.922 834.549 Z\" fill=\"#000000\" fill-rule=\"evenodd\" fill-opacity=\"1\" /><path clip-path=\"url(#clip680)\" d=\"M145.992 808.947 Q142.381 808.947 140.552 812.512 Q138.746 816.054 138.746 823.183 Q138.746 830.29 140.552 833.855 Q142.381 837.396 145.992 837.396 Q149.626 837.396 151.431 833.855 Q153.26 830.29 153.26 823.183 Q153.26 816.054 151.431 812.512 Q149.626 808.947 145.992 808.947 M145.992 805.244 Q151.802 805.244 154.857 809.85 Q157.936 814.433 157.936 823.183 Q157.936 831.91 154.857 836.517 Q151.802 841.1 145.992 841.1 Q140.181 841.1 137.103 836.517 Q134.047 831.91 134.047 823.183 Q134.047 814.433 137.103 809.85 Q140.181 805.244 145.992 805.244 Z\" fill=\"#000000\" fill-rule=\"evenodd\" fill-opacity=\"1\" /><path clip-path=\"url(#clip680)\" d=\"M170.181 836.493 L186.501 836.493 L186.501 840.429 L164.556 840.429 L164.556 836.493 Q167.218 833.739 171.802 829.109 Q176.408 824.456 177.589 823.114 Q179.834 820.591 180.714 818.855 Q181.616 817.095 181.616 815.406 Q181.616 812.651 179.672 810.915 Q177.751 809.179 174.649 809.179 Q172.45 809.179 169.996 809.943 Q167.566 810.707 164.788 812.257 L164.788 807.535 Q167.612 806.401 170.066 805.822 Q172.519 805.244 174.556 805.244 Q179.927 805.244 183.121 807.929 Q186.315 810.614 186.315 815.105 Q186.315 817.234 185.505 819.156 Q184.718 821.054 182.612 823.646 Q182.033 824.318 178.931 827.535 Q175.829 830.73 170.181 836.493 Z\" fill=\"#000000\" fill-rule=\"evenodd\" fill-opacity=\"1\" /><path clip-path=\"url(#clip680)\" d=\"M98.6771 543.78 Q95.066 543.78 93.2373 547.345 Q91.4317 550.887 91.4317 558.016 Q91.4317 565.123 93.2373 568.687 Q95.066 572.229 98.6771 572.229 Q102.311 572.229 104.117 568.687 Q105.946 565.123 105.946 558.016 Q105.946 550.887 104.117 547.345 Q102.311 543.78 98.6771 543.78 M98.6771 540.076 Q104.487 540.076 107.543 544.683 Q110.621 549.266 110.621 558.016 Q110.621 566.743 107.543 571.349 Q104.487 575.933 98.6771 575.933 Q92.8669 575.933 89.7882 571.349 Q86.7327 566.743 86.7327 558.016 Q86.7327 549.266 89.7882 544.683 Q92.8669 540.076 98.6771 540.076 Z\" fill=\"#000000\" fill-rule=\"evenodd\" fill-opacity=\"1\" /><path clip-path=\"url(#clip680)\" d=\"M118.839 569.382 L123.723 569.382 L123.723 575.261 L118.839 575.261 L118.839 569.382 Z\" fill=\"#000000\" fill-rule=\"evenodd\" fill-opacity=\"1\" /><path clip-path=\"url(#clip680)\" d=\"M143.908 543.78 Q140.297 543.78 138.469 547.345 Q136.663 550.887 136.663 558.016 Q136.663 565.123 138.469 568.687 Q140.297 572.229 143.908 572.229 Q147.543 572.229 149.348 568.687 Q151.177 565.123 151.177 558.016 Q151.177 550.887 149.348 547.345 Q147.543 543.78 143.908 543.78 M143.908 540.076 Q149.718 540.076 152.774 544.683 Q155.853 549.266 155.853 558.016 Q155.853 566.743 152.774 571.349 Q149.718 575.933 143.908 575.933 Q138.098 575.933 135.019 571.349 Q131.964 566.743 131.964 558.016 Q131.964 549.266 135.019 544.683 Q138.098 540.076 143.908 540.076 Z\" fill=\"#000000\" fill-rule=\"evenodd\" fill-opacity=\"1\" /><path clip-path=\"url(#clip680)\" d=\"M176.917 544.776 L165.112 563.225 L176.917 563.225 L176.917 544.776 M175.691 540.701 L181.57 540.701 L181.57 563.225 L186.501 563.225 L186.501 567.113 L181.57 567.113 L181.57 575.261 L176.917 575.261 L176.917 567.113 L161.316 567.113 L161.316 562.6 L175.691 540.701 Z\" fill=\"#000000\" fill-rule=\"evenodd\" fill-opacity=\"1\" /><path clip-path=\"url(#clip680)\" d=\"M99.0011 278.613 Q95.39 278.613 93.5613 282.178 Q91.7558 285.719 91.7558 292.849 Q91.7558 299.956 93.5613 303.52 Q95.39 307.062 99.0011 307.062 Q102.635 307.062 104.441 303.52 Q106.27 299.956 106.27 292.849 Q106.27 285.719 104.441 282.178 Q102.635 278.613 99.0011 278.613 M99.0011 274.909 Q104.811 274.909 107.867 279.516 Q110.946 284.099 110.946 292.849 Q110.946 301.576 107.867 306.182 Q104.811 310.766 99.0011 310.766 Q93.191 310.766 90.1123 306.182 Q87.0567 301.576 87.0567 292.849 Q87.0567 284.099 90.1123 279.516 Q93.191 274.909 99.0011 274.909 Z\" fill=\"#000000\" fill-rule=\"evenodd\" fill-opacity=\"1\" /><path clip-path=\"url(#clip680)\" d=\"M119.163 304.215 L124.047 304.215 L124.047 310.094 L119.163 310.094 L119.163 304.215 Z\" fill=\"#000000\" fill-rule=\"evenodd\" fill-opacity=\"1\" /><path clip-path=\"url(#clip680)\" d=\"M144.232 278.613 Q140.621 278.613 138.793 282.178 Q136.987 285.719 136.987 292.849 Q136.987 299.956 138.793 303.52 Q140.621 307.062 144.232 307.062 Q147.867 307.062 149.672 303.52 Q151.501 299.956 151.501 292.849 Q151.501 285.719 149.672 282.178 Q147.867 278.613 144.232 278.613 M144.232 274.909 Q150.043 274.909 153.098 279.516 Q156.177 284.099 156.177 292.849 Q156.177 301.576 153.098 306.182 Q150.043 310.766 144.232 310.766 Q138.422 310.766 135.344 306.182 Q132.288 301.576 132.288 292.849 Q132.288 284.099 135.344 279.516 Q138.422 274.909 144.232 274.909 Z\" fill=\"#000000\" fill-rule=\"evenodd\" fill-opacity=\"1\" /><path clip-path=\"url(#clip680)\" d=\"M174.973 290.951 Q171.825 290.951 169.973 293.104 Q168.144 295.256 168.144 299.006 Q168.144 302.733 169.973 304.909 Q171.825 307.062 174.973 307.062 Q178.121 307.062 179.95 304.909 Q181.802 302.733 181.802 299.006 Q181.802 295.256 179.95 293.104 Q178.121 290.951 174.973 290.951 M184.255 276.298 L184.255 280.557 Q182.496 279.724 180.691 279.284 Q178.908 278.845 177.149 278.845 Q172.519 278.845 170.066 281.969 Q167.635 285.094 167.288 291.414 Q168.654 289.4 170.714 288.335 Q172.774 287.247 175.251 287.247 Q180.459 287.247 183.468 290.419 Q186.501 293.567 186.501 299.006 Q186.501 304.33 183.353 307.548 Q180.204 310.766 174.973 310.766 Q168.978 310.766 165.806 306.182 Q162.635 301.576 162.635 292.849 Q162.635 284.655 166.524 279.794 Q170.413 274.909 176.964 274.909 Q178.723 274.909 180.505 275.257 Q182.311 275.604 184.255 276.298 Z\" fill=\"#000000\" fill-rule=\"evenodd\" fill-opacity=\"1\" /><polyline clip-path=\"url(#clip682)\" style=\"stroke:#009af9; stroke-linecap:butt; stroke-linejoin:round; stroke-width:4; stroke-opacity:1; fill:none\" points=\"\n  282.791,553.514 299.679,1188.15 316.567,1012.92 333.455,822.333 350.343,87.9763 367.231,715.218 384.119,1138.1 401.007,672.704 417.895,1017.4 434.783,1030.47 \n  451.671,1072.49 468.559,677.282 485.447,996.851 502.335,725.042 519.223,983.701 536.111,322.085 552.999,851.044 569.887,1273.84 586.775,1070.29 603.663,776.644 \n  620.551,922.91 637.439,1151.67 654.327,901.352 671.215,780.382 688.103,452.375 704.991,431.246 721.88,726.691 738.768,866.746 755.656,593.407 772.544,1172.7 \n  789.432,894.051 806.32,622.155 823.208,766.564 840.096,1070.09 856.984,851.536 873.872,460.069 890.76,909.402 907.648,665.456 924.536,369.869 941.424,812.772 \n  958.312,731.842 975.2,908.569 992.088,1174.95 1008.98,1163.24 1025.86,1170.83 1042.75,902.225 1059.64,582.212 1076.53,1055.61 1093.42,1194.02 1110.3,392.422 \n  1127.19,887.148 1144.08,1147.99 1160.97,1011.24 1177.86,1159.31 1194.74,1202.15 1211.63,933.231 1228.52,947.822 1245.41,677.608 1262.3,1040.53 1279.18,1205.77 \n  1296.07,852.792 1312.96,1077.31 1329.85,486.844 1346.74,665.462 1363.62,515.475 1380.51,1176.89 1397.4,997.08 1414.29,1095.22 1431.18,1059.83 1448.06,1085.77 \n  1464.95,1124.76 1481.84,780.225 1498.73,1211.14 1515.62,1445.72 1532.5,1282.38 1549.39,736.336 1566.28,964.78 1583.17,863.819 1600.06,942.806 1616.94,1218.63 \n  1633.83,1288.08 1650.72,853.535 1667.61,669.919 1684.5,1418.89 1701.38,1306.45 1718.27,1093.14 1735.16,846.534 1752.05,784.625 1768.94,731.047 1785.82,1055.39 \n  1802.71,1291.54 1819.6,1167.41 1836.49,779.233 1853.38,783.064 1870.27,1130.06 1887.15,1126.65 1904.04,718.918 1920.93,1228.67 1937.82,1086.1 1954.71,1137 \n  1971.59,941.478 1988.48,782.121 2005.37,495.067 2022.26,1022.68 2039.15,890.813 2056.03,923.111 2072.92,1151.06 2089.81,1026.61 2106.7,745.961 2123.59,1148.26 \n  2140.47,808.167 2157.36,962.393 2174.25,979.859 2191.14,950.477 2208.03,764.009 2224.91,1038.55 2241.8,1219.47 2258.69,414.001 2275.58,1083.64 2292.47,1021.23 \n  \n  \"/>\n<path clip-path=\"url(#clip680)\" d=\"\nM1992.62 198.898 L2281.75 198.898 L2281.75 95.2176 L1992.62 95.2176  Z\n  \" fill=\"#ffffff\" fill-rule=\"evenodd\" fill-opacity=\"1\"/>\n<polyline clip-path=\"url(#clip680)\" style=\"stroke:#000000; stroke-linecap:butt; stroke-linejoin:round; stroke-width:4; stroke-opacity:1; fill:none\" points=\"\n  1992.62,198.898 2281.75,198.898 2281.75,95.2176 1992.62,95.2176 1992.62,198.898 \n  \"/>\n<polyline clip-path=\"url(#clip680)\" style=\"stroke:#009af9; stroke-linecap:butt; stroke-linejoin:round; stroke-width:4; stroke-opacity:1; fill:none\" points=\"\n  2016.29,147.058 2158.31,147.058 \n  \"/>\n<path clip-path=\"url(#clip680)\" d=\"M2195.82 166.745 Q2194.02 171.375 2192.3 172.787 Q2190.59 174.199 2187.72 174.199 L2184.32 174.199 L2184.32 170.634 L2186.82 170.634 Q2188.58 170.634 2189.55 169.8 Q2190.52 168.967 2191.7 165.865 L2192.46 163.921 L2181.98 138.412 L2186.49 138.412 L2194.59 158.689 L2202.7 138.412 L2207.21 138.412 L2195.82 166.745 Z\" fill=\"#000000\" fill-rule=\"evenodd\" fill-opacity=\"1\" /><path clip-path=\"url(#clip680)\" d=\"M2214.5 160.402 L2222.14 160.402 L2222.14 134.037 L2213.83 135.703 L2213.83 131.444 L2222.09 129.778 L2226.77 129.778 L2226.77 160.402 L2234.41 160.402 L2234.41 164.338 L2214.5 164.338 L2214.5 160.402 Z\" fill=\"#000000\" fill-rule=\"evenodd\" fill-opacity=\"1\" /></svg>\n"
     },
     "execution_count": 16,
     "metadata": {},
     "output_type": "execute_result"
    }
   ],
   "source": [
    "# Single features do not work consistently though\n",
    "\n",
    "by_era_correlation = \n",
    "    sort(Dict(values(erano)[1] => cor(tdf.target, tdf.feature_strength34)\n",
    "         for (erano, tdf) in pairs(groupby(df, :erano))))\n",
    "    \n",
    "plot(by_era_correlation)"
   ]
  },
  {
   "cell_type": "code",
   "execution_count": 17,
   "id": "7800e0d3-a6bf-4f1f-a65e-8e82646ccbf1",
   "metadata": {},
   "outputs": [
    {
     "data": {
      "image/svg+xml": "<?xml version=\"1.0\" encoding=\"utf-8\"?>\n<svg xmlns=\"http://www.w3.org/2000/svg\" xmlns:xlink=\"http://www.w3.org/1999/xlink\" width=\"600\" height=\"400\" viewBox=\"0 0 2400 1600\">\n<defs>\n  <clipPath id=\"clip720\">\n    <rect x=\"0\" y=\"0\" width=\"2400\" height=\"1600\"/>\n  </clipPath>\n</defs>\n<path clip-path=\"url(#clip720)\" d=\"\nM0 1600 L2400 1600 L2400 0 L0 0  Z\n  \" fill=\"#ffffff\" fill-rule=\"evenodd\" fill-opacity=\"1\"/>\n<defs>\n  <clipPath id=\"clip721\">\n    <rect x=\"480\" y=\"0\" width=\"1681\" height=\"1600\"/>\n  </clipPath>\n</defs>\n<path clip-path=\"url(#clip720)\" d=\"\nM216.436 1486.45 L2352.76 1486.45 L2352.76 47.2441 L216.436 47.2441  Z\n  \" fill=\"#ffffff\" fill-rule=\"evenodd\" fill-opacity=\"1\"/>\n<defs>\n  <clipPath id=\"clip722\">\n    <rect x=\"216\" y=\"47\" width=\"2137\" height=\"1440\"/>\n  </clipPath>\n</defs>\n<polyline clip-path=\"url(#clip722)\" style=\"stroke:#000000; stroke-linecap:butt; stroke-linejoin:round; stroke-width:2; stroke-opacity:0.1; fill:none\" points=\"\n  570.046,1486.45 570.046,47.2441 \n  \"/>\n<polyline clip-path=\"url(#clip722)\" style=\"stroke:#000000; stroke-linecap:butt; stroke-linejoin:round; stroke-width:2; stroke-opacity:0.1; fill:none\" points=\"\n  1028.09,1486.45 1028.09,47.2441 \n  \"/>\n<polyline clip-path=\"url(#clip722)\" style=\"stroke:#000000; stroke-linecap:butt; stroke-linejoin:round; stroke-width:2; stroke-opacity:0.1; fill:none\" points=\"\n  1486.14,1486.45 1486.14,47.2441 \n  \"/>\n<polyline clip-path=\"url(#clip722)\" style=\"stroke:#000000; stroke-linecap:butt; stroke-linejoin:round; stroke-width:2; stroke-opacity:0.1; fill:none\" points=\"\n  1944.18,1486.45 1944.18,47.2441 \n  \"/>\n<polyline clip-path=\"url(#clip720)\" style=\"stroke:#000000; stroke-linecap:butt; stroke-linejoin:round; stroke-width:4; stroke-opacity:1; fill:none\" points=\"\n  216.436,1486.45 2352.76,1486.45 \n  \"/>\n<polyline clip-path=\"url(#clip720)\" style=\"stroke:#000000; stroke-linecap:butt; stroke-linejoin:round; stroke-width:4; stroke-opacity:1; fill:none\" points=\"\n  570.046,1486.45 570.046,1469.18 \n  \"/>\n<polyline clip-path=\"url(#clip720)\" style=\"stroke:#000000; stroke-linecap:butt; stroke-linejoin:round; stroke-width:4; stroke-opacity:1; fill:none\" points=\"\n  1028.09,1486.45 1028.09,1469.18 \n  \"/>\n<polyline clip-path=\"url(#clip720)\" style=\"stroke:#000000; stroke-linecap:butt; stroke-linejoin:round; stroke-width:4; stroke-opacity:1; fill:none\" points=\"\n  1486.14,1486.45 1486.14,1469.18 \n  \"/>\n<polyline clip-path=\"url(#clip720)\" style=\"stroke:#000000; stroke-linecap:butt; stroke-linejoin:round; stroke-width:4; stroke-opacity:1; fill:none\" points=\"\n  1944.18,1486.45 1944.18,1469.18 \n  \"/>\n<path clip-path=\"url(#clip720)\" d=\"M549.317 1543.18 L565.637 1543.18 L565.637 1547.12 L543.692 1547.12 L543.692 1543.18 Q546.354 1540.43 550.938 1535.8 Q555.544 1531.15 556.725 1529.81 Q558.97 1527.28 559.85 1525.55 Q560.752 1523.79 560.752 1522.1 Q560.752 1519.34 558.808 1517.61 Q556.887 1515.87 553.785 1515.87 Q551.586 1515.87 549.132 1516.63 Q546.702 1517.4 543.924 1518.95 L543.924 1514.23 Q546.748 1513.09 549.202 1512.51 Q551.655 1511.93 553.692 1511.93 Q559.063 1511.93 562.257 1514.62 Q565.451 1517.31 565.451 1521.8 Q565.451 1523.93 564.641 1525.85 Q563.854 1527.74 561.748 1530.34 Q561.169 1531.01 558.067 1534.23 Q554.965 1537.42 549.317 1543.18 Z\" fill=\"#000000\" fill-rule=\"evenodd\" fill-opacity=\"1\" /><path clip-path=\"url(#clip720)\" d=\"M575.498 1512.56 L593.854 1512.56 L593.854 1516.5 L579.78 1516.5 L579.78 1524.97 Q580.799 1524.62 581.817 1524.46 Q582.836 1524.27 583.854 1524.27 Q589.641 1524.27 593.021 1527.44 Q596.4 1530.62 596.4 1536.03 Q596.4 1541.61 592.928 1544.71 Q589.456 1547.79 583.137 1547.79 Q580.961 1547.79 578.692 1547.42 Q576.447 1547.05 574.039 1546.31 L574.039 1541.61 Q576.123 1542.74 578.345 1543.3 Q580.567 1543.86 583.044 1543.86 Q587.049 1543.86 589.386 1541.75 Q591.724 1539.64 591.724 1536.03 Q591.724 1532.42 589.386 1530.31 Q587.049 1528.21 583.044 1528.21 Q581.169 1528.21 579.294 1528.62 Q577.442 1529.04 575.498 1529.92 L575.498 1512.56 Z\" fill=\"#000000\" fill-rule=\"evenodd\" fill-opacity=\"1\" /><path clip-path=\"url(#clip720)\" d=\"M1002.79 1512.56 L1021.15 1512.56 L1021.15 1516.5 L1007.07 1516.5 L1007.07 1524.97 Q1008.09 1524.62 1009.11 1524.46 Q1010.13 1524.27 1011.15 1524.27 Q1016.93 1524.27 1020.31 1527.44 Q1023.69 1530.62 1023.69 1536.03 Q1023.69 1541.61 1020.22 1544.71 Q1016.75 1547.79 1010.43 1547.79 Q1008.25 1547.79 1005.98 1547.42 Q1003.74 1547.05 1001.33 1546.31 L1001.33 1541.61 Q1003.42 1542.74 1005.64 1543.3 Q1007.86 1543.86 1010.34 1543.86 Q1014.34 1543.86 1016.68 1541.75 Q1019.02 1539.64 1019.02 1536.03 Q1019.02 1532.42 1016.68 1530.31 Q1014.34 1528.21 1010.34 1528.21 Q1008.46 1528.21 1006.59 1528.62 Q1004.73 1529.04 1002.79 1529.92 L1002.79 1512.56 Z\" fill=\"#000000\" fill-rule=\"evenodd\" fill-opacity=\"1\" /><path clip-path=\"url(#clip720)\" d=\"M1042.91 1515.64 Q1039.29 1515.64 1037.47 1519.2 Q1035.66 1522.75 1035.66 1529.87 Q1035.66 1536.98 1037.47 1540.55 Q1039.29 1544.09 1042.91 1544.09 Q1046.54 1544.09 1048.35 1540.55 Q1050.17 1536.98 1050.17 1529.87 Q1050.17 1522.75 1048.35 1519.2 Q1046.54 1515.64 1042.91 1515.64 M1042.91 1511.93 Q1048.72 1511.93 1051.77 1516.54 Q1054.85 1521.12 1054.85 1529.87 Q1054.85 1538.6 1051.77 1543.21 Q1048.72 1547.79 1042.91 1547.79 Q1037.1 1547.79 1034.02 1543.21 Q1030.96 1538.6 1030.96 1529.87 Q1030.96 1521.12 1034.02 1516.54 Q1037.1 1511.93 1042.91 1511.93 Z\" fill=\"#000000\" fill-rule=\"evenodd\" fill-opacity=\"1\" /><path clip-path=\"url(#clip720)\" d=\"M1459.99 1512.56 L1482.21 1512.56 L1482.21 1514.55 L1469.67 1547.12 L1464.78 1547.12 L1476.59 1516.5 L1459.99 1516.5 L1459.99 1512.56 Z\" fill=\"#000000\" fill-rule=\"evenodd\" fill-opacity=\"1\" /><path clip-path=\"url(#clip720)\" d=\"M1491.38 1512.56 L1509.73 1512.56 L1509.73 1516.5 L1495.66 1516.5 L1495.66 1524.97 Q1496.68 1524.62 1497.7 1524.46 Q1498.72 1524.27 1499.73 1524.27 Q1505.52 1524.27 1508.9 1527.44 Q1512.28 1530.62 1512.28 1536.03 Q1512.28 1541.61 1508.81 1544.71 Q1505.34 1547.79 1499.02 1547.79 Q1496.84 1547.79 1494.57 1547.42 Q1492.33 1547.05 1489.92 1546.31 L1489.92 1541.61 Q1492 1542.74 1494.23 1543.3 Q1496.45 1543.86 1498.92 1543.86 Q1502.93 1543.86 1505.27 1541.75 Q1507.61 1539.64 1507.61 1536.03 Q1507.61 1532.42 1505.27 1530.31 Q1502.93 1528.21 1498.92 1528.21 Q1497.05 1528.21 1495.17 1528.62 Q1493.32 1529.04 1491.38 1529.92 L1491.38 1512.56 Z\" fill=\"#000000\" fill-rule=\"evenodd\" fill-opacity=\"1\" /><path clip-path=\"url(#clip720)\" d=\"M1903.79 1543.18 L1911.43 1543.18 L1911.43 1516.82 L1903.12 1518.49 L1903.12 1514.23 L1911.38 1512.56 L1916.06 1512.56 L1916.06 1543.18 L1923.69 1543.18 L1923.69 1547.12 L1903.79 1547.12 L1903.79 1543.18 Z\" fill=\"#000000\" fill-rule=\"evenodd\" fill-opacity=\"1\" /><path clip-path=\"url(#clip720)\" d=\"M1943.14 1515.64 Q1939.53 1515.64 1937.7 1519.2 Q1935.89 1522.75 1935.89 1529.87 Q1935.89 1536.98 1937.7 1540.55 Q1939.53 1544.09 1943.14 1544.09 Q1946.77 1544.09 1948.58 1540.55 Q1950.41 1536.98 1950.41 1529.87 Q1950.41 1522.75 1948.58 1519.2 Q1946.77 1515.64 1943.14 1515.64 M1943.14 1511.93 Q1948.95 1511.93 1952 1516.54 Q1955.08 1521.12 1955.08 1529.87 Q1955.08 1538.6 1952 1543.21 Q1948.95 1547.79 1943.14 1547.79 Q1937.33 1547.79 1934.25 1543.21 Q1931.19 1538.6 1931.19 1529.87 Q1931.19 1521.12 1934.25 1516.54 Q1937.33 1511.93 1943.14 1511.93 Z\" fill=\"#000000\" fill-rule=\"evenodd\" fill-opacity=\"1\" /><path clip-path=\"url(#clip720)\" d=\"M1973.3 1515.64 Q1969.69 1515.64 1967.86 1519.2 Q1966.06 1522.75 1966.06 1529.87 Q1966.06 1536.98 1967.86 1540.55 Q1969.69 1544.09 1973.3 1544.09 Q1976.93 1544.09 1978.74 1540.55 Q1980.57 1536.98 1980.57 1529.87 Q1980.57 1522.75 1978.74 1519.2 Q1976.93 1515.64 1973.3 1515.64 M1973.3 1511.93 Q1979.11 1511.93 1982.17 1516.54 Q1985.24 1521.12 1985.24 1529.87 Q1985.24 1538.6 1982.17 1543.21 Q1979.11 1547.79 1973.3 1547.79 Q1967.49 1547.79 1964.41 1543.21 Q1961.36 1538.6 1961.36 1529.87 Q1961.36 1521.12 1964.41 1516.54 Q1967.49 1511.93 1973.3 1511.93 Z\" fill=\"#000000\" fill-rule=\"evenodd\" fill-opacity=\"1\" /><polyline clip-path=\"url(#clip722)\" style=\"stroke:#000000; stroke-linecap:butt; stroke-linejoin:round; stroke-width:2; stroke-opacity:0.1; fill:none\" points=\"\n  216.436,1318.12 2352.76,1318.12 \n  \"/>\n<polyline clip-path=\"url(#clip722)\" style=\"stroke:#000000; stroke-linecap:butt; stroke-linejoin:round; stroke-width:2; stroke-opacity:0.1; fill:none\" points=\"\n  216.436,1093.06 2352.76,1093.06 \n  \"/>\n<polyline clip-path=\"url(#clip722)\" style=\"stroke:#000000; stroke-linecap:butt; stroke-linejoin:round; stroke-width:2; stroke-opacity:0.1; fill:none\" points=\"\n  216.436,867.997 2352.76,867.997 \n  \"/>\n<polyline clip-path=\"url(#clip722)\" style=\"stroke:#000000; stroke-linecap:butt; stroke-linejoin:round; stroke-width:2; stroke-opacity:0.1; fill:none\" points=\"\n  216.436,642.938 2352.76,642.938 \n  \"/>\n<polyline clip-path=\"url(#clip722)\" style=\"stroke:#000000; stroke-linecap:butt; stroke-linejoin:round; stroke-width:2; stroke-opacity:0.1; fill:none\" points=\"\n  216.436,417.878 2352.76,417.878 \n  \"/>\n<polyline clip-path=\"url(#clip722)\" style=\"stroke:#000000; stroke-linecap:butt; stroke-linejoin:round; stroke-width:2; stroke-opacity:0.1; fill:none\" points=\"\n  216.436,192.819 2352.76,192.819 \n  \"/>\n<polyline clip-path=\"url(#clip720)\" style=\"stroke:#000000; stroke-linecap:butt; stroke-linejoin:round; stroke-width:4; stroke-opacity:1; fill:none\" points=\"\n  216.436,1486.45 216.436,47.2441 \n  \"/>\n<polyline clip-path=\"url(#clip720)\" style=\"stroke:#000000; stroke-linecap:butt; stroke-linejoin:round; stroke-width:4; stroke-opacity:1; fill:none\" points=\"\n  216.436,1318.12 242.072,1318.12 \n  \"/>\n<polyline clip-path=\"url(#clip720)\" style=\"stroke:#000000; stroke-linecap:butt; stroke-linejoin:round; stroke-width:4; stroke-opacity:1; fill:none\" points=\"\n  216.436,1093.06 242.072,1093.06 \n  \"/>\n<polyline clip-path=\"url(#clip720)\" style=\"stroke:#000000; stroke-linecap:butt; stroke-linejoin:round; stroke-width:4; stroke-opacity:1; fill:none\" points=\"\n  216.436,867.997 242.072,867.997 \n  \"/>\n<polyline clip-path=\"url(#clip720)\" style=\"stroke:#000000; stroke-linecap:butt; stroke-linejoin:round; stroke-width:4; stroke-opacity:1; fill:none\" points=\"\n  216.436,642.938 242.072,642.938 \n  \"/>\n<polyline clip-path=\"url(#clip720)\" style=\"stroke:#000000; stroke-linecap:butt; stroke-linejoin:round; stroke-width:4; stroke-opacity:1; fill:none\" points=\"\n  216.436,417.878 242.072,417.878 \n  \"/>\n<polyline clip-path=\"url(#clip720)\" style=\"stroke:#000000; stroke-linecap:butt; stroke-linejoin:round; stroke-width:4; stroke-opacity:1; fill:none\" points=\"\n  216.436,192.819 242.072,192.819 \n  \"/>\n<path clip-path=\"url(#clip720)\" d=\"M62.9365 1303.91 Q59.3254 1303.91 57.4967 1307.48 Q55.6912 1311.02 55.6912 1318.15 Q55.6912 1325.26 57.4967 1328.82 Q59.3254 1332.36 62.9365 1332.36 Q66.5707 1332.36 68.3763 1328.82 Q70.205 1325.26 70.205 1318.15 Q70.205 1311.02 68.3763 1307.48 Q66.5707 1303.91 62.9365 1303.91 M62.9365 1300.21 Q68.7467 1300.21 71.8022 1304.82 Q74.8809 1309.4 74.8809 1318.15 Q74.8809 1326.88 71.8022 1331.48 Q68.7467 1336.07 62.9365 1336.07 Q57.1264 1336.07 54.0477 1331.48 Q50.9921 1326.88 50.9921 1318.15 Q50.9921 1309.4 54.0477 1304.82 Q57.1264 1300.21 62.9365 1300.21 Z\" fill=\"#000000\" fill-rule=\"evenodd\" fill-opacity=\"1\" /><path clip-path=\"url(#clip720)\" d=\"M83.0984 1329.52 L87.9827 1329.52 L87.9827 1335.4 L83.0984 1335.4 L83.0984 1329.52 Z\" fill=\"#000000\" fill-rule=\"evenodd\" fill-opacity=\"1\" /><path clip-path=\"url(#clip720)\" d=\"M108.168 1303.91 Q104.557 1303.91 102.728 1307.48 Q100.922 1311.02 100.922 1318.15 Q100.922 1325.26 102.728 1328.82 Q104.557 1332.36 108.168 1332.36 Q111.802 1332.36 113.608 1328.82 Q115.436 1325.26 115.436 1318.15 Q115.436 1311.02 113.608 1307.48 Q111.802 1303.91 108.168 1303.91 M108.168 1300.21 Q113.978 1300.21 117.033 1304.82 Q120.112 1309.4 120.112 1318.15 Q120.112 1326.88 117.033 1331.48 Q113.978 1336.07 108.168 1336.07 Q102.358 1336.07 99.2789 1331.48 Q96.2234 1326.88 96.2234 1318.15 Q96.2234 1309.4 99.2789 1304.82 Q102.358 1300.21 108.168 1300.21 Z\" fill=\"#000000\" fill-rule=\"evenodd\" fill-opacity=\"1\" /><path clip-path=\"url(#clip720)\" d=\"M138.33 1303.91 Q134.719 1303.91 132.89 1307.48 Q131.084 1311.02 131.084 1318.15 Q131.084 1325.26 132.89 1328.82 Q134.719 1332.36 138.33 1332.36 Q141.964 1332.36 143.769 1328.82 Q145.598 1325.26 145.598 1318.15 Q145.598 1311.02 143.769 1307.48 Q141.964 1303.91 138.33 1303.91 M138.33 1300.21 Q144.14 1300.21 147.195 1304.82 Q150.274 1309.4 150.274 1318.15 Q150.274 1326.88 147.195 1331.48 Q144.14 1336.07 138.33 1336.07 Q132.519 1336.07 129.441 1331.48 Q126.385 1326.88 126.385 1318.15 Q126.385 1309.4 129.441 1304.82 Q132.519 1300.21 138.33 1300.21 Z\" fill=\"#000000\" fill-rule=\"evenodd\" fill-opacity=\"1\" /><path clip-path=\"url(#clip720)\" d=\"M168.491 1303.91 Q164.88 1303.91 163.052 1307.48 Q161.246 1311.02 161.246 1318.15 Q161.246 1325.26 163.052 1328.82 Q164.88 1332.36 168.491 1332.36 Q172.126 1332.36 173.931 1328.82 Q175.76 1325.26 175.76 1318.15 Q175.76 1311.02 173.931 1307.48 Q172.126 1303.91 168.491 1303.91 M168.491 1300.21 Q174.302 1300.21 177.357 1304.82 Q180.436 1309.4 180.436 1318.15 Q180.436 1326.88 177.357 1331.48 Q174.302 1336.07 168.491 1336.07 Q162.681 1336.07 159.603 1331.48 Q156.547 1326.88 156.547 1318.15 Q156.547 1309.4 159.603 1304.82 Q162.681 1300.21 168.491 1300.21 Z\" fill=\"#000000\" fill-rule=\"evenodd\" fill-opacity=\"1\" /><path clip-path=\"url(#clip720)\" d=\"M63.9319 1078.86 Q60.3208 1078.86 58.4921 1082.42 Q56.6865 1085.96 56.6865 1093.09 Q56.6865 1100.2 58.4921 1103.76 Q60.3208 1107.3 63.9319 1107.3 Q67.5661 1107.3 69.3717 1103.76 Q71.2004 1100.2 71.2004 1093.09 Q71.2004 1085.96 69.3717 1082.42 Q67.5661 1078.86 63.9319 1078.86 M63.9319 1075.15 Q69.742 1075.15 72.7976 1079.76 Q75.8763 1084.34 75.8763 1093.09 Q75.8763 1101.82 72.7976 1106.42 Q69.742 1111.01 63.9319 1111.01 Q58.1217 1111.01 55.043 1106.42 Q51.9875 1101.82 51.9875 1093.09 Q51.9875 1084.34 55.043 1079.76 Q58.1217 1075.15 63.9319 1075.15 Z\" fill=\"#000000\" fill-rule=\"evenodd\" fill-opacity=\"1\" /><path clip-path=\"url(#clip720)\" d=\"M84.0938 1104.46 L88.978 1104.46 L88.978 1110.34 L84.0938 1110.34 L84.0938 1104.46 Z\" fill=\"#000000\" fill-rule=\"evenodd\" fill-opacity=\"1\" /><path clip-path=\"url(#clip720)\" d=\"M109.163 1078.86 Q105.552 1078.86 103.723 1082.42 Q101.918 1085.96 101.918 1093.09 Q101.918 1100.2 103.723 1103.76 Q105.552 1107.3 109.163 1107.3 Q112.797 1107.3 114.603 1103.76 Q116.432 1100.2 116.432 1093.09 Q116.432 1085.96 114.603 1082.42 Q112.797 1078.86 109.163 1078.86 M109.163 1075.15 Q114.973 1075.15 118.029 1079.76 Q121.107 1084.34 121.107 1093.09 Q121.107 1101.82 118.029 1106.42 Q114.973 1111.01 109.163 1111.01 Q103.353 1111.01 100.274 1106.42 Q97.2187 1101.82 97.2187 1093.09 Q97.2187 1084.34 100.274 1079.76 Q103.353 1075.15 109.163 1075.15 Z\" fill=\"#000000\" fill-rule=\"evenodd\" fill-opacity=\"1\" /><path clip-path=\"url(#clip720)\" d=\"M139.325 1078.86 Q135.714 1078.86 133.885 1082.42 Q132.08 1085.96 132.08 1093.09 Q132.08 1100.2 133.885 1103.76 Q135.714 1107.3 139.325 1107.3 Q142.959 1107.3 144.765 1103.76 Q146.593 1100.2 146.593 1093.09 Q146.593 1085.96 144.765 1082.42 Q142.959 1078.86 139.325 1078.86 M139.325 1075.15 Q145.135 1075.15 148.191 1079.76 Q151.269 1084.34 151.269 1093.09 Q151.269 1101.82 148.191 1106.42 Q145.135 1111.01 139.325 1111.01 Q133.515 1111.01 130.436 1106.42 Q127.381 1101.82 127.381 1093.09 Q127.381 1084.34 130.436 1079.76 Q133.515 1075.15 139.325 1075.15 Z\" fill=\"#000000\" fill-rule=\"evenodd\" fill-opacity=\"1\" /><path clip-path=\"url(#clip720)\" d=\"M159.533 1075.78 L177.89 1075.78 L177.89 1079.71 L163.816 1079.71 L163.816 1088.18 Q164.834 1087.84 165.853 1087.67 Q166.871 1087.49 167.89 1087.49 Q173.677 1087.49 177.056 1090.66 Q180.436 1093.83 180.436 1099.25 Q180.436 1104.83 176.964 1107.93 Q173.491 1111.01 167.172 1111.01 Q164.996 1111.01 162.728 1110.64 Q160.482 1110.27 158.075 1109.53 L158.075 1104.83 Q160.158 1105.96 162.38 1106.52 Q164.603 1107.07 167.079 1107.07 Q171.084 1107.07 173.422 1104.97 Q175.76 1102.86 175.76 1099.25 Q175.76 1095.64 173.422 1093.53 Q171.084 1091.42 167.079 1091.42 Q165.204 1091.42 163.329 1091.84 Q161.478 1092.26 159.533 1093.14 L159.533 1075.78 Z\" fill=\"#000000\" fill-rule=\"evenodd\" fill-opacity=\"1\" /><path clip-path=\"url(#clip720)\" d=\"M62.9365 853.796 Q59.3254 853.796 57.4967 857.361 Q55.6912 860.902 55.6912 868.032 Q55.6912 875.138 57.4967 878.703 Q59.3254 882.245 62.9365 882.245 Q66.5707 882.245 68.3763 878.703 Q70.205 875.138 70.205 868.032 Q70.205 860.902 68.3763 857.361 Q66.5707 853.796 62.9365 853.796 M62.9365 850.092 Q68.7467 850.092 71.8022 854.699 Q74.8809 859.282 74.8809 868.032 Q74.8809 876.759 71.8022 881.365 Q68.7467 885.948 62.9365 885.948 Q57.1264 885.948 54.0477 881.365 Q50.9921 876.759 50.9921 868.032 Q50.9921 859.282 54.0477 854.699 Q57.1264 850.092 62.9365 850.092 Z\" fill=\"#000000\" fill-rule=\"evenodd\" fill-opacity=\"1\" /><path clip-path=\"url(#clip720)\" d=\"M83.0984 879.398 L87.9827 879.398 L87.9827 885.277 L83.0984 885.277 L83.0984 879.398 Z\" fill=\"#000000\" fill-rule=\"evenodd\" fill-opacity=\"1\" /><path clip-path=\"url(#clip720)\" d=\"M108.168 853.796 Q104.557 853.796 102.728 857.361 Q100.922 860.902 100.922 868.032 Q100.922 875.138 102.728 878.703 Q104.557 882.245 108.168 882.245 Q111.802 882.245 113.608 878.703 Q115.436 875.138 115.436 868.032 Q115.436 860.902 113.608 857.361 Q111.802 853.796 108.168 853.796 M108.168 850.092 Q113.978 850.092 117.033 854.699 Q120.112 859.282 120.112 868.032 Q120.112 876.759 117.033 881.365 Q113.978 885.948 108.168 885.948 Q102.358 885.948 99.2789 881.365 Q96.2234 876.759 96.2234 868.032 Q96.2234 859.282 99.2789 854.699 Q102.358 850.092 108.168 850.092 Z\" fill=\"#000000\" fill-rule=\"evenodd\" fill-opacity=\"1\" /><path clip-path=\"url(#clip720)\" d=\"M129.14 881.342 L136.779 881.342 L136.779 854.976 L128.469 856.643 L128.469 852.384 L136.732 850.717 L141.408 850.717 L141.408 881.342 L149.047 881.342 L149.047 885.277 L129.14 885.277 L129.14 881.342 Z\" fill=\"#000000\" fill-rule=\"evenodd\" fill-opacity=\"1\" /><path clip-path=\"url(#clip720)\" d=\"M168.491 853.796 Q164.88 853.796 163.052 857.361 Q161.246 860.902 161.246 868.032 Q161.246 875.138 163.052 878.703 Q164.88 882.245 168.491 882.245 Q172.126 882.245 173.931 878.703 Q175.76 875.138 175.76 868.032 Q175.76 860.902 173.931 857.361 Q172.126 853.796 168.491 853.796 M168.491 850.092 Q174.302 850.092 177.357 854.699 Q180.436 859.282 180.436 868.032 Q180.436 876.759 177.357 881.365 Q174.302 885.948 168.491 885.948 Q162.681 885.948 159.603 881.365 Q156.547 876.759 156.547 868.032 Q156.547 859.282 159.603 854.699 Q162.681 850.092 168.491 850.092 Z\" fill=\"#000000\" fill-rule=\"evenodd\" fill-opacity=\"1\" /><path clip-path=\"url(#clip720)\" d=\"M63.9319 628.736 Q60.3208 628.736 58.4921 632.301 Q56.6865 635.843 56.6865 642.972 Q56.6865 650.079 58.4921 653.644 Q60.3208 657.185 63.9319 657.185 Q67.5661 657.185 69.3717 653.644 Q71.2004 650.079 71.2004 642.972 Q71.2004 635.843 69.3717 632.301 Q67.5661 628.736 63.9319 628.736 M63.9319 625.033 Q69.742 625.033 72.7976 629.639 Q75.8763 634.222 75.8763 642.972 Q75.8763 651.699 72.7976 656.306 Q69.742 660.889 63.9319 660.889 Q58.1217 660.889 55.043 656.306 Q51.9875 651.699 51.9875 642.972 Q51.9875 634.222 55.043 629.639 Q58.1217 625.033 63.9319 625.033 Z\" fill=\"#000000\" fill-rule=\"evenodd\" fill-opacity=\"1\" /><path clip-path=\"url(#clip720)\" d=\"M84.0938 654.338 L88.978 654.338 L88.978 660.218 L84.0938 660.218 L84.0938 654.338 Z\" fill=\"#000000\" fill-rule=\"evenodd\" fill-opacity=\"1\" /><path clip-path=\"url(#clip720)\" d=\"M109.163 628.736 Q105.552 628.736 103.723 632.301 Q101.918 635.843 101.918 642.972 Q101.918 650.079 103.723 653.644 Q105.552 657.185 109.163 657.185 Q112.797 657.185 114.603 653.644 Q116.432 650.079 116.432 642.972 Q116.432 635.843 114.603 632.301 Q112.797 628.736 109.163 628.736 M109.163 625.033 Q114.973 625.033 118.029 629.639 Q121.107 634.222 121.107 642.972 Q121.107 651.699 118.029 656.306 Q114.973 660.889 109.163 660.889 Q103.353 660.889 100.274 656.306 Q97.2187 651.699 97.2187 642.972 Q97.2187 634.222 100.274 629.639 Q103.353 625.033 109.163 625.033 Z\" fill=\"#000000\" fill-rule=\"evenodd\" fill-opacity=\"1\" /><path clip-path=\"url(#clip720)\" d=\"M130.135 656.283 L137.774 656.283 L137.774 629.917 L129.464 631.584 L129.464 627.324 L137.728 625.658 L142.404 625.658 L142.404 656.283 L150.043 656.283 L150.043 660.218 L130.135 660.218 L130.135 656.283 Z\" fill=\"#000000\" fill-rule=\"evenodd\" fill-opacity=\"1\" /><path clip-path=\"url(#clip720)\" d=\"M159.533 625.658 L177.89 625.658 L177.89 629.593 L163.816 629.593 L163.816 638.065 Q164.834 637.718 165.853 637.556 Q166.871 637.371 167.89 637.371 Q173.677 637.371 177.056 640.542 Q180.436 643.713 180.436 649.13 Q180.436 654.708 176.964 657.81 Q173.491 660.889 167.172 660.889 Q164.996 660.889 162.728 660.519 Q160.482 660.148 158.075 659.408 L158.075 654.708 Q160.158 655.843 162.38 656.398 Q164.603 656.954 167.079 656.954 Q171.084 656.954 173.422 654.847 Q175.76 652.741 175.76 649.13 Q175.76 645.519 173.422 643.412 Q171.084 641.306 167.079 641.306 Q165.204 641.306 163.329 641.722 Q161.478 642.139 159.533 643.019 L159.533 625.658 Z\" fill=\"#000000\" fill-rule=\"evenodd\" fill-opacity=\"1\" /><path clip-path=\"url(#clip720)\" d=\"M62.9365 403.677 Q59.3254 403.677 57.4967 407.242 Q55.6912 410.783 55.6912 417.913 Q55.6912 425.019 57.4967 428.584 Q59.3254 432.126 62.9365 432.126 Q66.5707 432.126 68.3763 428.584 Q70.205 425.019 70.205 417.913 Q70.205 410.783 68.3763 407.242 Q66.5707 403.677 62.9365 403.677 M62.9365 399.973 Q68.7467 399.973 71.8022 404.58 Q74.8809 409.163 74.8809 417.913 Q74.8809 426.64 71.8022 431.246 Q68.7467 435.83 62.9365 435.83 Q57.1264 435.83 54.0477 431.246 Q50.9921 426.64 50.9921 417.913 Q50.9921 409.163 54.0477 404.58 Q57.1264 399.973 62.9365 399.973 Z\" fill=\"#000000\" fill-rule=\"evenodd\" fill-opacity=\"1\" /><path clip-path=\"url(#clip720)\" d=\"M83.0984 429.279 L87.9827 429.279 L87.9827 435.158 L83.0984 435.158 L83.0984 429.279 Z\" fill=\"#000000\" fill-rule=\"evenodd\" fill-opacity=\"1\" /><path clip-path=\"url(#clip720)\" d=\"M108.168 403.677 Q104.557 403.677 102.728 407.242 Q100.922 410.783 100.922 417.913 Q100.922 425.019 102.728 428.584 Q104.557 432.126 108.168 432.126 Q111.802 432.126 113.608 428.584 Q115.436 425.019 115.436 417.913 Q115.436 410.783 113.608 407.242 Q111.802 403.677 108.168 403.677 M108.168 399.973 Q113.978 399.973 117.033 404.58 Q120.112 409.163 120.112 417.913 Q120.112 426.64 117.033 431.246 Q113.978 435.83 108.168 435.83 Q102.358 435.83 99.2789 431.246 Q96.2234 426.64 96.2234 417.913 Q96.2234 409.163 99.2789 404.58 Q102.358 399.973 108.168 399.973 Z\" fill=\"#000000\" fill-rule=\"evenodd\" fill-opacity=\"1\" /><path clip-path=\"url(#clip720)\" d=\"M132.357 431.223 L148.677 431.223 L148.677 435.158 L126.732 435.158 L126.732 431.223 Q129.394 428.469 133.978 423.839 Q138.584 419.186 139.765 417.844 Q142.01 415.32 142.89 413.584 Q143.793 411.825 143.793 410.135 Q143.793 407.381 141.848 405.645 Q139.927 403.908 136.825 403.908 Q134.626 403.908 132.172 404.672 Q129.742 405.436 126.964 406.987 L126.964 402.265 Q129.788 401.131 132.242 400.552 Q134.695 399.973 136.732 399.973 Q142.103 399.973 145.297 402.658 Q148.492 405.344 148.492 409.834 Q148.492 411.964 147.681 413.885 Q146.894 415.783 144.788 418.376 Q144.209 419.047 141.107 422.265 Q138.006 425.459 132.357 431.223 Z\" fill=\"#000000\" fill-rule=\"evenodd\" fill-opacity=\"1\" /><path clip-path=\"url(#clip720)\" d=\"M168.491 403.677 Q164.88 403.677 163.052 407.242 Q161.246 410.783 161.246 417.913 Q161.246 425.019 163.052 428.584 Q164.88 432.126 168.491 432.126 Q172.126 432.126 173.931 428.584 Q175.76 425.019 175.76 417.913 Q175.76 410.783 173.931 407.242 Q172.126 403.677 168.491 403.677 M168.491 399.973 Q174.302 399.973 177.357 404.58 Q180.436 409.163 180.436 417.913 Q180.436 426.64 177.357 431.246 Q174.302 435.83 168.491 435.83 Q162.681 435.83 159.603 431.246 Q156.547 426.64 156.547 417.913 Q156.547 409.163 159.603 404.58 Q162.681 399.973 168.491 399.973 Z\" fill=\"#000000\" fill-rule=\"evenodd\" fill-opacity=\"1\" /><path clip-path=\"url(#clip720)\" d=\"M63.9319 178.618 Q60.3208 178.618 58.4921 182.182 Q56.6865 185.724 56.6865 192.854 Q56.6865 199.96 58.4921 203.525 Q60.3208 207.066 63.9319 207.066 Q67.5661 207.066 69.3717 203.525 Q71.2004 199.96 71.2004 192.854 Q71.2004 185.724 69.3717 182.182 Q67.5661 178.618 63.9319 178.618 M63.9319 174.914 Q69.742 174.914 72.7976 179.52 Q75.8763 184.104 75.8763 192.854 Q75.8763 201.58 72.7976 206.187 Q69.742 210.77 63.9319 210.77 Q58.1217 210.77 55.043 206.187 Q51.9875 201.58 51.9875 192.854 Q51.9875 184.104 55.043 179.52 Q58.1217 174.914 63.9319 174.914 Z\" fill=\"#000000\" fill-rule=\"evenodd\" fill-opacity=\"1\" /><path clip-path=\"url(#clip720)\" d=\"M84.0938 204.219 L88.978 204.219 L88.978 210.099 L84.0938 210.099 L84.0938 204.219 Z\" fill=\"#000000\" fill-rule=\"evenodd\" fill-opacity=\"1\" /><path clip-path=\"url(#clip720)\" d=\"M109.163 178.618 Q105.552 178.618 103.723 182.182 Q101.918 185.724 101.918 192.854 Q101.918 199.96 103.723 203.525 Q105.552 207.066 109.163 207.066 Q112.797 207.066 114.603 203.525 Q116.432 199.96 116.432 192.854 Q116.432 185.724 114.603 182.182 Q112.797 178.618 109.163 178.618 M109.163 174.914 Q114.973 174.914 118.029 179.52 Q121.107 184.104 121.107 192.854 Q121.107 201.58 118.029 206.187 Q114.973 210.77 109.163 210.77 Q103.353 210.77 100.274 206.187 Q97.2187 201.58 97.2187 192.854 Q97.2187 184.104 100.274 179.52 Q103.353 174.914 109.163 174.914 Z\" fill=\"#000000\" fill-rule=\"evenodd\" fill-opacity=\"1\" /><path clip-path=\"url(#clip720)\" d=\"M133.353 206.164 L149.672 206.164 L149.672 210.099 L127.728 210.099 L127.728 206.164 Q130.39 203.409 134.973 198.779 Q139.58 194.127 140.76 192.784 Q143.006 190.261 143.885 188.525 Q144.788 186.766 144.788 185.076 Q144.788 182.321 142.843 180.585 Q140.922 178.849 137.82 178.849 Q135.621 178.849 133.168 179.613 Q130.737 180.377 127.959 181.928 L127.959 177.206 Q130.783 176.071 133.237 175.493 Q135.691 174.914 137.728 174.914 Q143.098 174.914 146.293 177.599 Q149.487 180.284 149.487 184.775 Q149.487 186.905 148.677 188.826 Q147.89 190.724 145.783 193.317 Q145.205 193.988 142.103 197.205 Q139.001 200.4 133.353 206.164 Z\" fill=\"#000000\" fill-rule=\"evenodd\" fill-opacity=\"1\" /><path clip-path=\"url(#clip720)\" d=\"M159.533 175.539 L177.89 175.539 L177.89 179.474 L163.816 179.474 L163.816 187.946 Q164.834 187.599 165.853 187.437 Q166.871 187.252 167.89 187.252 Q173.677 187.252 177.056 190.423 Q180.436 193.594 180.436 199.011 Q180.436 204.59 176.964 207.691 Q173.491 210.77 167.172 210.77 Q164.996 210.77 162.728 210.4 Q160.482 210.029 158.075 209.289 L158.075 204.59 Q160.158 205.724 162.38 206.279 Q164.603 206.835 167.079 206.835 Q171.084 206.835 173.422 204.729 Q175.76 202.622 175.76 199.011 Q175.76 195.4 173.422 193.293 Q171.084 191.187 167.079 191.187 Q165.204 191.187 163.329 191.604 Q161.478 192.02 159.533 192.9 L159.533 175.539 Z\" fill=\"#000000\" fill-rule=\"evenodd\" fill-opacity=\"1\" /><polyline clip-path=\"url(#clip722)\" style=\"stroke:#009af9; stroke-linecap:butt; stroke-linejoin:round; stroke-width:4; stroke-opacity:1; fill:none\" points=\"\n  276.898,420.355 295.22,596.547 313.541,423.108 331.863,417.654 350.185,384.624 368.507,688.721 386.828,555.253 405.15,457.798 423.472,661.882 441.794,679.84 \n  460.116,593.665 478.437,542.883 496.759,703.938 515.081,671.516 533.403,690.304 551.725,509.92 570.046,546.98 588.368,504.762 606.69,366.555 625.012,204.653 \n  643.333,339.113 661.655,329.316 679.977,149.545 698.299,103.785 716.621,202.14 734.942,337.654 753.264,347.439 771.586,409.469 789.908,341.132 808.23,265.241 \n  826.551,143.046 844.873,87.9763 863.195,185.213 881.517,323.861 899.838,355.486 918.16,463.887 936.482,613.999 954.804,502.918 973.126,635.374 991.447,915.173 \n  1009.77,772.465 1028.09,825.191 1046.41,906.475 1064.73,850.894 1083.06,849.561 1101.38,860.192 1119.7,870.719 1138.02,994.842 1156.34,866.513 1174.67,814.402 \n  1192.99,1090.53 1211.31,1078.87 1229.63,1054.87 1247.95,876.838 1266.27,709.177 1284.6,476.052 1302.92,558.774 1321.24,575.497 1339.56,717.274 1357.88,723.826 \n  1376.2,683.087 1394.53,775.419 1412.85,674.56 1431.17,920.457 1449.49,1185.35 1467.81,1445.72 1486.14,1296.15 1504.46,1285.18 1522.78,1206.62 1541.1,1166.89 \n  1559.42,1212 1577.74,1267.45 1596.07,1292.33 1614.39,1108.59 1632.71,1099.48 1651.03,1107.66 1669.35,1228.79 1687.68,1188.65 1706,1161.76 1724.32,1089.87 \n  1742.64,1034.45 1760.96,1035.63 1779.28,1142.18 1797.61,1179.3 1815.93,963.435 1834.25,903.551 1852.57,914.925 1870.89,871.6 1889.21,1022.35 1907.54,1142.89 \n  1925.86,1170.6 1944.18,1051.75 1962.5,920.95 1980.82,824.476 1999.15,905.825 2017.47,824.6 2035.79,755.501 2054.11,902.214 2072.43,833.614 2090.75,718.138 \n  2109.08,721.96 2127.4,676.701 2145.72,737.903 2164.04,902.489 2182.36,877.976 2200.69,834.926 2219.01,874.117 2237.33,897.341 2255.65,689.361 2273.97,804.002 \n  2292.29,760.874 \n  \"/>\n<path clip-path=\"url(#clip720)\" d=\"\nM1991.75 198.898 L2281.55 198.898 L2281.55 95.2176 L1991.75 95.2176  Z\n  \" fill=\"#ffffff\" fill-rule=\"evenodd\" fill-opacity=\"1\"/>\n<polyline clip-path=\"url(#clip720)\" style=\"stroke:#000000; stroke-linecap:butt; stroke-linejoin:round; stroke-width:4; stroke-opacity:1; fill:none\" points=\"\n  1991.75,198.898 2281.55,198.898 2281.55,95.2176 1991.75,95.2176 1991.75,198.898 \n  \"/>\n<polyline clip-path=\"url(#clip720)\" style=\"stroke:#009af9; stroke-linecap:butt; stroke-linejoin:round; stroke-width:4; stroke-opacity:1; fill:none\" points=\"\n  2015.48,147.058 2157.9,147.058 \n  \"/>\n<path clip-path=\"url(#clip720)\" d=\"M2195.48 166.745 Q2193.68 171.375 2191.97 172.787 Q2190.25 174.199 2187.38 174.199 L2183.98 174.199 L2183.98 170.634 L2186.48 170.634 Q2188.24 170.634 2189.21 169.8 Q2190.18 168.967 2191.36 165.865 L2192.13 163.921 L2181.64 138.412 L2186.16 138.412 L2194.26 158.689 L2202.36 138.412 L2206.87 138.412 L2195.48 166.745 Z\" fill=\"#000000\" fill-rule=\"evenodd\" fill-opacity=\"1\" /><path clip-path=\"url(#clip720)\" d=\"M2214.16 160.402 L2221.8 160.402 L2221.8 134.037 L2213.49 135.703 L2213.49 131.444 L2221.76 129.778 L2226.43 129.778 L2226.43 160.402 L2234.07 160.402 L2234.07 164.338 L2214.16 164.338 L2214.16 160.402 Z\" fill=\"#000000\" fill-rule=\"evenodd\" fill-opacity=\"1\" /></svg>\n"
     },
     "execution_count": 17,
     "metadata": {},
     "output_type": "execute_result"
    }
   ],
   "source": [
    "# With a rolling 10 era average you can see some trends\n",
    "\n",
    "function rolling_mean(arr, n)\n",
    "    rs = cumsum(arr)[n:end] .- cumsum([0.0; arr])[1:end-n]\n",
    "    return rs ./ n\n",
    "end\n",
    "\n",
    "n_window = 10\n",
    "\n",
    "plot(Dict(zip(collect(n_window-1:length(by_era_correlation)), \n",
    "        rolling_mean(collect(values(by_era_correlation)),n_window))))"
   ]
  },
  {
   "cell_type": "markdown",
   "id": "94fa4e7b-34d8-4548-aed6-ebf06af0caee",
   "metadata": {},
   "source": [
    "# Gotcha: MSE looks worse than correlation out of sample\n",
    "Models will generally be overconfident, so even if they are good at ranking rows, the Mean-Squared-Error of the residuals could be larger than event the Mean-Squared-Error of the target (r-squared<0)"
   ]
  },
  {
   "cell_type": "code",
   "execution_count": 18,
   "id": "5a747661-2652-47fe-9b0d-c2d53dd08ea7",
   "metadata": {},
   "outputs": [],
   "source": [
    "df₁ = df[coalesce.(eras .<= median(eras), false), :]\n",
    "df₂ = df[coalesce.(eras .> median(eras), false), :];"
   ]
  },
  {
   "cell_type": "code",
   "execution_count": 19,
   "id": "070c86eb-07eb-4eca-935e-195274a5f088",
   "metadata": {},
   "outputs": [],
   "source": [
    "# This is using MLJ, Julia's homegrown machine-learning library\n",
    "\n",
    "Linear = @load LinearRegressor pkg=MLJLinearModels verbosity=0\n",
    "linear = Linear()\n",
    "\n",
    "lin₁ = machine(linear, df₁[!, names(df₁, features)], df₁.target)\n",
    "MLJ.fit!(lin₁, verbosity=0)\n",
    "\n",
    "lin₂ = machine(linear, df₂[!, names(df₂, features)], df₂.target)\n",
    "MLJ.fit!(lin₂, verbosity=0);"
   ]
  },
  {
   "cell_type": "code",
   "execution_count": 20,
   "id": "c1335b44-52fb-43be-9cc4-dbcba1df812f",
   "metadata": {},
   "outputs": [
    {
     "data": {
      "text/html": [
       "<div class=\"data-frame\"><p>2 rows × 2 columns</p><table class=\"data-frame\"><thead><tr><th></th><th>eval_on_1</th><th>eval_on_2</th></tr><tr><th></th><th title=\"Float64\">Float64</th><th title=\"Float64\">Float64</th></tr></thead><tbody><tr><th>1</th><td>0.00409275</td><td>-0.000543157</td></tr><tr><th>2</th><td>0.000574622</td><td>0.00315522</td></tr></tbody></table></div>"
      ],
      "text/latex": [
       "\\begin{tabular}{r|cc}\n",
       "\t& eval\\_on\\_1 & eval\\_on\\_2\\\\\n",
       "\t\\hline\n",
       "\t& Float64 & Float64\\\\\n",
       "\t\\hline\n",
       "\t1 & 0.00409275 & -0.000543157 \\\\\n",
       "\t2 & 0.000574622 & 0.00315522 \\\\\n",
       "\\end{tabular}\n"
      ],
      "text/plain": [
       "\u001b[1m2×2 DataFrame\u001b[0m\n",
       "\u001b[1m Row \u001b[0m│\u001b[1m eval_on_1   \u001b[0m\u001b[1m eval_on_2    \u001b[0m\n",
       "\u001b[1m     \u001b[0m│\u001b[90m Float64     \u001b[0m\u001b[90m Float64      \u001b[0m\n",
       "─────┼───────────────────────────\n",
       "   1 │ 0.00409275   -0.000543157\n",
       "   2 │ 0.000574622   0.00315522"
      ]
     },
     "execution_count": 20,
     "metadata": {},
     "output_type": "execute_result"
    }
   ],
   "source": [
    "# Note in particular that the R-squared of (train_on_1, eval_on_2) is slightly negative!\n",
    "\n",
    "r2₁ = [\n",
    "    r2_score(dfₓ.target, MLJ.predict(model, dfₓ[!, names(dfₓ, features)]))\n",
    "        for dfₓ in [df₁, df₂]\n",
    "    for model in [lin₁, lin₂]]\n",
    "\n",
    "DataFrame(reshape(r2₁, 2, 2), [\"eval_on_1\",\"eval_on_2\"])"
   ]
  },
  {
   "cell_type": "code",
   "execution_count": 21,
   "id": "a63cc0e0-de1a-4b44-934d-c154ff11593a",
   "metadata": {},
   "outputs": [
    {
     "data": {
      "text/html": [
       "<div class=\"data-frame\"><p>2 rows × 2 columns</p><table class=\"data-frame\"><thead><tr><th></th><th>eval_on_1</th><th>eval_on_2</th></tr><tr><th></th><th title=\"Float64\">Float64</th><th title=\"Float64\">Float64</th></tr></thead><tbody><tr><th>1</th><td>0.058282</td><td>0.0287217</td></tr><tr><th>2</th><td>0.0319412</td><td>0.0528229</td></tr></tbody></table></div>"
      ],
      "text/latex": [
       "\\begin{tabular}{r|cc}\n",
       "\t& eval\\_on\\_1 & eval\\_on\\_2\\\\\n",
       "\t\\hline\n",
       "\t& Float64 & Float64\\\\\n",
       "\t\\hline\n",
       "\t1 & 0.058282 & 0.0287217 \\\\\n",
       "\t2 & 0.0319412 & 0.0528229 \\\\\n",
       "\\end{tabular}\n"
      ],
      "text/plain": [
       "\u001b[1m2×2 DataFrame\u001b[0m\n",
       "\u001b[1m Row \u001b[0m│\u001b[1m eval_on_1 \u001b[0m\u001b[1m eval_on_2 \u001b[0m\n",
       "\u001b[1m     \u001b[0m│\u001b[90m Float64   \u001b[0m\u001b[90m Float64   \u001b[0m\n",
       "─────┼──────────────────────\n",
       "   1 │ 0.058282   0.0287217\n",
       "   2 │ 0.0319412  0.0528229"
      ]
     },
     "execution_count": 21,
     "metadata": {},
     "output_type": "execute_result"
    }
   ],
   "source": [
    "# Note in particular that the correlation of (train_on_1, eval_on_2) is quite decent (comparatively)\n",
    "corrs = [\n",
    "    numerai_score(MLJ.predict(model, dfₓ[!, names(dfₓ, features)]), dfₓ.target, dfₓ)\n",
    "        for dfₓ in [df₁, df₂]\n",
    "    for model in [lin₁, lin₂]]\n",
    "\n",
    "DataFrame(reshape(corrs, 2, 2), [\"eval_on_1\",\"eval_on_2\"])"
   ]
  },
  {
   "cell_type": "code",
   "execution_count": 22,
   "id": "93133dcc-f466-45ad-a459-a9d245fa591a",
   "metadata": {},
   "outputs": [],
   "source": [
    "# This can be be run with XGB as well\n",
    "\n",
    "XGB = @load XGBoostRegressor pkg=XGBoost verbosity=0\n",
    "xgb = XGB()\n",
    "\n",
    "xgb₁ = machine(xgb, df₁[!, names(df₁, features)], df₁.target)\n",
    "MLJ.fit!(xgb₁, verbosity=0)\n",
    "\n",
    "xgb₂ = machine(xgb, df₂[!, names(df₂, features)], df₂.target)\n",
    "MLJ.fit!(xgb₂, verbosity=0);"
   ]
  },
  {
   "cell_type": "code",
   "execution_count": 23,
   "id": "17ba64e8-1ecc-4abf-bbc5-d575291ed5b2",
   "metadata": {},
   "outputs": [
    {
     "data": {
      "text/html": [
       "<div class=\"data-frame\"><p>2 rows × 2 columns</p><table class=\"data-frame\"><thead><tr><th></th><th>eval_on_1</th><th>eval_on_2</th></tr><tr><th></th><th title=\"Float64\">Float64</th><th title=\"Float64\">Float64</th></tr></thead><tbody><tr><th>1</th><td>0.123117</td><td>-0.0237936</td></tr><tr><th>2</th><td>-0.0199959</td><td>0.12788</td></tr></tbody></table></div>"
      ],
      "text/latex": [
       "\\begin{tabular}{r|cc}\n",
       "\t& eval\\_on\\_1 & eval\\_on\\_2\\\\\n",
       "\t\\hline\n",
       "\t& Float64 & Float64\\\\\n",
       "\t\\hline\n",
       "\t1 & 0.123117 & -0.0237936 \\\\\n",
       "\t2 & -0.0199959 & 0.12788 \\\\\n",
       "\\end{tabular}\n"
      ],
      "text/plain": [
       "\u001b[1m2×2 DataFrame\u001b[0m\n",
       "\u001b[1m Row \u001b[0m│\u001b[1m eval_on_1  \u001b[0m\u001b[1m eval_on_2  \u001b[0m\n",
       "\u001b[1m     \u001b[0m│\u001b[90m Float64    \u001b[0m\u001b[90m Float64    \u001b[0m\n",
       "─────┼────────────────────────\n",
       "   1 │  0.123117   -0.0237936\n",
       "   2 │ -0.0199959   0.12788"
      ]
     },
     "execution_count": 23,
     "metadata": {},
     "output_type": "execute_result"
    }
   ],
   "source": [
    "r2₂ = [\n",
    "    r2_score(dfₓ.target, MLJ.predict(model, dfₓ[!, names(dfₓ, features)]))\n",
    "        for dfₓ in [df₁, df₂]\n",
    "    for model in [xgb₁, xgb₂]]\n",
    "\n",
    "DataFrame(reshape(r2₂, 2, 2), [\"eval_on_1\",\"eval_on_2\"])"
   ]
  },
  {
   "cell_type": "code",
   "execution_count": 24,
   "id": "c984e928-9d55-453f-8d60-e08749543663",
   "metadata": {},
   "outputs": [
    {
     "data": {
      "text/html": [
       "<div class=\"data-frame\"><p>2 rows × 2 columns</p><table class=\"data-frame\"><thead><tr><th></th><th>eval_on_1</th><th>eval_on_2</th></tr><tr><th></th><th title=\"Float64\">Float64</th><th title=\"Float64\">Float64</th></tr></thead><tbody><tr><th>1</th><td>0.383874</td><td>0.0240443</td></tr><tr><th>2</th><td>0.0229365</td><td>0.392287</td></tr></tbody></table></div>"
      ],
      "text/latex": [
       "\\begin{tabular}{r|cc}\n",
       "\t& eval\\_on\\_1 & eval\\_on\\_2\\\\\n",
       "\t\\hline\n",
       "\t& Float64 & Float64\\\\\n",
       "\t\\hline\n",
       "\t1 & 0.383874 & 0.0240443 \\\\\n",
       "\t2 & 0.0229365 & 0.392287 \\\\\n",
       "\\end{tabular}\n"
      ],
      "text/plain": [
       "\u001b[1m2×2 DataFrame\u001b[0m\n",
       "\u001b[1m Row \u001b[0m│\u001b[1m eval_on_1 \u001b[0m\u001b[1m eval_on_2 \u001b[0m\n",
       "\u001b[1m     \u001b[0m│\u001b[90m Float64   \u001b[0m\u001b[90m Float64   \u001b[0m\n",
       "─────┼──────────────────────\n",
       "   1 │ 0.383874   0.0240443\n",
       "   2 │ 0.0229365  0.392287"
      ]
     },
     "execution_count": 24,
     "metadata": {},
     "output_type": "execute_result"
    }
   ],
   "source": [
    "corrs2 = [\n",
    "    numerai_score(MLJ.predict(model, dfₓ[!, names(dfₓ, features)]), dfₓ.target, dfₓ)\n",
    "        for dfₓ in [df₁, df₂]\n",
    "    for model in [xgb₁, xgb₂]]\n",
    "\n",
    "DataFrame(reshape(corrs2, 2, 2), [\"eval_on_1\",\"eval_on_2\"])"
   ]
  },
  {
   "cell_type": "markdown",
   "id": "524a874e-4646-4f32-b94f-35576f6581df",
   "metadata": {},
   "source": [
    "# Gotcha:  {0, 1} are noticeably different from {0.25, 0.75}\n",
    "This makes training a classifier one-versus-rest behave counterintuitively.\n",
    "\n",
    "Specifically, the 0-vs-rest and 1-vs-rest classifiers seem to learn how to pick out extreme targets, and their predictions are the most correlated"
   ]
  },
  {
   "cell_type": "code",
   "execution_count": 25,
   "id": "174c23a4-249d-46e5-a00b-53715fe30cc3",
   "metadata": {},
   "outputs": [
    {
     "name": "stderr",
     "output_type": "stream",
     "text": [
      "C:\\Users\\Justin\\.julia\\conda\\3\\lib\\site-packages\\sklearn\\linear_model\\_logistic.py:763: ConvergenceWarning: lbfgs failed to converge (status=1):\n",
      "STOP: TOTAL NO. of ITERATIONS REACHED LIMIT.\n",
      "\n",
      "Increase the number of iterations (max_iter) or scale the data as shown in:\n",
      "    https://scikit-learn.org/stable/modules/preprocessing.html\n",
      "Please also refer to the documentation for alternative solver options:\n",
      "    https://scikit-learn.org/stable/modules/linear_model.html#logistic-regression\n",
      "  n_iter_i = _check_optimize_result(\n"
     ]
    },
    {
     "data": {
      "text/plain": [
       "0.5012315467270351"
      ]
     },
     "execution_count": 25,
     "metadata": {},
     "output_type": "execute_result"
    }
   ],
   "source": [
    "# Mostly doing this in Scikitlearn.JL due to no predict_proba (that I'm aware of) in MLJ\n",
    "\n",
    "logistic = LogisticRegression()\n",
    "ScikitLearn.fit!(logistic, Matrix(df[!, names(df, features)]), convert.(Int, df.target*4))\n",
    "ScikitLearn.score(logistic, Matrix(df[!, names(df, features)]), convert.(Int, df.target*4))"
   ]
  },
  {
   "cell_type": "code",
   "execution_count": 26,
   "id": "074c39a6-7552-4e69-803a-1032e4760c45",
   "metadata": {},
   "outputs": [
    {
     "data": {
      "text/plain": [
       "5×5 Matrix{Float64}:\n",
       "  1.0        0.468155  -0.903881   0.42197    0.947252\n",
       "  0.468155   1.0       -0.704718   0.517207   0.428423\n",
       " -0.903881  -0.704718   1.0       -0.71843   -0.914418\n",
       "  0.42197    0.517207  -0.71843    1.0        0.498854\n",
       "  0.947252   0.428423  -0.914418   0.498854   1.0"
      ]
     },
     "metadata": {},
     "output_type": "display_data"
    },
    {
     "data": {
      "image/svg+xml": "<?xml version=\"1.0\" encoding=\"utf-8\"?>\n<svg xmlns=\"http://www.w3.org/2000/svg\" xmlns:xlink=\"http://www.w3.org/1999/xlink\" width=\"600\" height=\"400\" viewBox=\"0 0 2400 1600\">\n<defs>\n  <clipPath id=\"clip760\">\n    <rect x=\"0\" y=\"0\" width=\"2400\" height=\"1600\"/>\n  </clipPath>\n</defs>\n<path clip-path=\"url(#clip760)\" d=\"\nM0 1600 L2400 1600 L2400 0 L0 0  Z\n  \" fill=\"#ffffff\" fill-rule=\"evenodd\" fill-opacity=\"1\"/>\n<defs>\n  <clipPath id=\"clip761\">\n    <rect x=\"480\" y=\"0\" width=\"1681\" height=\"1600\"/>\n  </clipPath>\n</defs>\n<path clip-path=\"url(#clip760)\" d=\"\nM112.177 1486.45 L2112.76 1486.45 L2112.76 47.2441 L112.177 47.2441  Z\n  \" fill=\"#ffffff\" fill-rule=\"evenodd\" fill-opacity=\"1\"/>\n<defs>\n  <clipPath id=\"clip762\">\n    <rect x=\"112\" y=\"47\" width=\"2002\" height=\"1440\"/>\n  </clipPath>\n</defs>\n<polyline clip-path=\"url(#clip762)\" style=\"stroke:#000000; stroke-linecap:butt; stroke-linejoin:round; stroke-width:2; stroke-opacity:0.1; fill:none\" points=\"\n  312.235,1486.45 312.235,47.2441 \n  \"/>\n<polyline clip-path=\"url(#clip762)\" style=\"stroke:#000000; stroke-linecap:butt; stroke-linejoin:round; stroke-width:2; stroke-opacity:0.1; fill:none\" points=\"\n  712.351,1486.45 712.351,47.2441 \n  \"/>\n<polyline clip-path=\"url(#clip762)\" style=\"stroke:#000000; stroke-linecap:butt; stroke-linejoin:round; stroke-width:2; stroke-opacity:0.1; fill:none\" points=\"\n  1112.47,1486.45 1112.47,47.2441 \n  \"/>\n<polyline clip-path=\"url(#clip762)\" style=\"stroke:#000000; stroke-linecap:butt; stroke-linejoin:round; stroke-width:2; stroke-opacity:0.1; fill:none\" points=\"\n  1512.58,1486.45 1512.58,47.2441 \n  \"/>\n<polyline clip-path=\"url(#clip762)\" style=\"stroke:#000000; stroke-linecap:butt; stroke-linejoin:round; stroke-width:2; stroke-opacity:0.1; fill:none\" points=\"\n  1912.7,1486.45 1912.7,47.2441 \n  \"/>\n<polyline clip-path=\"url(#clip760)\" style=\"stroke:#000000; stroke-linecap:butt; stroke-linejoin:round; stroke-width:4; stroke-opacity:1; fill:none\" points=\"\n  112.177,1486.45 2112.76,1486.45 \n  \"/>\n<polyline clip-path=\"url(#clip760)\" style=\"stroke:#000000; stroke-linecap:butt; stroke-linejoin:round; stroke-width:4; stroke-opacity:1; fill:none\" points=\"\n  312.235,1486.45 312.235,1469.18 \n  \"/>\n<polyline clip-path=\"url(#clip760)\" style=\"stroke:#000000; stroke-linecap:butt; stroke-linejoin:round; stroke-width:4; stroke-opacity:1; fill:none\" points=\"\n  712.351,1486.45 712.351,1469.18 \n  \"/>\n<polyline clip-path=\"url(#clip760)\" style=\"stroke:#000000; stroke-linecap:butt; stroke-linejoin:round; stroke-width:4; stroke-opacity:1; fill:none\" points=\"\n  1112.47,1486.45 1112.47,1469.18 \n  \"/>\n<polyline clip-path=\"url(#clip760)\" style=\"stroke:#000000; stroke-linecap:butt; stroke-linejoin:round; stroke-width:4; stroke-opacity:1; fill:none\" points=\"\n  1512.58,1486.45 1512.58,1469.18 \n  \"/>\n<polyline clip-path=\"url(#clip760)\" style=\"stroke:#000000; stroke-linecap:butt; stroke-linejoin:round; stroke-width:4; stroke-opacity:1; fill:none\" points=\"\n  1912.7,1486.45 1912.7,1469.18 \n  \"/>\n<path clip-path=\"url(#clip760)\" d=\"M302.617 1543.18 L310.256 1543.18 L310.256 1516.82 L301.946 1518.49 L301.946 1514.23 L310.21 1512.56 L314.885 1512.56 L314.885 1543.18 L322.524 1543.18 L322.524 1547.12 L302.617 1547.12 L302.617 1543.18 Z\" fill=\"#000000\" fill-rule=\"evenodd\" fill-opacity=\"1\" /><path clip-path=\"url(#clip760)\" d=\"M707.004 1543.18 L723.323 1543.18 L723.323 1547.12 L701.379 1547.12 L701.379 1543.18 Q704.041 1540.43 708.624 1535.8 Q713.23 1531.15 714.411 1529.81 Q716.656 1527.28 717.536 1525.55 Q718.439 1523.79 718.439 1522.1 Q718.439 1519.34 716.494 1517.61 Q714.573 1515.87 711.471 1515.87 Q709.272 1515.87 706.818 1516.63 Q704.388 1517.4 701.61 1518.95 L701.61 1514.23 Q704.434 1513.09 706.888 1512.51 Q709.342 1511.93 711.379 1511.93 Q716.749 1511.93 719.943 1514.62 Q723.138 1517.31 723.138 1521.8 Q723.138 1523.93 722.328 1525.85 Q721.541 1527.74 719.434 1530.34 Q718.855 1531.01 715.754 1534.23 Q712.652 1537.42 707.004 1543.18 Z\" fill=\"#000000\" fill-rule=\"evenodd\" fill-opacity=\"1\" /><path clip-path=\"url(#clip760)\" d=\"M1116.71 1528.49 Q1120.07 1529.2 1121.95 1531.47 Q1123.84 1533.74 1123.84 1537.07 Q1123.84 1542.19 1120.33 1544.99 Q1116.81 1547.79 1110.33 1547.79 Q1108.15 1547.79 1105.83 1547.35 Q1103.54 1546.93 1101.09 1546.08 L1101.09 1541.56 Q1103.03 1542.7 1105.35 1543.28 Q1107.66 1543.86 1110.19 1543.86 Q1114.58 1543.86 1116.88 1542.12 Q1119.19 1540.38 1119.19 1537.07 Q1119.19 1534.02 1117.04 1532.31 Q1114.91 1530.57 1111.09 1530.57 L1107.06 1530.57 L1107.06 1526.73 L1111.27 1526.73 Q1114.72 1526.73 1116.55 1525.36 Q1118.38 1523.97 1118.38 1521.38 Q1118.38 1518.72 1116.48 1517.31 Q1114.61 1515.87 1111.09 1515.87 Q1109.17 1515.87 1106.97 1516.29 Q1104.77 1516.7 1102.13 1517.58 L1102.13 1513.42 Q1104.79 1512.68 1107.11 1512.31 Q1109.45 1511.93 1111.51 1511.93 Q1116.83 1511.93 1119.93 1514.37 Q1123.03 1516.77 1123.03 1520.89 Q1123.03 1523.76 1121.39 1525.75 Q1119.75 1527.72 1116.71 1528.49 Z\" fill=\"#000000\" fill-rule=\"evenodd\" fill-opacity=\"1\" /><path clip-path=\"url(#clip760)\" d=\"M1515.59 1516.63 L1503.79 1535.08 L1515.59 1535.08 L1515.59 1516.63 M1514.36 1512.56 L1520.24 1512.56 L1520.24 1535.08 L1525.17 1535.08 L1525.17 1538.97 L1520.24 1538.97 L1520.24 1547.12 L1515.59 1547.12 L1515.59 1538.97 L1499.99 1538.97 L1499.99 1534.46 L1514.36 1512.56 Z\" fill=\"#000000\" fill-rule=\"evenodd\" fill-opacity=\"1\" /><path clip-path=\"url(#clip760)\" d=\"M1902.98 1512.56 L1921.33 1512.56 L1921.33 1516.5 L1907.26 1516.5 L1907.26 1524.97 Q1908.28 1524.62 1909.3 1524.46 Q1910.31 1524.27 1911.33 1524.27 Q1917.12 1524.27 1920.5 1527.44 Q1923.88 1530.62 1923.88 1536.03 Q1923.88 1541.61 1920.41 1544.71 Q1916.93 1547.79 1910.61 1547.79 Q1908.44 1547.79 1906.17 1547.42 Q1903.92 1547.05 1901.52 1546.31 L1901.52 1541.61 Q1903.6 1542.74 1905.82 1543.3 Q1908.05 1543.86 1910.52 1543.86 Q1914.53 1543.86 1916.86 1541.75 Q1919.2 1539.64 1919.2 1536.03 Q1919.2 1532.42 1916.86 1530.31 Q1914.53 1528.21 1910.52 1528.21 Q1908.65 1528.21 1906.77 1528.62 Q1904.92 1529.04 1902.98 1529.92 L1902.98 1512.56 Z\" fill=\"#000000\" fill-rule=\"evenodd\" fill-opacity=\"1\" /><polyline clip-path=\"url(#clip762)\" style=\"stroke:#000000; stroke-linecap:butt; stroke-linejoin:round; stroke-width:2; stroke-opacity:0.1; fill:none\" points=\"\n  112.177,1342.53 2112.76,1342.53 \n  \"/>\n<polyline clip-path=\"url(#clip762)\" style=\"stroke:#000000; stroke-linecap:butt; stroke-linejoin:round; stroke-width:2; stroke-opacity:0.1; fill:none\" points=\"\n  112.177,1054.69 2112.76,1054.69 \n  \"/>\n<polyline clip-path=\"url(#clip762)\" style=\"stroke:#000000; stroke-linecap:butt; stroke-linejoin:round; stroke-width:2; stroke-opacity:0.1; fill:none\" points=\"\n  112.177,766.846 2112.76,766.846 \n  \"/>\n<polyline clip-path=\"url(#clip762)\" style=\"stroke:#000000; stroke-linecap:butt; stroke-linejoin:round; stroke-width:2; stroke-opacity:0.1; fill:none\" points=\"\n  112.177,479.005 2112.76,479.005 \n  \"/>\n<polyline clip-path=\"url(#clip762)\" style=\"stroke:#000000; stroke-linecap:butt; stroke-linejoin:round; stroke-width:2; stroke-opacity:0.1; fill:none\" points=\"\n  112.177,191.164 2112.76,191.164 \n  \"/>\n<polyline clip-path=\"url(#clip760)\" style=\"stroke:#000000; stroke-linecap:butt; stroke-linejoin:round; stroke-width:4; stroke-opacity:1; fill:none\" points=\"\n  112.177,1486.45 112.177,47.2441 \n  \"/>\n<polyline clip-path=\"url(#clip760)\" style=\"stroke:#000000; stroke-linecap:butt; stroke-linejoin:round; stroke-width:4; stroke-opacity:1; fill:none\" points=\"\n  112.177,1342.53 136.184,1342.53 \n  \"/>\n<polyline clip-path=\"url(#clip760)\" style=\"stroke:#000000; stroke-linecap:butt; stroke-linejoin:round; stroke-width:4; stroke-opacity:1; fill:none\" points=\"\n  112.177,1054.69 136.184,1054.69 \n  \"/>\n<polyline clip-path=\"url(#clip760)\" style=\"stroke:#000000; stroke-linecap:butt; stroke-linejoin:round; stroke-width:4; stroke-opacity:1; fill:none\" points=\"\n  112.177,766.846 136.184,766.846 \n  \"/>\n<polyline clip-path=\"url(#clip760)\" style=\"stroke:#000000; stroke-linecap:butt; stroke-linejoin:round; stroke-width:4; stroke-opacity:1; fill:none\" points=\"\n  112.177,479.005 136.184,479.005 \n  \"/>\n<polyline clip-path=\"url(#clip760)\" style=\"stroke:#000000; stroke-linecap:butt; stroke-linejoin:round; stroke-width:4; stroke-opacity:1; fill:none\" points=\"\n  112.177,191.164 136.184,191.164 \n  \"/>\n<path clip-path=\"url(#clip760)\" d=\"M56.2699 1355.87 L63.9087 1355.87 L63.9087 1329.51 L55.5986 1331.17 L55.5986 1326.91 L63.8624 1325.25 L68.5383 1325.25 L68.5383 1355.87 L76.1772 1355.87 L76.1772 1359.81 L56.2699 1359.81 L56.2699 1355.87 Z\" fill=\"#000000\" fill-rule=\"evenodd\" fill-opacity=\"1\" /><path clip-path=\"url(#clip760)\" d=\"M59.8578 1068.03 L76.1772 1068.03 L76.1772 1071.97 L54.2328 1071.97 L54.2328 1068.03 Q56.8949 1065.28 61.4782 1060.65 Q66.0846 1055.99 67.2652 1054.65 Q69.5105 1052.13 70.3902 1050.39 Q71.2929 1048.63 71.2929 1046.94 Q71.2929 1044.19 69.3485 1042.45 Q67.4272 1040.72 64.3254 1040.72 Q62.1263 1040.72 59.6726 1041.48 Q57.2421 1042.24 54.4643 1043.8 L54.4643 1039.07 Q57.2884 1037.94 59.7421 1037.36 Q62.1958 1036.78 64.2328 1036.78 Q69.6031 1036.78 72.7976 1039.47 Q75.992 1042.15 75.992 1046.64 Q75.992 1048.77 75.1818 1050.69 Q74.3948 1052.59 72.2883 1055.18 Q71.7096 1055.86 68.6078 1059.07 Q65.5059 1062.27 59.8578 1068.03 Z\" fill=\"#000000\" fill-rule=\"evenodd\" fill-opacity=\"1\" /><path clip-path=\"url(#clip760)\" d=\"M69.0476 765.492 Q72.404 766.209 74.279 768.478 Q76.1772 770.746 76.1772 774.08 Q76.1772 779.195 72.6587 781.996 Q69.1402 784.797 62.6587 784.797 Q60.4828 784.797 58.168 784.357 Q55.8764 783.941 53.4227 783.084 L53.4227 778.57 Q55.3671 779.705 57.6819 780.283 Q59.9967 780.862 62.5198 780.862 Q66.918 780.862 69.2096 779.126 Q71.5244 777.39 71.5244 774.08 Q71.5244 771.024 69.3717 769.311 Q67.242 767.575 63.4226 767.575 L59.3949 767.575 L59.3949 763.733 L63.6078 763.733 Q67.0569 763.733 68.8855 762.367 Q70.7142 760.978 70.7142 758.385 Q70.7142 755.723 68.8161 754.311 Q66.9411 752.876 63.4226 752.876 Q61.5013 752.876 59.3023 753.293 Q57.1032 753.709 54.4643 754.589 L54.4643 750.422 Q57.1264 749.682 59.4412 749.311 Q61.7791 748.941 63.8393 748.941 Q69.1633 748.941 72.2652 751.372 Q75.367 753.779 75.367 757.899 Q75.367 760.77 73.7235 762.76 Q72.08 764.728 69.0476 765.492 Z\" fill=\"#000000\" fill-rule=\"evenodd\" fill-opacity=\"1\" /><path clip-path=\"url(#clip760)\" d=\"M66.5939 465.799 L54.7884 484.248 L66.5939 484.248 L66.5939 465.799 M65.367 461.725 L71.2466 461.725 L71.2466 484.248 L76.1772 484.248 L76.1772 488.137 L71.2466 488.137 L71.2466 496.285 L66.5939 496.285 L66.5939 488.137 L50.9921 488.137 L50.9921 483.623 L65.367 461.725 Z\" fill=\"#000000\" fill-rule=\"evenodd\" fill-opacity=\"1\" /><path clip-path=\"url(#clip760)\" d=\"M55.2745 173.884 L73.6309 173.884 L73.6309 177.82 L59.5569 177.82 L59.5569 186.292 Q60.5754 185.945 61.5939 185.783 Q62.6124 185.597 63.6309 185.597 Q69.418 185.597 72.7976 188.769 Q76.1772 191.94 76.1772 197.357 Q76.1772 202.935 72.705 206.037 Q69.2328 209.116 62.9134 209.116 Q60.7374 209.116 58.4689 208.745 Q56.2236 208.375 53.8162 207.634 L53.8162 202.935 Q55.8995 204.069 58.1217 204.625 Q60.3439 205.181 62.8208 205.181 Q66.8254 205.181 69.1633 203.074 Q71.5013 200.968 71.5013 197.357 Q71.5013 193.745 69.1633 191.639 Q66.8254 189.533 62.8208 189.533 Q60.9458 189.533 59.0708 189.949 Q57.2189 190.366 55.2745 191.245 L55.2745 173.884 Z\" fill=\"#000000\" fill-rule=\"evenodd\" fill-opacity=\"1\" /><g clip-path=\"url(#clip762)\">\n<image width=\"2001\" height=\"1439\" xlink:href=\"data:image/png;base64,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\nWgAAAABJRU5ErkJggg==\n\" transform=\"translate(112, 47)\"/>\n</g>\n<defs>\n  <clipPath id=\"clip763\">\n    <rect x=\"2160\" y=\"47\" width=\"73\" height=\"1440\"/>\n  </clipPath>\n</defs>\n<g clip-path=\"url(#clip763)\">\n<image width=\"72\" height=\"1439\" xlink:href=\"data:image/png;base64,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\n4Q8qCR9ngvpkcQAAAABJRU5ErkJggg==\n\" transform=\"translate(2161, 47)\"/>\n</g>\n<path clip-path=\"url(#clip760)\" d=\"M2268.76 1359.67 L2298.43 1359.67 L2298.43 1363.6 L2268.76 1363.6 L2268.76 1359.67 Z\" fill=\"#000000\" fill-rule=\"evenodd\" fill-opacity=\"1\" /><path clip-path=\"url(#clip760)\" d=\"M2318.52 1345.01 Q2314.91 1345.01 2313.08 1348.58 Q2311.28 1352.12 2311.28 1359.25 Q2311.28 1366.36 2313.08 1369.92 Q2314.91 1373.46 2318.52 1373.46 Q2322.16 1373.46 2323.96 1369.92 Q2325.79 1366.36 2325.79 1359.25 Q2325.79 1352.12 2323.96 1348.58 Q2322.16 1345.01 2318.52 1345.01 M2318.52 1341.31 Q2324.33 1341.31 2327.39 1345.92 Q2330.47 1350.5 2330.47 1359.25 Q2330.47 1367.98 2327.39 1372.58 Q2324.33 1377.17 2318.52 1377.17 Q2312.71 1377.17 2309.64 1372.58 Q2306.58 1367.98 2306.58 1359.25 Q2306.58 1350.5 2309.64 1345.92 Q2312.71 1341.31 2318.52 1341.31 Z\" fill=\"#000000\" fill-rule=\"evenodd\" fill-opacity=\"1\" /><path clip-path=\"url(#clip760)\" d=\"M2338.69 1370.62 L2343.57 1370.62 L2343.57 1376.49 L2338.69 1376.49 L2338.69 1370.62 Z\" fill=\"#000000\" fill-rule=\"evenodd\" fill-opacity=\"1\" /><path clip-path=\"url(#clip760)\" d=\"M2352.57 1341.93 L2374.8 1341.93 L2374.8 1343.93 L2362.25 1376.49 L2357.37 1376.49 L2369.17 1345.87 L2352.57 1345.87 L2352.57 1341.93 Z\" fill=\"#000000\" fill-rule=\"evenodd\" fill-opacity=\"1\" /><path clip-path=\"url(#clip760)\" d=\"M2383.96 1341.93 L2402.32 1341.93 L2402.32 1345.87 L2388.25 1345.87 L2388.25 1354.34 Q2389.26 1353.99 2390.28 1353.83 Q2391.3 1353.65 2392.32 1353.65 Q2398.11 1353.65 2401.49 1356.82 Q2404.87 1359.99 2404.87 1365.41 Q2404.87 1370.99 2401.39 1374.09 Q2397.92 1377.17 2391.6 1377.17 Q2389.43 1377.17 2387.16 1376.8 Q2384.91 1376.43 2382.51 1375.68 L2382.51 1370.99 Q2384.59 1372.12 2386.81 1372.68 Q2389.03 1373.23 2391.51 1373.23 Q2395.51 1373.23 2397.85 1371.12 Q2400.19 1369.02 2400.19 1365.41 Q2400.19 1361.8 2397.85 1359.69 Q2395.51 1357.58 2391.51 1357.58 Q2389.63 1357.58 2387.76 1358 Q2385.91 1358.42 2383.96 1359.3 L2383.96 1341.93 Z\" fill=\"#000000\" fill-rule=\"evenodd\" fill-opacity=\"1\" /><path clip-path=\"url(#clip760)\" d=\"M2268.76 1171.72 L2298.43 1171.72 L2298.43 1175.66 L2268.76 1175.66 L2268.76 1171.72 Z\" fill=\"#000000\" fill-rule=\"evenodd\" fill-opacity=\"1\" /><path clip-path=\"url(#clip760)\" d=\"M2318.52 1157.07 Q2314.91 1157.07 2313.08 1160.64 Q2311.28 1164.18 2311.28 1171.31 Q2311.28 1178.41 2313.08 1181.98 Q2314.91 1185.52 2318.52 1185.52 Q2322.16 1185.52 2323.96 1181.98 Q2325.79 1178.41 2325.79 1171.31 Q2325.79 1164.18 2323.96 1160.64 Q2322.16 1157.07 2318.52 1157.07 M2318.52 1153.37 Q2324.33 1153.37 2327.39 1157.97 Q2330.47 1162.56 2330.47 1171.31 Q2330.47 1180.03 2327.39 1184.64 Q2324.33 1189.22 2318.52 1189.22 Q2312.71 1189.22 2309.64 1184.64 Q2306.58 1180.03 2306.58 1171.31 Q2306.58 1162.56 2309.64 1157.97 Q2312.71 1153.37 2318.52 1153.37 Z\" fill=\"#000000\" fill-rule=\"evenodd\" fill-opacity=\"1\" /><path clip-path=\"url(#clip760)\" d=\"M2338.69 1182.67 L2343.57 1182.67 L2343.57 1188.55 L2338.69 1188.55 L2338.69 1182.67 Z\" fill=\"#000000\" fill-rule=\"evenodd\" fill-opacity=\"1\" /><path clip-path=\"url(#clip760)\" d=\"M2353.8 1153.99 L2372.16 1153.99 L2372.16 1157.93 L2358.08 1157.93 L2358.08 1166.4 Q2359.1 1166.05 2360.12 1165.89 Q2361.14 1165.7 2362.16 1165.7 Q2367.95 1165.7 2371.32 1168.88 Q2374.7 1172.05 2374.7 1177.46 Q2374.7 1183.04 2371.23 1186.14 Q2367.76 1189.22 2361.44 1189.22 Q2359.26 1189.22 2357 1188.85 Q2354.75 1188.48 2352.34 1187.74 L2352.34 1183.04 Q2354.43 1184.18 2356.65 1184.73 Q2358.87 1185.29 2361.35 1185.29 Q2365.35 1185.29 2367.69 1183.18 Q2370.03 1181.08 2370.03 1177.46 Q2370.03 1173.85 2367.69 1171.75 Q2365.35 1169.64 2361.35 1169.64 Q2359.47 1169.64 2357.6 1170.06 Q2355.75 1170.47 2353.8 1171.35 L2353.8 1153.99 Z\" fill=\"#000000\" fill-rule=\"evenodd\" fill-opacity=\"1\" /><path clip-path=\"url(#clip760)\" d=\"M2393.92 1157.07 Q2390.31 1157.07 2388.48 1160.64 Q2386.67 1164.18 2386.67 1171.31 Q2386.67 1178.41 2388.48 1181.98 Q2390.31 1185.52 2393.92 1185.52 Q2397.55 1185.52 2399.36 1181.98 Q2401.19 1178.41 2401.19 1171.31 Q2401.19 1164.18 2399.36 1160.64 Q2397.55 1157.07 2393.92 1157.07 M2393.92 1153.37 Q2399.73 1153.37 2402.78 1157.97 Q2405.86 1162.56 2405.86 1171.31 Q2405.86 1180.03 2402.78 1184.64 Q2399.73 1189.22 2393.92 1189.22 Q2388.11 1189.22 2385.03 1184.64 Q2381.97 1180.03 2381.97 1171.31 Q2381.97 1162.56 2385.03 1157.97 Q2388.11 1153.37 2393.92 1153.37 Z\" fill=\"#000000\" fill-rule=\"evenodd\" fill-opacity=\"1\" /><path clip-path=\"url(#clip760)\" d=\"M2268.76 983.78 L2298.43 983.78 L2298.43 987.716 L2268.76 987.716 L2268.76 983.78 Z\" fill=\"#000000\" fill-rule=\"evenodd\" fill-opacity=\"1\" /><path clip-path=\"url(#clip760)\" d=\"M2318.52 969.128 Q2314.91 969.128 2313.08 972.693 Q2311.28 976.234 2311.28 983.364 Q2311.28 990.47 2313.08 994.035 Q2314.91 997.577 2318.52 997.577 Q2322.16 997.577 2323.96 994.035 Q2325.79 990.47 2325.79 983.364 Q2325.79 976.234 2323.96 972.693 Q2322.16 969.128 2318.52 969.128 M2318.52 965.424 Q2324.33 965.424 2327.39 970.031 Q2330.47 974.614 2330.47 983.364 Q2330.47 992.091 2327.39 996.697 Q2324.33 1001.28 2318.52 1001.28 Q2312.71 1001.28 2309.64 996.697 Q2306.58 992.091 2306.58 983.364 Q2306.58 974.614 2309.64 970.031 Q2312.71 965.424 2318.52 965.424 Z\" fill=\"#000000\" fill-rule=\"evenodd\" fill-opacity=\"1\" /><path clip-path=\"url(#clip760)\" d=\"M2338.69 994.729 L2343.57 994.729 L2343.57 1000.61 L2338.69 1000.61 L2338.69 994.729 Z\" fill=\"#000000\" fill-rule=\"evenodd\" fill-opacity=\"1\" /><path clip-path=\"url(#clip760)\" d=\"M2357.78 996.674 L2374.1 996.674 L2374.1 1000.61 L2352.16 1000.61 L2352.16 996.674 Q2354.82 993.919 2359.4 989.29 Q2364.01 984.637 2365.19 983.294 Q2367.44 980.771 2368.32 979.035 Q2369.22 977.276 2369.22 975.586 Q2369.22 972.831 2367.27 971.095 Q2365.35 969.359 2362.25 969.359 Q2360.05 969.359 2357.6 970.123 Q2355.17 970.887 2352.39 972.438 L2352.39 967.716 Q2355.21 966.582 2357.67 966.003 Q2360.12 965.424 2362.16 965.424 Q2367.53 965.424 2370.72 968.109 Q2373.92 970.794 2373.92 975.285 Q2373.92 977.415 2373.11 979.336 Q2372.32 981.234 2370.21 983.827 Q2369.63 984.498 2366.53 987.716 Q2363.43 990.91 2357.78 996.674 Z\" fill=\"#000000\" fill-rule=\"evenodd\" fill-opacity=\"1\" /><path clip-path=\"url(#clip760)\" d=\"M2383.96 966.049 L2402.32 966.049 L2402.32 969.984 L2388.25 969.984 L2388.25 978.456 Q2389.26 978.109 2390.28 977.947 Q2391.3 977.762 2392.32 977.762 Q2398.11 977.762 2401.49 980.933 Q2404.87 984.105 2404.87 989.521 Q2404.87 995.1 2401.39 998.202 Q2397.92 1001.28 2391.6 1001.28 Q2389.43 1001.28 2387.16 1000.91 Q2384.91 1000.54 2382.51 999.799 L2382.51 995.1 Q2384.59 996.234 2386.81 996.79 Q2389.03 997.345 2391.51 997.345 Q2395.51 997.345 2397.85 995.239 Q2400.19 993.132 2400.19 989.521 Q2400.19 985.91 2397.85 983.804 Q2395.51 981.697 2391.51 981.697 Q2389.63 981.697 2387.76 982.114 Q2385.91 982.53 2383.96 983.41 L2383.96 966.049 Z\" fill=\"#000000\" fill-rule=\"evenodd\" fill-opacity=\"1\" /><path clip-path=\"url(#clip760)\" d=\"M2280.7 781.185 Q2277.09 781.185 2275.26 784.75 Q2273.45 788.291 2273.45 795.421 Q2273.45 802.528 2275.26 806.092 Q2277.09 809.634 2280.7 809.634 Q2284.33 809.634 2286.14 806.092 Q2287.97 802.528 2287.97 795.421 Q2287.97 788.291 2286.14 784.75 Q2284.33 781.185 2280.7 781.185 M2280.7 777.481 Q2286.51 777.481 2289.57 782.088 Q2292.64 786.671 2292.64 795.421 Q2292.64 804.148 2289.57 808.754 Q2286.51 813.338 2280.7 813.338 Q2274.89 813.338 2271.81 808.754 Q2268.76 804.148 2268.76 795.421 Q2268.76 786.671 2271.81 782.088 Q2274.89 777.481 2280.7 777.481 Z\" fill=\"#000000\" fill-rule=\"evenodd\" fill-opacity=\"1\" /><path clip-path=\"url(#clip760)\" d=\"M2280.7 593.242 Q2277.09 593.242 2275.26 596.807 Q2273.45 600.349 2273.45 607.478 Q2273.45 614.585 2275.26 618.15 Q2277.09 621.691 2280.7 621.691 Q2284.33 621.691 2286.14 618.15 Q2287.97 614.585 2287.97 607.478 Q2287.97 600.349 2286.14 596.807 Q2284.33 593.242 2280.7 593.242 M2280.7 589.539 Q2286.51 589.539 2289.57 594.145 Q2292.64 598.728 2292.64 607.478 Q2292.64 616.205 2289.57 620.812 Q2286.51 625.395 2280.7 625.395 Q2274.89 625.395 2271.81 620.812 Q2268.76 616.205 2268.76 607.478 Q2268.76 598.728 2271.81 594.145 Q2274.89 589.539 2280.7 589.539 Z\" fill=\"#000000\" fill-rule=\"evenodd\" fill-opacity=\"1\" /><path clip-path=\"url(#clip760)\" d=\"M2300.86 618.844 L2305.75 618.844 L2305.75 624.724 L2300.86 624.724 L2300.86 618.844 Z\" fill=\"#000000\" fill-rule=\"evenodd\" fill-opacity=\"1\" /><path clip-path=\"url(#clip760)\" d=\"M2319.96 620.788 L2336.28 620.788 L2336.28 624.724 L2314.33 624.724 L2314.33 620.788 Q2317 618.034 2321.58 613.404 Q2326.19 608.751 2327.37 607.409 Q2329.61 604.886 2330.49 603.15 Q2331.39 601.39 2331.39 599.701 Q2331.39 596.946 2329.45 595.21 Q2327.53 593.474 2324.43 593.474 Q2322.23 593.474 2319.77 594.238 Q2317.34 595.002 2314.57 596.552 L2314.57 591.83 Q2317.39 590.696 2319.84 590.117 Q2322.3 589.539 2324.33 589.539 Q2329.7 589.539 2332.9 592.224 Q2336.09 594.909 2336.09 599.4 Q2336.09 601.529 2335.28 603.451 Q2334.5 605.349 2332.39 607.941 Q2331.81 608.613 2328.71 611.83 Q2325.61 615.025 2319.96 620.788 Z\" fill=\"#000000\" fill-rule=\"evenodd\" fill-opacity=\"1\" /><path clip-path=\"url(#clip760)\" d=\"M2346.14 590.164 L2364.5 590.164 L2364.5 594.099 L2350.42 594.099 L2350.42 602.571 Q2351.44 602.224 2352.46 602.062 Q2353.48 601.876 2354.5 601.876 Q2360.28 601.876 2363.66 605.048 Q2367.04 608.219 2367.04 613.636 Q2367.04 619.214 2363.57 622.316 Q2360.1 625.395 2353.78 625.395 Q2351.6 625.395 2349.33 625.025 Q2347.09 624.654 2344.68 623.913 L2344.68 619.214 Q2346.76 620.349 2348.99 620.904 Q2351.21 621.46 2353.69 621.46 Q2357.69 621.46 2360.03 619.353 Q2362.37 617.247 2362.37 613.636 Q2362.37 610.025 2360.03 607.918 Q2357.69 605.812 2353.69 605.812 Q2351.81 605.812 2349.94 606.228 Q2348.08 606.645 2346.14 607.525 L2346.14 590.164 Z\" fill=\"#000000\" fill-rule=\"evenodd\" fill-opacity=\"1\" /><path clip-path=\"url(#clip760)\" d=\"M2280.7 405.3 Q2277.09 405.3 2275.26 408.864 Q2273.45 412.406 2273.45 419.536 Q2273.45 426.642 2275.26 430.207 Q2277.09 433.748 2280.7 433.748 Q2284.33 433.748 2286.14 430.207 Q2287.97 426.642 2287.97 419.536 Q2287.97 412.406 2286.14 408.864 Q2284.33 405.3 2280.7 405.3 M2280.7 401.596 Q2286.51 401.596 2289.57 406.202 Q2292.64 410.786 2292.64 419.536 Q2292.64 428.262 2289.57 432.869 Q2286.51 437.452 2280.7 437.452 Q2274.89 437.452 2271.81 432.869 Q2268.76 428.262 2268.76 419.536 Q2268.76 410.786 2271.81 406.202 Q2274.89 401.596 2280.7 401.596 Z\" fill=\"#000000\" fill-rule=\"evenodd\" fill-opacity=\"1\" /><path clip-path=\"url(#clip760)\" d=\"M2300.86 430.901 L2305.75 430.901 L2305.75 436.781 L2300.86 436.781 L2300.86 430.901 Z\" fill=\"#000000\" fill-rule=\"evenodd\" fill-opacity=\"1\" /><path clip-path=\"url(#clip760)\" d=\"M2315.98 402.221 L2334.33 402.221 L2334.33 406.156 L2320.26 406.156 L2320.26 414.628 Q2321.28 414.281 2322.3 414.119 Q2323.32 413.934 2324.33 413.934 Q2330.12 413.934 2333.5 417.105 Q2336.88 420.276 2336.88 425.693 Q2336.88 431.272 2333.41 434.373 Q2329.94 437.452 2323.62 437.452 Q2321.44 437.452 2319.17 437.082 Q2316.93 436.711 2314.52 435.971 L2314.52 431.272 Q2316.6 432.406 2318.83 432.961 Q2321.05 433.517 2323.52 433.517 Q2327.53 433.517 2329.87 431.41 Q2332.2 429.304 2332.2 425.693 Q2332.2 422.082 2329.87 419.975 Q2327.53 417.869 2323.52 417.869 Q2321.65 417.869 2319.77 418.286 Q2317.92 418.702 2315.98 419.582 L2315.98 402.221 Z\" fill=\"#000000\" fill-rule=\"evenodd\" fill-opacity=\"1\" /><path clip-path=\"url(#clip760)\" d=\"M2356.09 405.3 Q2352.48 405.3 2350.65 408.864 Q2348.85 412.406 2348.85 419.536 Q2348.85 426.642 2350.65 430.207 Q2352.48 433.748 2356.09 433.748 Q2359.73 433.748 2361.53 430.207 Q2363.36 426.642 2363.36 419.536 Q2363.36 412.406 2361.53 408.864 Q2359.73 405.3 2356.09 405.3 M2356.09 401.596 Q2361.9 401.596 2364.96 406.202 Q2368.04 410.786 2368.04 419.536 Q2368.04 428.262 2364.96 432.869 Q2361.9 437.452 2356.09 437.452 Q2350.28 437.452 2347.2 432.869 Q2344.15 428.262 2344.15 419.536 Q2344.15 410.786 2347.2 406.202 Q2350.28 401.596 2356.09 401.596 Z\" fill=\"#000000\" fill-rule=\"evenodd\" fill-opacity=\"1\" /><path clip-path=\"url(#clip760)\" d=\"M2280.7 217.357 Q2277.09 217.357 2275.26 220.922 Q2273.45 224.463 2273.45 231.593 Q2273.45 238.699 2275.26 242.264 Q2277.09 245.806 2280.7 245.806 Q2284.33 245.806 2286.14 242.264 Q2287.97 238.699 2287.97 231.593 Q2287.97 224.463 2286.14 220.922 Q2284.33 217.357 2280.7 217.357 M2280.7 213.653 Q2286.51 213.653 2289.57 218.26 Q2292.64 222.843 2292.64 231.593 Q2292.64 240.32 2289.57 244.926 Q2286.51 249.509 2280.7 249.509 Q2274.89 249.509 2271.81 244.926 Q2268.76 240.32 2268.76 231.593 Q2268.76 222.843 2271.81 218.26 Q2274.89 213.653 2280.7 213.653 Z\" fill=\"#000000\" fill-rule=\"evenodd\" fill-opacity=\"1\" /><path clip-path=\"url(#clip760)\" d=\"M2300.86 242.958 L2305.75 242.958 L2305.75 248.838 L2300.86 248.838 L2300.86 242.958 Z\" fill=\"#000000\" fill-rule=\"evenodd\" fill-opacity=\"1\" /><path clip-path=\"url(#clip760)\" d=\"M2314.75 214.278 L2336.97 214.278 L2336.97 216.269 L2324.43 248.838 L2319.54 248.838 L2331.35 218.213 L2314.75 218.213 L2314.75 214.278 Z\" fill=\"#000000\" fill-rule=\"evenodd\" fill-opacity=\"1\" /><path clip-path=\"url(#clip760)\" d=\"M2346.14 214.278 L2364.5 214.278 L2364.5 218.213 L2350.42 218.213 L2350.42 226.685 Q2351.44 226.338 2352.46 226.176 Q2353.48 225.991 2354.5 225.991 Q2360.28 225.991 2363.66 229.162 Q2367.04 232.334 2367.04 237.75 Q2367.04 243.329 2363.57 246.431 Q2360.1 249.509 2353.78 249.509 Q2351.6 249.509 2349.33 249.139 Q2347.09 248.769 2344.68 248.028 L2344.68 243.329 Q2346.76 244.463 2348.99 245.019 Q2351.21 245.574 2353.69 245.574 Q2357.69 245.574 2360.03 243.468 Q2362.37 241.361 2362.37 237.75 Q2362.37 234.139 2360.03 232.033 Q2357.69 229.926 2353.69 229.926 Q2351.81 229.926 2349.94 230.343 Q2348.08 230.759 2346.14 231.639 L2346.14 214.278 Z\" fill=\"#000000\" fill-rule=\"evenodd\" fill-opacity=\"1\" /><path clip-path=\"url(#clip760)\" d=\"M2269.43 56.9601 L2277.07 56.9601 L2277.07 30.5945 L2268.76 32.2612 L2268.76 28.002 L2277.02 26.3353 L2281.7 26.3353 L2281.7 56.9601 L2289.33 56.9601 L2289.33 60.8953 L2269.43 60.8953 L2269.43 56.9601 Z\" fill=\"#000000\" fill-rule=\"evenodd\" fill-opacity=\"1\" /><path clip-path=\"url(#clip760)\" d=\"M2298.78 55.0157 L2303.66 55.0157 L2303.66 60.8953 L2298.78 60.8953 L2298.78 55.0157 Z\" fill=\"#000000\" fill-rule=\"evenodd\" fill-opacity=\"1\" /><path clip-path=\"url(#clip760)\" d=\"M2323.85 29.414 Q2320.24 29.414 2318.41 32.9788 Q2316.6 36.5204 2316.6 43.65 Q2316.6 50.7565 2318.41 54.3213 Q2320.24 57.8629 2323.85 57.8629 Q2327.48 57.8629 2329.29 54.3213 Q2331.12 50.7565 2331.12 43.65 Q2331.12 36.5204 2329.29 32.9788 Q2327.48 29.414 2323.85 29.414 M2323.85 25.7103 Q2329.66 25.7103 2332.71 30.3168 Q2335.79 34.9001 2335.79 43.65 Q2335.79 52.3768 2332.71 56.9833 Q2329.66 61.5666 2323.85 61.5666 Q2318.04 61.5666 2314.96 56.9833 Q2311.9 52.3768 2311.9 43.65 Q2311.9 34.9001 2314.96 30.3168 Q2318.04 25.7103 2323.85 25.7103 Z\" fill=\"#000000\" fill-rule=\"evenodd\" fill-opacity=\"1\" /><path clip-path=\"url(#clip760)\" d=\"M2354.01 29.414 Q2350.4 29.414 2348.57 32.9788 Q2346.76 36.5204 2346.76 43.65 Q2346.76 50.7565 2348.57 54.3213 Q2350.4 57.8629 2354.01 57.8629 Q2357.64 57.8629 2359.45 54.3213 Q2361.28 50.7565 2361.28 43.65 Q2361.28 36.5204 2359.45 32.9788 Q2357.64 29.414 2354.01 29.414 M2354.01 25.7103 Q2359.82 25.7103 2362.88 30.3168 Q2365.95 34.9001 2365.95 43.65 Q2365.95 52.3768 2362.88 56.9833 Q2359.82 61.5666 2354.01 61.5666 Q2348.2 61.5666 2345.12 56.9833 Q2342.07 52.3768 2342.07 43.65 Q2342.07 34.9001 2345.12 30.3168 Q2348.2 25.7103 2354.01 25.7103 Z\" fill=\"#000000\" fill-rule=\"evenodd\" fill-opacity=\"1\" /><polyline clip-path=\"url(#clip760)\" style=\"stroke:#000000; stroke-linecap:butt; stroke-linejoin:round; stroke-width:4; stroke-opacity:1; fill:none\" points=\"\n  2232.76,1486.45 2232.76,1362.84 2256.76,1362.84 2232.76,1362.84 2232.76,1174.9 2256.76,1174.9 2232.76,1174.9 2232.76,986.958 2256.76,986.958 2232.76,986.958 \n  2232.76,799.015 2256.76,799.015 2232.76,799.015 2232.76,611.072 2256.76,611.072 2232.76,611.072 2232.76,423.13 2256.76,423.13 2232.76,423.13 2232.76,235.187 \n  2256.76,235.187 2232.76,235.187 2232.76,47.2441 2256.76,47.2441 2232.76,47.2441 \n  \"/>\n</svg>\n"
     },
     "execution_count": 26,
     "metadata": {},
     "output_type": "execute_result"
    }
   ],
   "source": [
    "# The first and last class are highly correlated\n",
    "log_corrs = cor(transpose(ScikitLearn.predict_proba(logistic, Matrix(df[!, names(df, features)]))), dims=2)\n",
    "display(log_corrs)\n",
    "\n",
    "heatmap(log_corrs,  c=palette(:RdYlGn))"
   ]
  },
  {
   "cell_type": "code",
   "execution_count": 27,
   "id": "2d761547-48b6-49f3-95f9-453616a42076",
   "metadata": {},
   "outputs": [
    {
     "data": {
      "text/plain": [
       "0.050658929537343786"
      ]
     },
     "execution_count": 27,
     "metadata": {},
     "output_type": "execute_result"
    }
   ],
   "source": [
    "# In-sample correlation\n",
    "\n",
    "prob_matrix = ScikitLearn.predict_proba(logistic, Matrix(df[!, names(df, features)]))\n",
    "classes = logistic.classes_\n",
    "numerai_score(df.target, prob_matrix * classes, df)"
   ]
  },
  {
   "cell_type": "code",
   "execution_count": 28,
   "id": "73d62810-c0b4-476e-8bd9-920e807933b9",
   "metadata": {},
   "outputs": [
    {
     "data": {
      "text/plain": [
       "0.05107803901831943"
      ]
     },
     "execution_count": 28,
     "metadata": {},
     "output_type": "execute_result"
    }
   ],
   "source": [
    "# A standard linear model has a slightly higher correlation\n",
    "linear = LinearRegression()\n",
    "ScikitLearn.fit!(linear, Matrix(df[!, names(df, features)]), df.target)\n",
    "ScikitLearn.score(linear, Matrix(df[!, names(df, features)]), df.target)\n",
    "preds = ScikitLearn.predict(linear, Matrix(df[!, names(df, features)]))\n",
    "numerai_score(df.target, preds, df)"
   ]
  },
  {
   "cell_type": "markdown",
   "id": "060782e7-a8bb-484b-8061-8d5bb2128998",
   "metadata": {},
   "source": [
    "# Gotcha: eras are homogenous, but different from each other\n",
    "##  Random cross-validation will look much better than cross-validating by era\n",
    "\n",
    "Even for a simple linear model, taking a random shuffle reports a correlation of 4.3%, but a time series split reports a lower score of 3.4%"
   ]
  },
  {
   "cell_type": "code",
   "execution_count": 29,
   "id": "47691e8d-e661-4b1d-b915-3884336d68b5",
   "metadata": {},
   "outputs": [],
   "source": [
    "#linear = LinearRegression()\n",
    "#ScikitLearn.fit!(linear, Matrix(df[!, names(df, features)]), df.target)"
   ]
  },
  {
   "cell_type": "code",
   "execution_count": 30,
   "id": "4dd5eebb-3f70-4743-b7b8-b03090629f07",
   "metadata": {},
   "outputs": [
    {
     "name": "stdout",
     "output_type": "stream",
     "text": [
      "PyObject KFold(n_splits=5, random_state=None, shuffle=False)\n",
      "0.03332624500455265\n",
      "PyObject KFold(n_splits=5, random_state=None, shuffle=True)\n",
      "0.039196207369748895\n",
      "PyObject GroupKFold(n_splits=5)\n",
      "0.03475937229926111\n",
      "PyObject TimeSeriesSplit(gap=0, max_train_size=None, n_splits=5, test_size=None)\n",
      "0.030947709608331396\n"
     ]
    }
   ],
   "source": [
    "crossvalidators = [KFold(5), KFold(5, shuffle = true), GroupKFold(5), TimeSeriesSplit(5)]\n",
    "\n",
    "for cv in crossvalidators\n",
    "    println(cv)\n",
    "    println(\n",
    "        mean(\n",
    "            cross_val_score(estimator = LinearRegression(),\n",
    "                X = Matrix(df[!, names(df, features)]),\n",
    "                y = df.target,\n",
    "                cv = cv,\n",
    "                groups = eras,\n",
    "                scoring = make_scorer(cor, greater_is_better = true)\n",
    "            )\n",
    "        )\n",
    "    )\n",
    "end"
   ]
  },
  {
   "cell_type": "markdown",
   "id": "c78ebaba-9ed3-4575-ae8e-95ce535deb40",
   "metadata": {},
   "source": [
    "## Eras can be more or less applicable to other eras\n",
    "You can test this be splitting the eras into blocks of 10, training on each block, and evaluating on each other block."
   ]
  },
  {
   "cell_type": "code",
   "execution_count": 31,
   "id": "366ad4e6-9b6a-4618-9ebf-cb98ef02b0d8",
   "metadata": {},
   "outputs": [
    {
     "data": {
      "text/plain": [
       "Dict{Int64, Int64} with 13 entries:\n",
       "  20  => 37444\n",
       "  110 => 45070\n",
       "  60  => 46831\n",
       "  30  => 41101\n",
       "  0   => 24515\n",
       "  80  => 43971\n",
       "  90  => 45609\n",
       "  40  => 43439\n",
       "  70  => 40403\n",
       "  50  => 48186\n",
       "  10  => 34600\n",
       "  120 => 4532\n",
       "  100 => 46107"
      ]
     },
     "execution_count": 31,
     "metadata": {},
     "output_type": "execute_result"
    }
   ],
   "source": [
    "eras10 = (eras .÷ 10) * 10\n",
    "countmap(eras10)"
   ]
  },
  {
   "cell_type": "code",
   "execution_count": 32,
   "id": "c30aff0f-67b3-430a-b566-e1c7be2c758f",
   "metadata": {},
   "outputs": [
    {
     "name": "stdout",
     "output_type": "stream",
     "text": [
      "0\n",
      "10\n",
      "20\n",
      "30\n",
      "40\n",
      "50\n",
      "60\n",
      "70\n",
      "80\n",
      "90\n",
      "100\n",
      "110\n"
     ]
    }
   ],
   "source": [
    "gdf = copy(df)\n",
    "gdf[:, :eras10 ] = eras10\n",
    "gdf = groupby(filter(row -> row[:eras10] < 120, gdf), :eras10);\n",
    "results10 = DataFrame(train_era = Int32[], test_era = Int32[], value = Float32[])\n",
    "\n",
    "for train_era in keys(gdf)\n",
    "    \n",
    "    println(train_era[1])\n",
    "    \n",
    "    gdf₁ = gdf[train_era]\n",
    "    model = LinearRegression()\n",
    "    ScikitLearn.fit!(model, Matrix(gdf₁[!, names(gdf₁, features)]), gdf₁.target)\n",
    "    \n",
    "    for test_era in keys(gdf)\n",
    "        \n",
    "        gdf₂ = gdf[test_era]\n",
    "        \n",
    "        push!(results10, [train_era[1], \n",
    "                         test_era[1], \n",
    "                         cor(gdf₂.target, ScikitLearn.predict(model, Matrix(gdf₂[!, names(gdf₂, features)])))])\n",
    "    end\n",
    "end"
   ]
  },
  {
   "cell_type": "code",
   "execution_count": 33,
   "id": "f05815b0-1f47-478f-b0f2-f8307d4c31ba",
   "metadata": {},
   "outputs": [
    {
     "data": {
      "text/html": [
       "<div class=\"data-frame\"><p>12 rows × 13 columns (omitted printing of 6 columns)</p><table class=\"data-frame\"><thead><tr><th></th><th>train_era</th><th>0</th><th>10</th><th>20</th><th>30</th><th>40</th><th>50</th></tr><tr><th></th><th title=\"Int32\">Int32</th><th title=\"Union{Missing, Float32}\">Float32?</th><th title=\"Union{Missing, Float32}\">Float32?</th><th title=\"Union{Missing, Float32}\">Float32?</th><th title=\"Union{Missing, Float32}\">Float32?</th><th title=\"Union{Missing, Float32}\">Float32?</th><th title=\"Union{Missing, Float32}\">Float32?</th></tr></thead><tbody><tr><th>1</th><td>0</td><td>0.14615</td><td>0.0321283</td><td>0.0354025</td><td>0.0287675</td><td>0.0221984</td><td>0.00701235</td></tr><tr><th>2</th><td>10</td><td>0.0421759</td><td>0.114813</td><td>0.0287059</td><td>0.0298504</td><td>0.0336937</td><td>0.00471899</td></tr><tr><th>3</th><td>20</td><td>0.0431496</td><td>0.0334976</td><td>0.113055</td><td>0.0366226</td><td>0.0167489</td><td>0.00565709</td></tr><tr><th>4</th><td>30</td><td>0.0357169</td><td>0.0339307</td><td>0.0396031</td><td>0.109884</td><td>0.0402888</td><td>0.0208269</td></tr><tr><th>5</th><td>40</td><td>0.035735</td><td>0.0417183</td><td>0.0204626</td><td>0.0403498</td><td>0.100257</td><td>0.0144214</td></tr><tr><th>6</th><td>50</td><td>0.015032</td><td>0.00959667</td><td>0.00685722</td><td>0.0242685</td><td>0.0151326</td><td>0.104185</td></tr><tr><th>7</th><td>60</td><td>0.00690366</td><td>0.0159851</td><td>0.00419466</td><td>0.0195585</td><td>0.012405</td><td>0.00967648</td></tr><tr><th>8</th><td>70</td><td>0.034285</td><td>0.0252239</td><td>0.0220385</td><td>0.0285308</td><td>0.0232155</td><td>0.00198308</td></tr><tr><th>9</th><td>80</td><td>0.0395826</td><td>0.0268682</td><td>0.0115186</td><td>0.0217091</td><td>0.0177472</td><td>0.00252007</td></tr><tr><th>10</th><td>90</td><td>0.0328201</td><td>0.029052</td><td>0.0229233</td><td>0.031348</td><td>0.0199844</td><td>0.0100413</td></tr><tr><th>11</th><td>100</td><td>0.0283381</td><td>0.0179835</td><td>0.0217198</td><td>0.00991935</td><td>0.00779132</td><td>0.0120947</td></tr><tr><th>12</th><td>110</td><td>0.00181083</td><td>0.0183579</td><td>0.00941574</td><td>0.0067019</td><td>0.0147348</td><td>0.0164994</td></tr></tbody></table></div>"
      ],
      "text/latex": [
       "\\begin{tabular}{r|cccccccc}\n",
       "\t& train\\_era & 0 & 10 & 20 & 30 & 40 & 50 & \\\\\n",
       "\t\\hline\n",
       "\t& Int32 & Float32? & Float32? & Float32? & Float32? & Float32? & Float32? & \\\\\n",
       "\t\\hline\n",
       "\t1 & 0 & 0.14615 & 0.0321283 & 0.0354025 & 0.0287675 & 0.0221984 & 0.00701235 & $\\dots$ \\\\\n",
       "\t2 & 10 & 0.0421759 & 0.114813 & 0.0287059 & 0.0298504 & 0.0336937 & 0.00471899 & $\\dots$ \\\\\n",
       "\t3 & 20 & 0.0431496 & 0.0334976 & 0.113055 & 0.0366226 & 0.0167489 & 0.00565709 & $\\dots$ \\\\\n",
       "\t4 & 30 & 0.0357169 & 0.0339307 & 0.0396031 & 0.109884 & 0.0402888 & 0.0208269 & $\\dots$ \\\\\n",
       "\t5 & 40 & 0.035735 & 0.0417183 & 0.0204626 & 0.0403498 & 0.100257 & 0.0144214 & $\\dots$ \\\\\n",
       "\t6 & 50 & 0.015032 & 0.00959667 & 0.00685722 & 0.0242685 & 0.0151326 & 0.104185 & $\\dots$ \\\\\n",
       "\t7 & 60 & 0.00690366 & 0.0159851 & 0.00419466 & 0.0195585 & 0.012405 & 0.00967648 & $\\dots$ \\\\\n",
       "\t8 & 70 & 0.034285 & 0.0252239 & 0.0220385 & 0.0285308 & 0.0232155 & 0.00198308 & $\\dots$ \\\\\n",
       "\t9 & 80 & 0.0395826 & 0.0268682 & 0.0115186 & 0.0217091 & 0.0177472 & 0.00252007 & $\\dots$ \\\\\n",
       "\t10 & 90 & 0.0328201 & 0.029052 & 0.0229233 & 0.031348 & 0.0199844 & 0.0100413 & $\\dots$ \\\\\n",
       "\t11 & 100 & 0.0283381 & 0.0179835 & 0.0217198 & 0.00991935 & 0.00779132 & 0.0120947 & $\\dots$ \\\\\n",
       "\t12 & 110 & 0.00181083 & 0.0183579 & 0.00941574 & 0.0067019 & 0.0147348 & 0.0164994 & $\\dots$ \\\\\n",
       "\\end{tabular}\n"
      ],
      "text/plain": [
       "\u001b[1m12×13 DataFrame\u001b[0m\n",
       "\u001b[1m Row \u001b[0m│\u001b[1m train_era \u001b[0m\u001b[1m 0          \u001b[0m\u001b[1m 10         \u001b[0m\u001b[1m 20         \u001b[0m\u001b[1m 30         \u001b[0m\u001b[1m 40         \u001b[0m\u001b[1m \u001b[0m ⋯\n",
       "\u001b[1m     \u001b[0m│\u001b[90m Int32     \u001b[0m\u001b[90m Float32?   \u001b[0m\u001b[90m Float32?   \u001b[0m\u001b[90m Float32?   \u001b[0m\u001b[90m Float32?   \u001b[0m\u001b[90m Float32?   \u001b[0m\u001b[90m \u001b[0m ⋯\n",
       "─────┼──────────────────────────────────────────────────────────────────────────\n",
       "   1 │         0  0.14615     0.0321283   0.0354025   0.0287675   0.0221984    ⋯\n",
       "   2 │        10  0.0421759   0.114813    0.0287059   0.0298504   0.0336937\n",
       "   3 │        20  0.0431496   0.0334976   0.113055    0.0366226   0.0167489\n",
       "   4 │        30  0.0357169   0.0339307   0.0396031   0.109884    0.0402888\n",
       "   5 │        40  0.035735    0.0417183   0.0204626   0.0403498   0.100257     ⋯\n",
       "   6 │        50  0.015032    0.00959667  0.00685722  0.0242685   0.0151326\n",
       "   7 │        60  0.00690366  0.0159851   0.00419466  0.0195585   0.012405\n",
       "   8 │        70  0.034285    0.0252239   0.0220385   0.0285308   0.0232155\n",
       "   9 │        80  0.0395826   0.0268682   0.0115186   0.0217091   0.0177472    ⋯\n",
       "  10 │        90  0.0328201   0.029052    0.0229233   0.031348    0.0199844\n",
       "  11 │       100  0.0283381   0.0179835   0.0217198   0.00991935  0.00779132\n",
       "  12 │       110  0.00181083  0.0183579   0.00941574  0.0067019   0.0147348\n",
       "\u001b[36m                                                               7 columns omitted\u001b[0m"
      ]
     },
     "execution_count": 33,
     "metadata": {},
     "output_type": "execute_result"
    }
   ],
   "source": [
    "results_df = unstack(results10, :test_era, :value)"
   ]
  },
  {
   "cell_type": "code",
   "execution_count": 34,
   "id": "b6de1701-2c87-4f37-86a6-7735cea79cc1",
   "metadata": {},
   "outputs": [
    {
     "data": {
      "image/svg+xml": "<?xml version=\"1.0\" encoding=\"utf-8\"?>\n<svg xmlns=\"http://www.w3.org/2000/svg\" xmlns:xlink=\"http://www.w3.org/1999/xlink\" width=\"600\" height=\"400\" viewBox=\"0 0 2400 1600\">\n<defs>\n  <clipPath id=\"clip800\">\n    <rect x=\"0\" y=\"0\" width=\"2400\" height=\"1600\"/>\n  </clipPath>\n</defs>\n<path clip-path=\"url(#clip800)\" d=\"\nM0 1600 L2400 1600 L2400 0 L0 0  Z\n  \" fill=\"#ffffff\" fill-rule=\"evenodd\" fill-opacity=\"1\"/>\n<defs>\n  <clipPath id=\"clip801\">\n    <rect x=\"480\" y=\"0\" width=\"1681\" height=\"1600\"/>\n  </clipPath>\n</defs>\n<path clip-path=\"url(#clip800)\" d=\"\nM184.191 1486.45 L2112.76 1486.45 L2112.76 47.2441 L184.191 47.2441  Z\n  \" fill=\"#ffffff\" fill-rule=\"evenodd\" fill-opacity=\"1\"/>\n<defs>\n  <clipPath id=\"clip802\">\n    <rect x=\"184\" y=\"47\" width=\"1930\" height=\"1440\"/>\n  </clipPath>\n</defs>\n<polyline clip-path=\"url(#clip802)\" style=\"stroke:#000000; stroke-linecap:butt; stroke-linejoin:round; stroke-width:2; stroke-opacity:0.1; fill:none\" points=\"\n  505.618,1486.45 505.618,47.2441 \n  \"/>\n<polyline clip-path=\"url(#clip802)\" style=\"stroke:#000000; stroke-linecap:butt; stroke-linejoin:round; stroke-width:2; stroke-opacity:0.1; fill:none\" points=\"\n  907.403,1486.45 907.403,47.2441 \n  \"/>\n<polyline clip-path=\"url(#clip802)\" style=\"stroke:#000000; stroke-linecap:butt; stroke-linejoin:round; stroke-width:2; stroke-opacity:0.1; fill:none\" points=\"\n  1309.19,1486.45 1309.19,47.2441 \n  \"/>\n<polyline clip-path=\"url(#clip802)\" style=\"stroke:#000000; stroke-linecap:butt; stroke-linejoin:round; stroke-width:2; stroke-opacity:0.1; fill:none\" points=\"\n  1710.97,1486.45 1710.97,47.2441 \n  \"/>\n<polyline clip-path=\"url(#clip802)\" style=\"stroke:#000000; stroke-linecap:butt; stroke-linejoin:round; stroke-width:2; stroke-opacity:0.1; fill:none\" points=\"\n  2112.76,1486.45 2112.76,47.2441 \n  \"/>\n<polyline clip-path=\"url(#clip800)\" style=\"stroke:#000000; stroke-linecap:butt; stroke-linejoin:round; stroke-width:4; stroke-opacity:1; fill:none\" points=\"\n  184.191,1486.45 2112.76,1486.45 \n  \"/>\n<polyline clip-path=\"url(#clip800)\" style=\"stroke:#000000; stroke-linecap:butt; stroke-linejoin:round; stroke-width:4; stroke-opacity:1; fill:none\" points=\"\n  505.618,1486.45 505.618,1469.18 \n  \"/>\n<polyline clip-path=\"url(#clip800)\" style=\"stroke:#000000; stroke-linecap:butt; stroke-linejoin:round; stroke-width:4; stroke-opacity:1; fill:none\" points=\"\n  907.403,1486.45 907.403,1469.18 \n  \"/>\n<polyline clip-path=\"url(#clip800)\" style=\"stroke:#000000; stroke-linecap:butt; stroke-linejoin:round; stroke-width:4; stroke-opacity:1; fill:none\" points=\"\n  1309.19,1486.45 1309.19,1469.18 \n  \"/>\n<polyline clip-path=\"url(#clip800)\" style=\"stroke:#000000; stroke-linecap:butt; stroke-linejoin:round; stroke-width:4; stroke-opacity:1; fill:none\" points=\"\n  1710.97,1486.45 1710.97,1469.18 \n  \"/>\n<polyline clip-path=\"url(#clip800)\" style=\"stroke:#000000; stroke-linecap:butt; stroke-linejoin:round; stroke-width:4; stroke-opacity:1; fill:none\" points=\"\n  2112.76,1486.45 2112.76,1469.18 \n  \"/>\n<path clip-path=\"url(#clip800)\" d=\"M477.354 1543.18 L493.674 1543.18 L493.674 1547.12 L471.73 1547.12 L471.73 1543.18 Q474.392 1540.43 478.975 1535.8 Q483.581 1531.15 484.762 1529.81 Q487.007 1527.28 487.887 1525.55 Q488.79 1523.79 488.79 1522.1 Q488.79 1519.34 486.845 1517.61 Q484.924 1515.87 481.822 1515.87 Q479.623 1515.87 477.169 1516.63 Q474.739 1517.4 471.961 1518.95 L471.961 1514.23 Q474.785 1513.09 477.239 1512.51 Q479.692 1511.93 481.729 1511.93 Q487.1 1511.93 490.294 1514.62 Q493.489 1517.31 493.489 1521.8 Q493.489 1523.93 492.678 1525.85 Q491.891 1527.74 489.785 1530.34 Q489.206 1531.01 486.104 1534.23 Q483.003 1537.42 477.354 1543.18 Z\" fill=\"#000000\" fill-rule=\"evenodd\" fill-opacity=\"1\" /><path clip-path=\"url(#clip800)\" d=\"M503.489 1541.24 L508.373 1541.24 L508.373 1547.12 L503.489 1547.12 L503.489 1541.24 Z\" fill=\"#000000\" fill-rule=\"evenodd\" fill-opacity=\"1\" /><path clip-path=\"url(#clip800)\" d=\"M518.604 1512.56 L536.961 1512.56 L536.961 1516.5 L522.887 1516.5 L522.887 1524.97 Q523.905 1524.62 524.924 1524.46 Q525.942 1524.27 526.961 1524.27 Q532.748 1524.27 536.127 1527.44 Q539.507 1530.62 539.507 1536.03 Q539.507 1541.61 536.035 1544.71 Q532.563 1547.79 526.243 1547.79 Q524.067 1547.79 521.799 1547.42 Q519.553 1547.05 517.146 1546.31 L517.146 1541.61 Q519.229 1542.74 521.451 1543.3 Q523.674 1543.86 526.151 1543.86 Q530.155 1543.86 532.493 1541.75 Q534.831 1539.64 534.831 1536.03 Q534.831 1532.42 532.493 1530.31 Q530.155 1528.21 526.151 1528.21 Q524.276 1528.21 522.401 1528.62 Q520.549 1529.04 518.604 1529.92 L518.604 1512.56 Z\" fill=\"#000000\" fill-rule=\"evenodd\" fill-opacity=\"1\" /><path clip-path=\"url(#clip800)\" d=\"M874.567 1512.56 L892.924 1512.56 L892.924 1516.5 L878.85 1516.5 L878.85 1524.97 Q879.868 1524.62 880.887 1524.46 Q881.905 1524.27 882.924 1524.27 Q888.711 1524.27 892.09 1527.44 Q895.47 1530.62 895.47 1536.03 Q895.47 1541.61 891.998 1544.71 Q888.525 1547.79 882.206 1547.79 Q880.03 1547.79 877.762 1547.42 Q875.516 1547.05 873.109 1546.31 L873.109 1541.61 Q875.192 1542.74 877.414 1543.3 Q879.637 1543.86 882.113 1543.86 Q886.118 1543.86 888.456 1541.75 Q890.794 1539.64 890.794 1536.03 Q890.794 1532.42 888.456 1530.31 Q886.118 1528.21 882.113 1528.21 Q880.238 1528.21 878.363 1528.62 Q876.512 1529.04 874.567 1529.92 L874.567 1512.56 Z\" fill=\"#000000\" fill-rule=\"evenodd\" fill-opacity=\"1\" /><path clip-path=\"url(#clip800)\" d=\"M904.683 1541.24 L909.567 1541.24 L909.567 1547.12 L904.683 1547.12 L904.683 1541.24 Z\" fill=\"#000000\" fill-rule=\"evenodd\" fill-opacity=\"1\" /><path clip-path=\"url(#clip800)\" d=\"M929.752 1515.64 Q926.141 1515.64 924.312 1519.2 Q922.507 1522.75 922.507 1529.87 Q922.507 1536.98 924.312 1540.55 Q926.141 1544.09 929.752 1544.09 Q933.386 1544.09 935.192 1540.55 Q937.021 1536.98 937.021 1529.87 Q937.021 1522.75 935.192 1519.2 Q933.386 1515.64 929.752 1515.64 M929.752 1511.93 Q935.562 1511.93 938.618 1516.54 Q941.696 1521.12 941.696 1529.87 Q941.696 1538.6 938.618 1543.21 Q935.562 1547.79 929.752 1547.79 Q923.942 1547.79 920.863 1543.21 Q917.808 1538.6 917.808 1529.87 Q917.808 1521.12 920.863 1516.54 Q923.942 1511.93 929.752 1511.93 Z\" fill=\"#000000\" fill-rule=\"evenodd\" fill-opacity=\"1\" /><path clip-path=\"url(#clip800)\" d=\"M1275.51 1512.56 L1297.73 1512.56 L1297.73 1514.55 L1285.18 1547.12 L1280.3 1547.12 L1292.1 1516.5 L1275.51 1516.5 L1275.51 1512.56 Z\" fill=\"#000000\" fill-rule=\"evenodd\" fill-opacity=\"1\" /><path clip-path=\"url(#clip800)\" d=\"M1306.85 1541.24 L1311.73 1541.24 L1311.73 1547.12 L1306.85 1547.12 L1306.85 1541.24 Z\" fill=\"#000000\" fill-rule=\"evenodd\" fill-opacity=\"1\" /><path clip-path=\"url(#clip800)\" d=\"M1321.96 1512.56 L1340.32 1512.56 L1340.32 1516.5 L1326.25 1516.5 L1326.25 1524.97 Q1327.27 1524.62 1328.28 1524.46 Q1329.3 1524.27 1330.32 1524.27 Q1336.11 1524.27 1339.49 1527.44 Q1342.87 1530.62 1342.87 1536.03 Q1342.87 1541.61 1339.4 1544.71 Q1335.92 1547.79 1329.6 1547.79 Q1327.43 1547.79 1325.16 1547.42 Q1322.91 1547.05 1320.51 1546.31 L1320.51 1541.61 Q1322.59 1542.74 1324.81 1543.3 Q1327.03 1543.86 1329.51 1543.86 Q1333.52 1543.86 1335.85 1541.75 Q1338.19 1539.64 1338.19 1536.03 Q1338.19 1532.42 1335.85 1530.31 Q1333.52 1528.21 1329.51 1528.21 Q1327.64 1528.21 1325.76 1528.62 Q1323.91 1529.04 1321.96 1529.92 L1321.96 1512.56 Z\" fill=\"#000000\" fill-rule=\"evenodd\" fill-opacity=\"1\" /><path clip-path=\"url(#clip800)\" d=\"M1663.04 1543.18 L1670.68 1543.18 L1670.68 1516.82 L1662.37 1518.49 L1662.37 1514.23 L1670.64 1512.56 L1675.31 1512.56 L1675.31 1543.18 L1682.95 1543.18 L1682.95 1547.12 L1663.04 1547.12 L1663.04 1543.18 Z\" fill=\"#000000\" fill-rule=\"evenodd\" fill-opacity=\"1\" /><path clip-path=\"url(#clip800)\" d=\"M1702.4 1515.64 Q1698.78 1515.64 1696.96 1519.2 Q1695.15 1522.75 1695.15 1529.87 Q1695.15 1536.98 1696.96 1540.55 Q1698.78 1544.09 1702.4 1544.09 Q1706.03 1544.09 1707.83 1540.55 Q1709.66 1536.98 1709.66 1529.87 Q1709.66 1522.75 1707.83 1519.2 Q1706.03 1515.64 1702.4 1515.64 M1702.4 1511.93 Q1708.21 1511.93 1711.26 1516.54 Q1714.34 1521.12 1714.34 1529.87 Q1714.34 1538.6 1711.26 1543.21 Q1708.21 1547.79 1702.4 1547.79 Q1696.58 1547.79 1693.51 1543.21 Q1690.45 1538.6 1690.45 1529.87 Q1690.45 1521.12 1693.51 1516.54 Q1696.58 1511.93 1702.4 1511.93 Z\" fill=\"#000000\" fill-rule=\"evenodd\" fill-opacity=\"1\" /><path clip-path=\"url(#clip800)\" d=\"M1722.56 1541.24 L1727.44 1541.24 L1727.44 1547.12 L1722.56 1547.12 L1722.56 1541.24 Z\" fill=\"#000000\" fill-rule=\"evenodd\" fill-opacity=\"1\" /><path clip-path=\"url(#clip800)\" d=\"M1747.63 1515.64 Q1744.02 1515.64 1742.19 1519.2 Q1740.38 1522.75 1740.38 1529.87 Q1740.38 1536.98 1742.19 1540.55 Q1744.02 1544.09 1747.63 1544.09 Q1751.26 1544.09 1753.07 1540.55 Q1754.89 1536.98 1754.89 1529.87 Q1754.89 1522.75 1753.07 1519.2 Q1751.26 1515.64 1747.63 1515.64 M1747.63 1511.93 Q1753.44 1511.93 1756.49 1516.54 Q1759.57 1521.12 1759.57 1529.87 Q1759.57 1538.6 1756.49 1543.21 Q1753.44 1547.79 1747.63 1547.79 Q1741.82 1547.79 1738.74 1543.21 Q1735.68 1538.6 1735.68 1529.87 Q1735.68 1521.12 1738.74 1516.54 Q1741.82 1511.93 1747.63 1511.93 Z\" fill=\"#000000\" fill-rule=\"evenodd\" fill-opacity=\"1\" /><path clip-path=\"url(#clip800)\" d=\"M2065.33 1543.18 L2072.96 1543.18 L2072.96 1516.82 L2064.65 1518.49 L2064.65 1514.23 L2072.92 1512.56 L2077.59 1512.56 L2077.59 1543.18 L2085.23 1543.18 L2085.23 1547.12 L2065.33 1547.12 L2065.33 1543.18 Z\" fill=\"#000000\" fill-rule=\"evenodd\" fill-opacity=\"1\" /><path clip-path=\"url(#clip800)\" d=\"M2098.71 1543.18 L2115.02 1543.18 L2115.02 1547.12 L2093.08 1547.12 L2093.08 1543.18 Q2095.74 1540.43 2100.33 1535.8 Q2104.93 1531.15 2106.11 1529.81 Q2108.36 1527.28 2109.24 1525.55 Q2110.14 1523.79 2110.14 1522.1 Q2110.14 1519.34 2108.2 1517.61 Q2106.27 1515.87 2103.17 1515.87 Q2100.97 1515.87 2098.52 1516.63 Q2096.09 1517.4 2093.31 1518.95 L2093.31 1514.23 Q2096.14 1513.09 2098.59 1512.51 Q2101.04 1511.93 2103.08 1511.93 Q2108.45 1511.93 2111.64 1514.62 Q2114.84 1517.31 2114.84 1521.8 Q2114.84 1523.93 2114.03 1525.85 Q2113.24 1527.74 2111.14 1530.34 Q2110.56 1531.01 2107.46 1534.23 Q2104.35 1537.42 2098.71 1543.18 Z\" fill=\"#000000\" fill-rule=\"evenodd\" fill-opacity=\"1\" /><path clip-path=\"url(#clip800)\" d=\"M2124.84 1541.24 L2129.72 1541.24 L2129.72 1547.12 L2124.84 1547.12 L2124.84 1541.24 Z\" fill=\"#000000\" fill-rule=\"evenodd\" fill-opacity=\"1\" /><path clip-path=\"url(#clip800)\" d=\"M2139.95 1512.56 L2158.31 1512.56 L2158.31 1516.5 L2144.24 1516.5 L2144.24 1524.97 Q2145.26 1524.62 2146.27 1524.46 Q2147.29 1524.27 2148.31 1524.27 Q2154.1 1524.27 2157.48 1527.44 Q2160.86 1530.62 2160.86 1536.03 Q2160.86 1541.61 2157.39 1544.71 Q2153.91 1547.79 2147.59 1547.79 Q2145.42 1547.79 2143.15 1547.42 Q2140.9 1547.05 2138.5 1546.31 L2138.5 1541.61 Q2140.58 1542.74 2142.8 1543.3 Q2145.02 1543.86 2147.5 1543.86 Q2151.51 1543.86 2153.84 1541.75 Q2156.18 1539.64 2156.18 1536.03 Q2156.18 1532.42 2153.84 1530.31 Q2151.51 1528.21 2147.5 1528.21 Q2145.63 1528.21 2143.75 1528.62 Q2141.9 1529.04 2139.95 1529.92 L2139.95 1512.56 Z\" fill=\"#000000\" fill-rule=\"evenodd\" fill-opacity=\"1\" /><polyline clip-path=\"url(#clip802)\" style=\"stroke:#000000; stroke-linecap:butt; stroke-linejoin:round; stroke-width:2; stroke-opacity:0.1; fill:none\" points=\"\n  184.191,1246.58 2112.76,1246.58 \n  \"/>\n<polyline clip-path=\"url(#clip802)\" style=\"stroke:#000000; stroke-linecap:butt; stroke-linejoin:round; stroke-width:2; stroke-opacity:0.1; fill:none\" points=\"\n  184.191,946.746 2112.76,946.746 \n  \"/>\n<polyline clip-path=\"url(#clip802)\" style=\"stroke:#000000; stroke-linecap:butt; stroke-linejoin:round; stroke-width:2; stroke-opacity:0.1; fill:none\" points=\"\n  184.191,646.912 2112.76,646.912 \n  \"/>\n<polyline clip-path=\"url(#clip802)\" style=\"stroke:#000000; stroke-linecap:butt; stroke-linejoin:round; stroke-width:2; stroke-opacity:0.1; fill:none\" points=\"\n  184.191,347.078 2112.76,347.078 \n  \"/>\n<polyline clip-path=\"url(#clip802)\" style=\"stroke:#000000; stroke-linecap:butt; stroke-linejoin:round; stroke-width:2; stroke-opacity:0.1; fill:none\" points=\"\n  184.191,47.2441 2112.76,47.2441 \n  \"/>\n<polyline clip-path=\"url(#clip800)\" style=\"stroke:#000000; stroke-linecap:butt; stroke-linejoin:round; stroke-width:4; stroke-opacity:1; fill:none\" points=\"\n  184.191,1486.45 184.191,47.2441 \n  \"/>\n<polyline clip-path=\"url(#clip800)\" style=\"stroke:#000000; stroke-linecap:butt; stroke-linejoin:round; stroke-width:4; stroke-opacity:1; fill:none\" points=\"\n  184.191,1246.58 207.333,1246.58 \n  \"/>\n<polyline clip-path=\"url(#clip800)\" style=\"stroke:#000000; stroke-linecap:butt; stroke-linejoin:round; stroke-width:4; stroke-opacity:1; fill:none\" points=\"\n  184.191,946.746 207.333,946.746 \n  \"/>\n<polyline clip-path=\"url(#clip800)\" style=\"stroke:#000000; stroke-linecap:butt; stroke-linejoin:round; stroke-width:4; stroke-opacity:1; fill:none\" points=\"\n  184.191,646.912 207.333,646.912 \n  \"/>\n<polyline clip-path=\"url(#clip800)\" style=\"stroke:#000000; stroke-linecap:butt; stroke-linejoin:round; stroke-width:4; stroke-opacity:1; fill:none\" points=\"\n  184.191,347.078 207.333,347.078 \n  \"/>\n<polyline clip-path=\"url(#clip800)\" style=\"stroke:#000000; stroke-linecap:butt; stroke-linejoin:round; stroke-width:4; stroke-opacity:1; fill:none\" points=\"\n  184.191,47.2441 207.333,47.2441 \n  \"/>\n<path clip-path=\"url(#clip800)\" d=\"M86.0382 1259.93 L102.358 1259.93 L102.358 1263.86 L80.4133 1263.86 L80.4133 1259.93 Q83.0753 1257.17 87.6586 1252.54 Q92.2651 1247.89 93.4456 1246.55 Q95.691 1244.02 96.5706 1242.29 Q97.4734 1240.53 97.4734 1238.84 Q97.4734 1236.08 95.5289 1234.35 Q93.6076 1232.61 90.5058 1232.61 Q88.3067 1232.61 85.8531 1233.37 Q83.4225 1234.14 80.6447 1235.69 L80.6447 1230.97 Q83.4688 1229.83 85.9225 1229.25 Q88.3762 1228.68 90.4132 1228.68 Q95.7836 1228.68 98.978 1231.36 Q102.172 1234.05 102.172 1238.54 Q102.172 1240.67 101.362 1242.59 Q100.575 1244.49 98.4687 1247.08 Q97.89 1247.75 94.7882 1250.97 Q91.6864 1254.16 86.0382 1259.93 Z\" fill=\"#000000\" fill-rule=\"evenodd\" fill-opacity=\"1\" /><path clip-path=\"url(#clip800)\" d=\"M112.172 1257.98 L117.057 1257.98 L117.057 1263.86 L112.172 1263.86 L112.172 1257.98 Z\" fill=\"#000000\" fill-rule=\"evenodd\" fill-opacity=\"1\" /><path clip-path=\"url(#clip800)\" d=\"M127.288 1229.3 L145.644 1229.3 L145.644 1233.24 L131.57 1233.24 L131.57 1241.71 Q132.589 1241.36 133.607 1241.2 Q134.626 1241.01 135.644 1241.01 Q141.431 1241.01 144.811 1244.18 Q148.191 1247.36 148.191 1252.77 Q148.191 1258.35 144.718 1261.45 Q141.246 1264.53 134.927 1264.53 Q132.751 1264.53 130.482 1264.16 Q128.237 1263.79 125.83 1263.05 L125.83 1258.35 Q127.913 1259.49 130.135 1260.04 Q132.357 1260.6 134.834 1260.6 Q138.839 1260.6 141.177 1258.49 Q143.515 1256.38 143.515 1252.77 Q143.515 1249.16 141.177 1247.06 Q138.839 1244.95 134.834 1244.95 Q132.959 1244.95 131.084 1245.37 Q129.232 1245.78 127.288 1246.66 L127.288 1229.3 Z\" fill=\"#000000\" fill-rule=\"evenodd\" fill-opacity=\"1\" /><path clip-path=\"url(#clip800)\" d=\"M81.0614 929.466 L99.4178 929.466 L99.4178 933.402 L85.3438 933.402 L85.3438 941.874 Q86.3623 941.527 87.3808 941.365 Q88.3993 941.179 89.4178 941.179 Q95.2049 941.179 98.5845 944.351 Q101.964 947.522 101.964 952.939 Q101.964 958.517 98.4919 961.619 Q95.0197 964.698 88.7003 964.698 Q86.5243 964.698 84.2558 964.327 Q82.0105 963.957 79.6031 963.216 L79.6031 958.517 Q81.6864 959.651 83.9086 960.207 Q86.1308 960.763 88.6077 960.763 Q92.6123 960.763 94.9502 958.656 Q97.2882 956.55 97.2882 952.939 Q97.2882 949.327 94.9502 947.221 Q92.6123 945.115 88.6077 945.115 Q86.7327 945.115 84.8577 945.531 Q83.0058 945.948 81.0614 946.827 L81.0614 929.466 Z\" fill=\"#000000\" fill-rule=\"evenodd\" fill-opacity=\"1\" /><path clip-path=\"url(#clip800)\" d=\"M111.177 958.147 L116.061 958.147 L116.061 964.026 L111.177 964.026 L111.177 958.147 Z\" fill=\"#000000\" fill-rule=\"evenodd\" fill-opacity=\"1\" /><path clip-path=\"url(#clip800)\" d=\"M136.246 932.545 Q132.635 932.545 130.807 936.11 Q129.001 939.652 129.001 946.781 Q129.001 953.888 130.807 957.452 Q132.635 960.994 136.246 960.994 Q139.881 960.994 141.686 957.452 Q143.515 953.888 143.515 946.781 Q143.515 939.652 141.686 936.11 Q139.881 932.545 136.246 932.545 M136.246 928.841 Q142.056 928.841 145.112 933.448 Q148.191 938.031 148.191 946.781 Q148.191 955.508 145.112 960.114 Q142.056 964.698 136.246 964.698 Q130.436 964.698 127.357 960.114 Q124.302 955.508 124.302 946.781 Q124.302 938.031 127.357 933.448 Q130.436 928.841 136.246 928.841 Z\" fill=\"#000000\" fill-rule=\"evenodd\" fill-opacity=\"1\" /><path clip-path=\"url(#clip800)\" d=\"M80.8299 629.632 L103.052 629.632 L103.052 631.623 L90.5058 664.192 L85.6216 664.192 L97.4271 633.568 L80.8299 633.568 L80.8299 629.632 Z\" fill=\"#000000\" fill-rule=\"evenodd\" fill-opacity=\"1\" /><path clip-path=\"url(#clip800)\" d=\"M112.172 658.313 L117.057 658.313 L117.057 664.192 L112.172 664.192 L112.172 658.313 Z\" fill=\"#000000\" fill-rule=\"evenodd\" fill-opacity=\"1\" /><path clip-path=\"url(#clip800)\" d=\"M127.288 629.632 L145.644 629.632 L145.644 633.568 L131.57 633.568 L131.57 642.04 Q132.589 641.692 133.607 641.53 Q134.626 641.345 135.644 641.345 Q141.431 641.345 144.811 644.517 Q148.191 647.688 148.191 653.104 Q148.191 658.683 144.718 661.785 Q141.246 664.864 134.927 664.864 Q132.751 664.864 130.482 664.493 Q128.237 664.123 125.83 663.382 L125.83 658.683 Q127.913 659.817 130.135 660.373 Q132.357 660.928 134.834 660.928 Q138.839 660.928 141.177 658.822 Q143.515 656.716 143.515 653.104 Q143.515 649.493 141.177 647.387 Q138.839 645.28 134.834 645.28 Q132.959 645.28 131.084 645.697 Q129.232 646.114 127.288 646.993 L127.288 629.632 Z\" fill=\"#000000\" fill-rule=\"evenodd\" fill-opacity=\"1\" /><path clip-path=\"url(#clip800)\" d=\"M51.6634 360.423 L59.3023 360.423 L59.3023 334.057 L50.9921 335.724 L50.9921 331.465 L59.256 329.798 L63.9319 329.798 L63.9319 360.423 L71.5707 360.423 L71.5707 364.358 L51.6634 364.358 L51.6634 360.423 Z\" fill=\"#000000\" fill-rule=\"evenodd\" fill-opacity=\"1\" /><path clip-path=\"url(#clip800)\" d=\"M91.0151 332.877 Q87.404 332.877 85.5753 336.442 Q83.7697 339.983 83.7697 347.113 Q83.7697 354.219 85.5753 357.784 Q87.404 361.326 91.0151 361.326 Q94.6493 361.326 96.4548 357.784 Q98.2835 354.219 98.2835 347.113 Q98.2835 339.983 96.4548 336.442 Q94.6493 332.877 91.0151 332.877 M91.0151 329.173 Q96.8252 329.173 99.8808 333.78 Q102.959 338.363 102.959 347.113 Q102.959 355.84 99.8808 360.446 Q96.8252 365.03 91.0151 365.03 Q85.2049 365.03 82.1262 360.446 Q79.0707 355.84 79.0707 347.113 Q79.0707 338.363 82.1262 333.78 Q85.2049 329.173 91.0151 329.173 Z\" fill=\"#000000\" fill-rule=\"evenodd\" fill-opacity=\"1\" /><path clip-path=\"url(#clip800)\" d=\"M111.177 358.479 L116.061 358.479 L116.061 364.358 L111.177 364.358 L111.177 358.479 Z\" fill=\"#000000\" fill-rule=\"evenodd\" fill-opacity=\"1\" /><path clip-path=\"url(#clip800)\" d=\"M136.246 332.877 Q132.635 332.877 130.807 336.442 Q129.001 339.983 129.001 347.113 Q129.001 354.219 130.807 357.784 Q132.635 361.326 136.246 361.326 Q139.881 361.326 141.686 357.784 Q143.515 354.219 143.515 347.113 Q143.515 339.983 141.686 336.442 Q139.881 332.877 136.246 332.877 M136.246 329.173 Q142.056 329.173 145.112 333.78 Q148.191 338.363 148.191 347.113 Q148.191 355.84 145.112 360.446 Q142.056 365.03 136.246 365.03 Q130.436 365.03 127.357 360.446 Q124.302 355.84 124.302 347.113 Q124.302 338.363 127.357 333.78 Q130.436 329.173 136.246 329.173 Z\" fill=\"#000000\" fill-rule=\"evenodd\" fill-opacity=\"1\" /><path clip-path=\"url(#clip800)\" d=\"M52.6588 60.5889 L60.2976 60.5889 L60.2976 34.2233 L51.9875 35.89 L51.9875 31.6308 L60.2513 29.9641 L64.9272 29.9641 L64.9272 60.5889 L72.5661 60.5889 L72.5661 64.5241 L52.6588 64.5241 L52.6588 60.5889 Z\" fill=\"#000000\" fill-rule=\"evenodd\" fill-opacity=\"1\" /><path clip-path=\"url(#clip800)\" d=\"M86.0382 60.5889 L102.358 60.5889 L102.358 64.5241 L80.4133 64.5241 L80.4133 60.5889 Q83.0753 57.8343 87.6586 53.2047 Q92.2651 48.552 93.4456 47.2094 Q95.691 44.6862 96.5706 42.9501 Q97.4734 41.1909 97.4734 39.5011 Q97.4734 36.7465 95.5289 35.0104 Q93.6076 33.2743 90.5058 33.2743 Q88.3067 33.2743 85.8531 34.0381 Q83.4225 34.802 80.6447 36.3529 L80.6447 31.6308 Q83.4688 30.4965 85.9225 29.9178 Q88.3762 29.3391 90.4132 29.3391 Q95.7836 29.3391 98.978 32.0243 Q102.172 34.7094 102.172 39.2002 Q102.172 41.3298 101.362 43.2511 Q100.575 45.1492 98.4687 47.7418 Q97.89 48.4131 94.7882 51.6306 Q91.6864 54.8251 86.0382 60.5889 Z\" fill=\"#000000\" fill-rule=\"evenodd\" fill-opacity=\"1\" /><path clip-path=\"url(#clip800)\" d=\"M112.172 58.6445 L117.057 58.6445 L117.057 64.5241 L112.172 64.5241 L112.172 58.6445 Z\" fill=\"#000000\" fill-rule=\"evenodd\" fill-opacity=\"1\" /><path clip-path=\"url(#clip800)\" d=\"M127.288 29.9641 L145.644 29.9641 L145.644 33.8993 L131.57 33.8993 L131.57 42.3714 Q132.589 42.0242 133.607 41.8622 Q134.626 41.677 135.644 41.677 Q141.431 41.677 144.811 44.8483 Q148.191 48.0196 148.191 53.4362 Q148.191 59.0149 144.718 62.1167 Q141.246 65.1954 134.927 65.1954 Q132.751 65.1954 130.482 64.825 Q128.237 64.4547 125.83 63.7139 L125.83 59.0149 Q127.913 60.1491 130.135 60.7047 Q132.357 61.2602 134.834 61.2602 Q138.839 61.2602 141.177 59.1538 Q143.515 57.0473 143.515 53.4362 Q143.515 49.8251 141.177 47.7186 Q138.839 45.6122 134.834 45.6122 Q132.959 45.6122 131.084 46.0288 Q129.232 46.4455 127.288 47.3251 L127.288 29.9641 Z\" fill=\"#000000\" fill-rule=\"evenodd\" fill-opacity=\"1\" /><g clip-path=\"url(#clip802)\">\n<image width=\"1929\" height=\"1439\" xlink:href=\"data:image/png;base64,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\n\" transform=\"translate(184, 47)\"/>\n</g>\n<defs>\n  <clipPath id=\"clip803\">\n    <rect x=\"2160\" y=\"47\" width=\"73\" height=\"1440\"/>\n  </clipPath>\n</defs>\n<g clip-path=\"url(#clip803)\">\n<image width=\"72\" height=\"1439\" xlink:href=\"data:image/png;base64,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\n4Q8qCR9ngvpkcQAAAABJRU5ErkJggg==\n\" transform=\"translate(2161, 47)\"/>\n</g>\n<path clip-path=\"url(#clip800)\" d=\"M2280.7 1334.56 Q2277.09 1334.56 2275.26 1338.12 Q2273.45 1341.67 2273.45 1348.8 Q2273.45 1355.9 2275.26 1359.47 Q2277.09 1363.01 2280.7 1363.01 Q2284.33 1363.01 2286.14 1359.47 Q2287.97 1355.9 2287.97 1348.8 Q2287.97 1341.67 2286.14 1338.12 Q2284.33 1334.56 2280.7 1334.56 M2280.7 1330.86 Q2286.51 1330.86 2289.57 1335.46 Q2292.64 1340.05 2292.64 1348.8 Q2292.64 1357.52 2289.57 1362.13 Q2286.51 1366.71 2280.7 1366.71 Q2274.89 1366.71 2271.81 1362.13 Q2268.76 1357.52 2268.76 1348.8 Q2268.76 1340.05 2271.81 1335.46 Q2274.89 1330.86 2280.7 1330.86 Z\" fill=\"#000000\" fill-rule=\"evenodd\" fill-opacity=\"1\" /><path clip-path=\"url(#clip800)\" d=\"M2280.7 1171.42 Q2277.09 1171.42 2275.26 1174.98 Q2273.45 1178.52 2273.45 1185.65 Q2273.45 1192.76 2275.26 1196.32 Q2277.09 1199.86 2280.7 1199.86 Q2284.33 1199.86 2286.14 1196.32 Q2287.97 1192.76 2287.97 1185.65 Q2287.97 1178.52 2286.14 1174.98 Q2284.33 1171.42 2280.7 1171.42 M2280.7 1167.71 Q2286.51 1167.71 2289.57 1172.32 Q2292.64 1176.9 2292.64 1185.65 Q2292.64 1194.38 2289.57 1198.99 Q2286.51 1203.57 2280.7 1203.57 Q2274.89 1203.57 2271.81 1198.99 Q2268.76 1194.38 2268.76 1185.65 Q2268.76 1176.9 2271.81 1172.32 Q2274.89 1167.71 2280.7 1167.71 Z\" fill=\"#000000\" fill-rule=\"evenodd\" fill-opacity=\"1\" /><path clip-path=\"url(#clip800)\" d=\"M2300.86 1197.02 L2305.75 1197.02 L2305.75 1202.9 L2300.86 1202.9 L2300.86 1197.02 Z\" fill=\"#000000\" fill-rule=\"evenodd\" fill-opacity=\"1\" /><path clip-path=\"url(#clip800)\" d=\"M2325.93 1171.42 Q2322.32 1171.42 2320.49 1174.98 Q2318.69 1178.52 2318.69 1185.65 Q2318.69 1192.76 2320.49 1196.32 Q2322.32 1199.86 2325.93 1199.86 Q2329.57 1199.86 2331.37 1196.32 Q2333.2 1192.76 2333.2 1185.65 Q2333.2 1178.52 2331.37 1174.98 Q2329.57 1171.42 2325.93 1171.42 M2325.93 1167.71 Q2331.74 1167.71 2334.8 1172.32 Q2337.88 1176.9 2337.88 1185.65 Q2337.88 1194.38 2334.8 1198.99 Q2331.74 1203.57 2325.93 1203.57 Q2320.12 1203.57 2317.04 1198.99 Q2313.99 1194.38 2313.99 1185.65 Q2313.99 1176.9 2317.04 1172.32 Q2320.12 1167.71 2325.93 1167.71 Z\" fill=\"#000000\" fill-rule=\"evenodd\" fill-opacity=\"1\" /><path clip-path=\"url(#clip800)\" d=\"M2356.09 1171.42 Q2352.48 1171.42 2350.65 1174.98 Q2348.85 1178.52 2348.85 1185.65 Q2348.85 1192.76 2350.65 1196.32 Q2352.48 1199.86 2356.09 1199.86 Q2359.73 1199.86 2361.53 1196.32 Q2363.36 1192.76 2363.36 1185.65 Q2363.36 1178.52 2361.53 1174.98 Q2359.73 1171.42 2356.09 1171.42 M2356.09 1167.71 Q2361.9 1167.71 2364.96 1172.32 Q2368.04 1176.9 2368.04 1185.65 Q2368.04 1194.38 2364.96 1198.99 Q2361.9 1203.57 2356.09 1203.57 Q2350.28 1203.57 2347.2 1198.99 Q2344.15 1194.38 2344.15 1185.65 Q2344.15 1176.9 2347.2 1172.32 Q2350.28 1167.71 2356.09 1167.71 Z\" fill=\"#000000\" fill-rule=\"evenodd\" fill-opacity=\"1\" /><path clip-path=\"url(#clip800)\" d=\"M2376.3 1168.34 L2394.66 1168.34 L2394.66 1172.27 L2380.58 1172.27 L2380.58 1180.74 Q2381.6 1180.4 2382.62 1180.24 Q2383.64 1180.05 2384.66 1180.05 Q2390.45 1180.05 2393.82 1183.22 Q2397.2 1186.39 2397.2 1191.81 Q2397.2 1197.39 2393.73 1200.49 Q2390.26 1203.57 2383.94 1203.57 Q2381.76 1203.57 2379.5 1203.2 Q2377.25 1202.83 2374.84 1202.09 L2374.84 1197.39 Q2376.93 1198.52 2379.15 1199.08 Q2381.37 1199.63 2383.85 1199.63 Q2387.85 1199.63 2390.19 1197.53 Q2392.53 1195.42 2392.53 1191.81 Q2392.53 1188.2 2390.19 1186.09 Q2387.85 1183.99 2383.85 1183.99 Q2381.97 1183.99 2380.1 1184.4 Q2378.25 1184.82 2376.3 1185.7 L2376.3 1168.34 Z\" fill=\"#000000\" fill-rule=\"evenodd\" fill-opacity=\"1\" /><path clip-path=\"url(#clip800)\" d=\"M2280.7 1008.27 Q2277.09 1008.27 2275.26 1011.84 Q2273.45 1015.38 2273.45 1022.51 Q2273.45 1029.62 2275.26 1033.18 Q2277.09 1036.72 2280.7 1036.72 Q2284.33 1036.72 2286.14 1033.18 Q2287.97 1029.62 2287.97 1022.51 Q2287.97 1015.38 2286.14 1011.84 Q2284.33 1008.27 2280.7 1008.27 M2280.7 1004.57 Q2286.51 1004.57 2289.57 1009.18 Q2292.64 1013.76 2292.64 1022.51 Q2292.64 1031.24 2289.57 1035.84 Q2286.51 1040.43 2280.7 1040.43 Q2274.89 1040.43 2271.81 1035.84 Q2268.76 1031.24 2268.76 1022.51 Q2268.76 1013.76 2271.81 1009.18 Q2274.89 1004.57 2280.7 1004.57 Z\" fill=\"#000000\" fill-rule=\"evenodd\" fill-opacity=\"1\" /><path clip-path=\"url(#clip800)\" d=\"M2300.86 1033.87 L2305.75 1033.87 L2305.75 1039.75 L2300.86 1039.75 L2300.86 1033.87 Z\" fill=\"#000000\" fill-rule=\"evenodd\" fill-opacity=\"1\" /><path clip-path=\"url(#clip800)\" d=\"M2325.93 1008.27 Q2322.32 1008.27 2320.49 1011.84 Q2318.69 1015.38 2318.69 1022.51 Q2318.69 1029.62 2320.49 1033.18 Q2322.32 1036.72 2325.93 1036.72 Q2329.57 1036.72 2331.37 1033.18 Q2333.2 1029.62 2333.2 1022.51 Q2333.2 1015.38 2331.37 1011.84 Q2329.57 1008.27 2325.93 1008.27 M2325.93 1004.57 Q2331.74 1004.57 2334.8 1009.18 Q2337.88 1013.76 2337.88 1022.51 Q2337.88 1031.24 2334.8 1035.84 Q2331.74 1040.43 2325.93 1040.43 Q2320.12 1040.43 2317.04 1035.84 Q2313.99 1031.24 2313.99 1022.51 Q2313.99 1013.76 2317.04 1009.18 Q2320.12 1004.57 2325.93 1004.57 Z\" fill=\"#000000\" fill-rule=\"evenodd\" fill-opacity=\"1\" /><path clip-path=\"url(#clip800)\" d=\"M2346.9 1035.82 L2354.54 1035.82 L2354.54 1009.45 L2346.23 1011.12 L2346.23 1006.86 L2354.5 1005.19 L2359.17 1005.19 L2359.17 1035.82 L2366.81 1035.82 L2366.81 1039.75 L2346.9 1039.75 L2346.9 1035.82 Z\" fill=\"#000000\" fill-rule=\"evenodd\" fill-opacity=\"1\" /><path clip-path=\"url(#clip800)\" d=\"M2386.26 1008.27 Q2382.64 1008.27 2380.82 1011.84 Q2379.01 1015.38 2379.01 1022.51 Q2379.01 1029.62 2380.82 1033.18 Q2382.64 1036.72 2386.26 1036.72 Q2389.89 1036.72 2391.7 1033.18 Q2393.52 1029.62 2393.52 1022.51 Q2393.52 1015.38 2391.7 1011.84 Q2389.89 1008.27 2386.26 1008.27 M2386.26 1004.57 Q2392.07 1004.57 2395.12 1009.18 Q2398.2 1013.76 2398.2 1022.51 Q2398.2 1031.24 2395.12 1035.84 Q2392.07 1040.43 2386.26 1040.43 Q2380.45 1040.43 2377.37 1035.84 Q2374.31 1031.24 2374.31 1022.51 Q2374.31 1013.76 2377.37 1009.18 Q2380.45 1004.57 2386.26 1004.57 Z\" fill=\"#000000\" fill-rule=\"evenodd\" fill-opacity=\"1\" /><path clip-path=\"url(#clip800)\" d=\"M2280.7 845.13 Q2277.09 845.13 2275.26 848.694 Q2273.45 852.236 2273.45 859.366 Q2273.45 866.472 2275.26 870.037 Q2277.09 873.579 2280.7 873.579 Q2284.33 873.579 2286.14 870.037 Q2287.97 866.472 2287.97 859.366 Q2287.97 852.236 2286.14 848.694 Q2284.33 845.13 2280.7 845.13 M2280.7 841.426 Q2286.51 841.426 2289.57 846.032 Q2292.64 850.616 2292.64 859.366 Q2292.64 868.092 2289.57 872.699 Q2286.51 877.282 2280.7 877.282 Q2274.89 877.282 2271.81 872.699 Q2268.76 868.092 2268.76 859.366 Q2268.76 850.616 2271.81 846.032 Q2274.89 841.426 2280.7 841.426 Z\" fill=\"#000000\" fill-rule=\"evenodd\" fill-opacity=\"1\" /><path clip-path=\"url(#clip800)\" d=\"M2300.86 870.731 L2305.75 870.731 L2305.75 876.611 L2300.86 876.611 L2300.86 870.731 Z\" fill=\"#000000\" fill-rule=\"evenodd\" fill-opacity=\"1\" /><path clip-path=\"url(#clip800)\" d=\"M2325.93 845.13 Q2322.32 845.13 2320.49 848.694 Q2318.69 852.236 2318.69 859.366 Q2318.69 866.472 2320.49 870.037 Q2322.32 873.579 2325.93 873.579 Q2329.57 873.579 2331.37 870.037 Q2333.2 866.472 2333.2 859.366 Q2333.2 852.236 2331.37 848.694 Q2329.57 845.13 2325.93 845.13 M2325.93 841.426 Q2331.74 841.426 2334.8 846.032 Q2337.88 850.616 2337.88 859.366 Q2337.88 868.092 2334.8 872.699 Q2331.74 877.282 2325.93 877.282 Q2320.12 877.282 2317.04 872.699 Q2313.99 868.092 2313.99 859.366 Q2313.99 850.616 2317.04 846.032 Q2320.12 841.426 2325.93 841.426 Z\" fill=\"#000000\" fill-rule=\"evenodd\" fill-opacity=\"1\" /><path clip-path=\"url(#clip800)\" d=\"M2346.9 872.676 L2354.54 872.676 L2354.54 846.31 L2346.23 847.977 L2346.23 843.718 L2354.5 842.051 L2359.17 842.051 L2359.17 872.676 L2366.81 872.676 L2366.81 876.611 L2346.9 876.611 L2346.9 872.676 Z\" fill=\"#000000\" fill-rule=\"evenodd\" fill-opacity=\"1\" /><path clip-path=\"url(#clip800)\" d=\"M2376.3 842.051 L2394.66 842.051 L2394.66 845.986 L2380.58 845.986 L2380.58 854.458 Q2381.6 854.111 2382.62 853.949 Q2383.64 853.764 2384.66 853.764 Q2390.45 853.764 2393.82 856.935 Q2397.2 860.106 2397.2 865.523 Q2397.2 871.102 2393.73 874.204 Q2390.26 877.282 2383.94 877.282 Q2381.76 877.282 2379.5 876.912 Q2377.25 876.541 2374.84 875.801 L2374.84 871.102 Q2376.93 872.236 2379.15 872.792 Q2381.37 873.347 2383.85 873.347 Q2387.85 873.347 2390.19 871.241 Q2392.53 869.134 2392.53 865.523 Q2392.53 861.912 2390.19 859.805 Q2387.85 857.699 2383.85 857.699 Q2381.97 857.699 2380.1 858.116 Q2378.25 858.532 2376.3 859.412 L2376.3 842.051 Z\" fill=\"#000000\" fill-rule=\"evenodd\" fill-opacity=\"1\" /><path clip-path=\"url(#clip800)\" d=\"M2280.7 681.986 Q2277.09 681.986 2275.26 685.551 Q2273.45 689.093 2273.45 696.223 Q2273.45 703.329 2275.26 706.894 Q2277.09 710.435 2280.7 710.435 Q2284.33 710.435 2286.14 706.894 Q2287.97 703.329 2287.97 696.223 Q2287.97 689.093 2286.14 685.551 Q2284.33 681.986 2280.7 681.986 M2280.7 678.283 Q2286.51 678.283 2289.57 682.889 Q2292.64 687.473 2292.64 696.223 Q2292.64 704.949 2289.57 709.556 Q2286.51 714.139 2280.7 714.139 Q2274.89 714.139 2271.81 709.556 Q2268.76 704.949 2268.76 696.223 Q2268.76 687.473 2271.81 682.889 Q2274.89 678.283 2280.7 678.283 Z\" fill=\"#000000\" fill-rule=\"evenodd\" fill-opacity=\"1\" /><path clip-path=\"url(#clip800)\" d=\"M2300.86 707.588 L2305.75 707.588 L2305.75 713.468 L2300.86 713.468 L2300.86 707.588 Z\" fill=\"#000000\" fill-rule=\"evenodd\" fill-opacity=\"1\" /><path clip-path=\"url(#clip800)\" d=\"M2325.93 681.986 Q2322.32 681.986 2320.49 685.551 Q2318.69 689.093 2318.69 696.223 Q2318.69 703.329 2320.49 706.894 Q2322.32 710.435 2325.93 710.435 Q2329.57 710.435 2331.37 706.894 Q2333.2 703.329 2333.2 696.223 Q2333.2 689.093 2331.37 685.551 Q2329.57 681.986 2325.93 681.986 M2325.93 678.283 Q2331.74 678.283 2334.8 682.889 Q2337.88 687.473 2337.88 696.223 Q2337.88 704.949 2334.8 709.556 Q2331.74 714.139 2325.93 714.139 Q2320.12 714.139 2317.04 709.556 Q2313.99 704.949 2313.99 696.223 Q2313.99 687.473 2317.04 682.889 Q2320.12 678.283 2325.93 678.283 Z\" fill=\"#000000\" fill-rule=\"evenodd\" fill-opacity=\"1\" /><path clip-path=\"url(#clip800)\" d=\"M2350.12 709.533 L2366.44 709.533 L2366.44 713.468 L2344.5 713.468 L2344.5 709.533 Q2347.16 706.778 2351.74 702.148 Q2356.35 697.496 2357.53 696.153 Q2359.77 693.63 2360.65 691.894 Q2361.56 690.135 2361.56 688.445 Q2361.56 685.69 2359.61 683.954 Q2357.69 682.218 2354.59 682.218 Q2352.39 682.218 2349.94 682.982 Q2347.51 683.746 2344.73 685.297 L2344.73 680.574 Q2347.55 679.44 2350.01 678.862 Q2352.46 678.283 2354.5 678.283 Q2359.87 678.283 2363.06 680.968 Q2366.26 683.653 2366.26 688.144 Q2366.26 690.273 2365.45 692.195 Q2364.66 694.093 2362.55 696.685 Q2361.97 697.357 2358.87 700.574 Q2355.77 703.769 2350.12 709.533 Z\" fill=\"#000000\" fill-rule=\"evenodd\" fill-opacity=\"1\" /><path clip-path=\"url(#clip800)\" d=\"M2386.26 681.986 Q2382.64 681.986 2380.82 685.551 Q2379.01 689.093 2379.01 696.223 Q2379.01 703.329 2380.82 706.894 Q2382.64 710.435 2386.26 710.435 Q2389.89 710.435 2391.7 706.894 Q2393.52 703.329 2393.52 696.223 Q2393.52 689.093 2391.7 685.551 Q2389.89 681.986 2386.26 681.986 M2386.26 678.283 Q2392.07 678.283 2395.12 682.889 Q2398.2 687.473 2398.2 696.223 Q2398.2 704.949 2395.12 709.556 Q2392.07 714.139 2386.26 714.139 Q2380.45 714.139 2377.37 709.556 Q2374.31 704.949 2374.31 696.223 Q2374.31 687.473 2377.37 682.889 Q2380.45 678.283 2386.26 678.283 Z\" fill=\"#000000\" fill-rule=\"evenodd\" fill-opacity=\"1\" /><path clip-path=\"url(#clip800)\" d=\"M2280.7 518.843 Q2277.09 518.843 2275.26 522.408 Q2273.45 525.95 2273.45 533.079 Q2273.45 540.186 2275.26 543.751 Q2277.09 547.292 2280.7 547.292 Q2284.33 547.292 2286.14 543.751 Q2287.97 540.186 2287.97 533.079 Q2287.97 525.95 2286.14 522.408 Q2284.33 518.843 2280.7 518.843 M2280.7 515.14 Q2286.51 515.14 2289.57 519.746 Q2292.64 524.329 2292.64 533.079 Q2292.64 541.806 2289.57 546.413 Q2286.51 550.996 2280.7 550.996 Q2274.89 550.996 2271.81 546.413 Q2268.76 541.806 2268.76 533.079 Q2268.76 524.329 2271.81 519.746 Q2274.89 515.14 2280.7 515.14 Z\" fill=\"#000000\" fill-rule=\"evenodd\" fill-opacity=\"1\" /><path clip-path=\"url(#clip800)\" d=\"M2300.86 544.445 L2305.75 544.445 L2305.75 550.325 L2300.86 550.325 L2300.86 544.445 Z\" fill=\"#000000\" fill-rule=\"evenodd\" fill-opacity=\"1\" /><path clip-path=\"url(#clip800)\" d=\"M2325.93 518.843 Q2322.32 518.843 2320.49 522.408 Q2318.69 525.95 2318.69 533.079 Q2318.69 540.186 2320.49 543.751 Q2322.32 547.292 2325.93 547.292 Q2329.57 547.292 2331.37 543.751 Q2333.2 540.186 2333.2 533.079 Q2333.2 525.95 2331.37 522.408 Q2329.57 518.843 2325.93 518.843 M2325.93 515.14 Q2331.74 515.14 2334.8 519.746 Q2337.88 524.329 2337.88 533.079 Q2337.88 541.806 2334.8 546.413 Q2331.74 550.996 2325.93 550.996 Q2320.12 550.996 2317.04 546.413 Q2313.99 541.806 2313.99 533.079 Q2313.99 524.329 2317.04 519.746 Q2320.12 515.14 2325.93 515.14 Z\" fill=\"#000000\" fill-rule=\"evenodd\" fill-opacity=\"1\" /><path clip-path=\"url(#clip800)\" d=\"M2350.12 546.39 L2366.44 546.39 L2366.44 550.325 L2344.5 550.325 L2344.5 546.39 Q2347.16 543.635 2351.74 539.005 Q2356.35 534.353 2357.53 533.01 Q2359.77 530.487 2360.65 528.751 Q2361.56 526.991 2361.56 525.302 Q2361.56 522.547 2359.61 520.811 Q2357.69 519.075 2354.59 519.075 Q2352.39 519.075 2349.94 519.839 Q2347.51 520.603 2344.73 522.154 L2344.73 517.431 Q2347.55 516.297 2350.01 515.718 Q2352.46 515.14 2354.5 515.14 Q2359.87 515.14 2363.06 517.825 Q2366.26 520.51 2366.26 525.001 Q2366.26 527.13 2365.45 529.052 Q2364.66 530.95 2362.55 533.542 Q2361.97 534.214 2358.87 537.431 Q2355.77 540.626 2350.12 546.39 Z\" fill=\"#000000\" fill-rule=\"evenodd\" fill-opacity=\"1\" /><path clip-path=\"url(#clip800)\" d=\"M2376.3 515.765 L2394.66 515.765 L2394.66 519.7 L2380.58 519.7 L2380.58 528.172 Q2381.6 527.825 2382.62 527.663 Q2383.64 527.478 2384.66 527.478 Q2390.45 527.478 2393.82 530.649 Q2397.2 533.82 2397.2 539.237 Q2397.2 544.815 2393.73 547.917 Q2390.26 550.996 2383.94 550.996 Q2381.76 550.996 2379.5 550.626 Q2377.25 550.255 2374.84 549.514 L2374.84 544.815 Q2376.93 545.95 2379.15 546.505 Q2381.37 547.061 2383.85 547.061 Q2387.85 547.061 2390.19 544.954 Q2392.53 542.848 2392.53 539.237 Q2392.53 535.626 2390.19 533.519 Q2387.85 531.413 2383.85 531.413 Q2381.97 531.413 2380.1 531.829 Q2378.25 532.246 2376.3 533.126 L2376.3 515.765 Z\" fill=\"#000000\" fill-rule=\"evenodd\" fill-opacity=\"1\" /><path clip-path=\"url(#clip800)\" d=\"M2280.7 355.7 Q2277.09 355.7 2275.26 359.265 Q2273.45 362.807 2273.45 369.936 Q2273.45 377.043 2275.26 380.607 Q2277.09 384.149 2280.7 384.149 Q2284.33 384.149 2286.14 380.607 Q2287.97 377.043 2287.97 369.936 Q2287.97 362.807 2286.14 359.265 Q2284.33 355.7 2280.7 355.7 M2280.7 351.997 Q2286.51 351.997 2289.57 356.603 Q2292.64 361.186 2292.64 369.936 Q2292.64 378.663 2289.57 383.27 Q2286.51 387.853 2280.7 387.853 Q2274.89 387.853 2271.81 383.27 Q2268.76 378.663 2268.76 369.936 Q2268.76 361.186 2271.81 356.603 Q2274.89 351.997 2280.7 351.997 Z\" fill=\"#000000\" fill-rule=\"evenodd\" fill-opacity=\"1\" /><path clip-path=\"url(#clip800)\" d=\"M2300.86 381.302 L2305.75 381.302 L2305.75 387.182 L2300.86 387.182 L2300.86 381.302 Z\" fill=\"#000000\" fill-rule=\"evenodd\" fill-opacity=\"1\" /><path clip-path=\"url(#clip800)\" d=\"M2325.93 355.7 Q2322.32 355.7 2320.49 359.265 Q2318.69 362.807 2318.69 369.936 Q2318.69 377.043 2320.49 380.607 Q2322.32 384.149 2325.93 384.149 Q2329.57 384.149 2331.37 380.607 Q2333.2 377.043 2333.2 369.936 Q2333.2 362.807 2331.37 359.265 Q2329.57 355.7 2325.93 355.7 M2325.93 351.997 Q2331.74 351.997 2334.8 356.603 Q2337.88 361.186 2337.88 369.936 Q2337.88 378.663 2334.8 383.27 Q2331.74 387.853 2325.93 387.853 Q2320.12 387.853 2317.04 383.27 Q2313.99 378.663 2313.99 369.936 Q2313.99 361.186 2317.04 356.603 Q2320.12 351.997 2325.93 351.997 Z\" fill=\"#000000\" fill-rule=\"evenodd\" fill-opacity=\"1\" /><path clip-path=\"url(#clip800)\" d=\"M2360.26 368.547 Q2363.62 369.265 2365.49 371.533 Q2367.39 373.802 2367.39 377.135 Q2367.39 382.251 2363.87 385.052 Q2360.35 387.853 2353.87 387.853 Q2351.7 387.853 2349.38 387.413 Q2347.09 386.996 2344.64 386.14 L2344.64 381.626 Q2346.58 382.76 2348.89 383.339 Q2351.21 383.918 2353.73 383.918 Q2358.13 383.918 2360.42 382.182 Q2362.74 380.445 2362.74 377.135 Q2362.74 374.08 2360.58 372.367 Q2358.45 370.631 2354.64 370.631 L2350.61 370.631 L2350.61 366.788 L2354.82 366.788 Q2358.27 366.788 2360.1 365.422 Q2361.93 364.034 2361.93 361.441 Q2361.93 358.779 2360.03 357.367 Q2358.15 355.932 2354.64 355.932 Q2352.71 355.932 2350.51 356.348 Q2348.32 356.765 2345.68 357.645 L2345.68 353.478 Q2348.34 352.737 2350.65 352.367 Q2352.99 351.997 2355.05 351.997 Q2360.38 351.997 2363.48 354.427 Q2366.58 356.834 2366.58 360.955 Q2366.58 363.825 2364.94 365.816 Q2363.29 367.783 2360.26 368.547 Z\" fill=\"#000000\" fill-rule=\"evenodd\" fill-opacity=\"1\" /><path clip-path=\"url(#clip800)\" d=\"M2386.26 355.7 Q2382.64 355.7 2380.82 359.265 Q2379.01 362.807 2379.01 369.936 Q2379.01 377.043 2380.82 380.607 Q2382.64 384.149 2386.26 384.149 Q2389.89 384.149 2391.7 380.607 Q2393.52 377.043 2393.52 369.936 Q2393.52 362.807 2391.7 359.265 Q2389.89 355.7 2386.26 355.7 M2386.26 351.997 Q2392.07 351.997 2395.12 356.603 Q2398.2 361.186 2398.2 369.936 Q2398.2 378.663 2395.12 383.27 Q2392.07 387.853 2386.26 387.853 Q2380.45 387.853 2377.37 383.27 Q2374.31 378.663 2374.31 369.936 Q2374.31 361.186 2377.37 356.603 Q2380.45 351.997 2386.26 351.997 Z\" fill=\"#000000\" fill-rule=\"evenodd\" fill-opacity=\"1\" /><path clip-path=\"url(#clip800)\" d=\"M2280.7 192.557 Q2277.09 192.557 2275.26 196.122 Q2273.45 199.664 2273.45 206.793 Q2273.45 213.9 2275.26 217.464 Q2277.09 221.006 2280.7 221.006 Q2284.33 221.006 2286.14 217.464 Q2287.97 213.9 2287.97 206.793 Q2287.97 199.664 2286.14 196.122 Q2284.33 192.557 2280.7 192.557 M2280.7 188.853 Q2286.51 188.853 2289.57 193.46 Q2292.64 198.043 2292.64 206.793 Q2292.64 215.52 2289.57 220.126 Q2286.51 224.71 2280.7 224.71 Q2274.89 224.71 2271.81 220.126 Q2268.76 215.52 2268.76 206.793 Q2268.76 198.043 2271.81 193.46 Q2274.89 188.853 2280.7 188.853 Z\" fill=\"#000000\" fill-rule=\"evenodd\" fill-opacity=\"1\" /><path clip-path=\"url(#clip800)\" d=\"M2300.86 218.159 L2305.75 218.159 L2305.75 224.038 L2300.86 224.038 L2300.86 218.159 Z\" fill=\"#000000\" fill-rule=\"evenodd\" fill-opacity=\"1\" /><path clip-path=\"url(#clip800)\" d=\"M2325.93 192.557 Q2322.32 192.557 2320.49 196.122 Q2318.69 199.664 2318.69 206.793 Q2318.69 213.9 2320.49 217.464 Q2322.32 221.006 2325.93 221.006 Q2329.57 221.006 2331.37 217.464 Q2333.2 213.9 2333.2 206.793 Q2333.2 199.664 2331.37 196.122 Q2329.57 192.557 2325.93 192.557 M2325.93 188.853 Q2331.74 188.853 2334.8 193.46 Q2337.88 198.043 2337.88 206.793 Q2337.88 215.52 2334.8 220.126 Q2331.74 224.71 2325.93 224.71 Q2320.12 224.71 2317.04 220.126 Q2313.99 215.52 2313.99 206.793 Q2313.99 198.043 2317.04 193.46 Q2320.12 188.853 2325.93 188.853 Z\" fill=\"#000000\" fill-rule=\"evenodd\" fill-opacity=\"1\" /><path clip-path=\"url(#clip800)\" d=\"M2360.26 205.404 Q2363.62 206.122 2365.49 208.39 Q2367.39 210.659 2367.39 213.992 Q2367.39 219.108 2363.87 221.909 Q2360.35 224.71 2353.87 224.71 Q2351.7 224.71 2349.38 224.27 Q2347.09 223.853 2344.64 222.997 L2344.64 218.483 Q2346.58 219.617 2348.89 220.196 Q2351.21 220.775 2353.73 220.775 Q2358.13 220.775 2360.42 219.038 Q2362.74 217.302 2362.74 213.992 Q2362.74 210.937 2360.58 209.224 Q2358.45 207.488 2354.64 207.488 L2350.61 207.488 L2350.61 203.645 L2354.82 203.645 Q2358.27 203.645 2360.1 202.279 Q2361.93 200.89 2361.93 198.298 Q2361.93 195.636 2360.03 194.224 Q2358.15 192.789 2354.64 192.789 Q2352.71 192.789 2350.51 193.205 Q2348.32 193.622 2345.68 194.502 L2345.68 190.335 Q2348.34 189.594 2350.65 189.224 Q2352.99 188.853 2355.05 188.853 Q2360.38 188.853 2363.48 191.284 Q2366.58 193.691 2366.58 197.812 Q2366.58 200.682 2364.94 202.673 Q2363.29 204.64 2360.26 205.404 Z\" fill=\"#000000\" fill-rule=\"evenodd\" fill-opacity=\"1\" /><path clip-path=\"url(#clip800)\" d=\"M2376.3 189.478 L2394.66 189.478 L2394.66 193.414 L2380.58 193.414 L2380.58 201.886 Q2381.6 201.539 2382.62 201.376 Q2383.64 201.191 2384.66 201.191 Q2390.45 201.191 2393.82 204.363 Q2397.2 207.534 2397.2 212.95 Q2397.2 218.529 2393.73 221.631 Q2390.26 224.71 2383.94 224.71 Q2381.76 224.71 2379.5 224.339 Q2377.25 223.969 2374.84 223.228 L2374.84 218.529 Q2376.93 219.663 2379.15 220.219 Q2381.37 220.775 2383.85 220.775 Q2387.85 220.775 2390.19 218.668 Q2392.53 216.562 2392.53 212.95 Q2392.53 209.339 2390.19 207.233 Q2387.85 205.126 2383.85 205.126 Q2381.97 205.126 2380.1 205.543 Q2378.25 205.96 2376.3 206.839 L2376.3 189.478 Z\" fill=\"#000000\" fill-rule=\"evenodd\" fill-opacity=\"1\" /><polyline clip-path=\"url(#clip800)\" style=\"stroke:#000000; stroke-linecap:butt; stroke-linejoin:round; stroke-width:4; stroke-opacity:1; fill:none\" points=\"\n  2232.76,1486.45 2232.76,1352.39 2256.76,1352.39 2232.76,1352.39 2232.76,1189.25 2256.76,1189.25 2232.76,1189.25 2232.76,1026.1 2256.76,1026.1 2232.76,1026.1 \n  2232.76,862.96 2256.76,862.96 2232.76,862.96 2232.76,699.817 2256.76,699.817 2232.76,699.817 2232.76,536.673 2256.76,536.673 2232.76,536.673 2232.76,373.53 \n  2256.76,373.53 2232.76,373.53 2232.76,210.387 2256.76,210.387 2232.76,210.387 2232.76,47.2441 \n  \"/>\n</svg>\n"
     },
     "execution_count": 34,
     "metadata": {},
     "output_type": "execute_result"
    }
   ],
   "source": [
    "heatmap(clamp!(Matrix(select(results_df, Not(:train_era))), -.04, .04),  c=palette(:RdYlGn))"
   ]
  },
  {
   "cell_type": "markdown",
   "id": "5d6ad128-555d-4bb3-ac63-f04259195f1a",
   "metadata": {},
   "source": [
    "Here is an advanced paper that talks about generalization.\n",
    "Eras can be thought about in the same way that \"distributions\" or \"environments\" are talked about here\n",
    "https://arxiv.org/pdf/1907.02893.pdf"
   ]
  },
  {
   "cell_type": "markdown",
   "id": "8cd6b7cf-dca6-41b5-908f-418443bd39b6",
   "metadata": {},
   "source": [
    "## Gotcha: Since the signal-to-noise ratio is so low, models can take many more iterations than expected, and have scarily high in-sample performance"
   ]
  },
  {
   "cell_type": "code",
   "execution_count": 35,
   "id": "6acc27cd-bc68-4a7e-a7b4-a4b677ffb794",
   "metadata": {},
   "outputs": [],
   "source": [
    "df₁ = df[coalesce.(eras .<= median(eras), false), :]\n",
    "df₂ = df[coalesce.(eras .> median(eras), false), :];"
   ]
  },
  {
   "cell_type": "code",
   "execution_count": 36,
   "id": "ab5ebca4-c474-49df-8f6e-879a1d7e2019",
   "metadata": {},
   "outputs": [],
   "source": [
    "function our_score(preds, dtrain)\n",
    "    return \"score\", cor(get_info(dtrain, \"label\"), preds)\n",
    "end\n",
    "\n",
    "dtrain = DMatrix(Matrix(df₁[!, features]), label=df₁.target)\n",
    "dtest = DMatrix(Matrix(df₂[!, features]), label=df₂.target)\n",
    "dall = DMatrix(Matrix(df[!, features]), label=df.target);"
   ]
  },
  {
   "cell_type": "code",
   "execution_count": 37,
   "id": "b62f739b-d2cc-40ff-bb71-5a55668733f3",
   "metadata": {},
   "outputs": [
    {
     "name": "stderr",
     "output_type": "stream",
     "text": [
      "[1]\ttrain-score:0.034205\ttest-score:0.013370\n",
      "[2]\ttrain-score:0.042116\ttest-score:0.018210\n",
      "[3]\ttrain-score:0.044523\ttest-score:0.020057\n",
      "[4]\ttrain-score:0.046625\ttest-score:0.020591\n",
      "[5]\ttrain-score:0.047456\ttest-score:0.021075\n",
      "[6]\ttrain-score:0.050244\ttest-score:0.022334\n",
      "[7]\ttrain-score:0.053165\ttest-score:0.023862\n",
      "[8]\ttrain-score:0.053749\ttest-score:0.024308\n",
      "[9]\ttrain-score:0.055734\ttest-score:0.025105\n",
      "[10]\ttrain-score:0.056863\ttest-score:0.025744\n",
      "[11]\ttrain-score:0.057717\ttest-score:0.025711\n",
      "[12]\ttrain-score:0.058456\ttest-score:0.026579\n",
      "[13]\ttrain-score:0.059670\ttest-score:0.027121\n",
      "[14]\ttrain-score:0.061333\ttest-score:0.027169\n",
      "[15]\ttrain-score:0.062278\ttest-score:0.027445\n",
      "[16]\ttrain-score:0.063603\ttest-score:0.028017\n",
      "[17]\ttrain-score:0.063934\ttest-score:0.028256\n",
      "[18]\ttrain-score:0.065052\ttest-score:0.028822\n",
      "[19]\ttrain-score:0.066291\ttest-score:0.029125\n",
      "[20]\ttrain-score:0.067134\ttest-score:0.028689\n",
      "[21]\ttrain-score:0.068495\ttest-score:0.029119\n",
      "[22]\ttrain-score:0.069201\ttest-score:0.029029\n",
      "[23]\ttrain-score:0.070425\ttest-score:0.029236\n",
      "[24]\ttrain-score:0.071568\ttest-score:0.029508\n",
      "[25]\ttrain-score:0.072137\ttest-score:0.029973\n",
      "[26]\ttrain-score:0.072909\ttest-score:0.029859\n",
      "[27]\ttrain-score:0.073970\ttest-score:0.030114\n",
      "[28]\ttrain-score:0.074752\ttest-score:0.030397\n",
      "[29]\ttrain-score:0.075204\ttest-score:0.030447\n",
      "[30]\ttrain-score:0.075893\ttest-score:0.030690\n",
      "[31]\ttrain-score:0.076471\ttest-score:0.030660\n",
      "[32]\ttrain-score:0.076987\ttest-score:0.030473\n",
      "[33]\ttrain-score:0.077460\ttest-score:0.030752\n",
      "[34]\ttrain-score:0.077869\ttest-score:0.030746\n",
      "[35]\ttrain-score:0.078555\ttest-score:0.031091\n",
      "[36]\ttrain-score:0.078825\ttest-score:0.031524\n",
      "[37]\ttrain-score:0.079270\ttest-score:0.031895\n",
      "[38]\ttrain-score:0.079848\ttest-score:0.031853\n",
      "[39]\ttrain-score:0.080204\ttest-score:0.031560\n",
      "[40]\ttrain-score:0.080906\ttest-score:0.031729\n",
      "[41]\ttrain-score:0.081367\ttest-score:0.031682\n",
      "[42]\ttrain-score:0.082308\ttest-score:0.031711\n",
      "[43]\ttrain-score:0.082807\ttest-score:0.031745\n",
      "[44]\ttrain-score:0.083513\ttest-score:0.032172\n",
      "[45]\ttrain-score:0.084038\ttest-score:0.032111\n",
      "[46]\ttrain-score:0.084551\ttest-score:0.032103\n",
      "[47]\ttrain-score:0.085371\ttest-score:0.032024\n",
      "[48]\ttrain-score:0.086145\ttest-score:0.032008\n",
      "[49]\ttrain-score:0.086439\ttest-score:0.031888\n",
      "[50]\ttrain-score:0.086804\ttest-score:0.031782\n",
      "[51]\ttrain-score:0.087273\ttest-score:0.032083\n",
      "[52]\ttrain-score:0.087956\ttest-score:0.032262\n",
      "[53]\ttrain-score:0.088026\ttest-score:0.032434\n",
      "[54]\ttrain-score:0.088556\ttest-score:0.032589\n",
      "[55]\ttrain-score:0.088790\ttest-score:0.032618\n",
      "[56]\ttrain-score:0.089321\ttest-score:0.032612\n",
      "[57]\ttrain-score:0.089829\ttest-score:0.032729\n",
      "[58]\ttrain-score:0.090087\ttest-score:0.032762\n",
      "[59]\ttrain-score:0.090309\ttest-score:0.032838\n",
      "[60]\ttrain-score:0.091052\ttest-score:0.032866\n",
      "[61]\ttrain-score:0.091601\ttest-score:0.032716\n",
      "[62]\ttrain-score:0.092032\ttest-score:0.032689\n",
      "[63]\ttrain-score:0.092394\ttest-score:0.032566\n",
      "[64]\ttrain-score:0.092747\ttest-score:0.032685\n",
      "[65]\ttrain-score:0.093236\ttest-score:0.032907\n",
      "[66]\ttrain-score:0.093703\ttest-score:0.032696\n",
      "[67]\ttrain-score:0.094115\ttest-score:0.032824\n",
      "[68]\ttrain-score:0.094518\ttest-score:0.032690\n",
      "[69]\ttrain-score:0.094853\ttest-score:0.032965\n",
      "[70]\ttrain-score:0.095340\ttest-score:0.032935\n",
      "[71]\ttrain-score:0.095867\ttest-score:0.033131\n",
      "[72]\ttrain-score:0.096333\ttest-score:0.033031\n",
      "[73]\ttrain-score:0.096724\ttest-score:0.032923\n",
      "[74]\ttrain-score:0.096926\ttest-score:0.032929\n",
      "[75]\ttrain-score:0.097358\ttest-score:0.032930\n",
      "[76]\ttrain-score:0.097798\ttest-score:0.033127\n",
      "[77]\ttrain-score:0.098150\ttest-score:0.033046\n",
      "[78]\ttrain-score:0.098434\ttest-score:0.033101\n",
      "[79]\ttrain-score:0.098696\ttest-score:0.033058\n",
      "[80]\ttrain-score:0.099147\ttest-score:0.033266\n",
      "[81]\ttrain-score:0.099522\ttest-score:0.033358\n",
      "[82]\ttrain-score:0.099870\ttest-score:0.033457\n",
      "[83]\ttrain-score:0.100308\ttest-score:0.033465\n",
      "[84]\ttrain-score:0.100698\ttest-score:0.033422\n",
      "[85]\ttrain-score:0.101070\ttest-score:0.033549\n",
      "[86]\ttrain-score:0.101323\ttest-score:0.033512\n",
      "[87]\ttrain-score:0.101738\ttest-score:0.033682\n",
      "[88]\ttrain-score:0.101921\ttest-score:0.033735\n",
      "[89]\ttrain-score:0.102211\ttest-score:0.033773\n",
      "[90]\ttrain-score:0.102537\ttest-score:0.033706\n",
      "[91]\ttrain-score:0.102779\ttest-score:0.033658\n",
      "[92]\ttrain-score:0.103363\ttest-score:0.033927\n",
      "[93]\ttrain-score:0.103683\ttest-score:0.033817\n",
      "[94]\ttrain-score:0.104193\ttest-score:0.033676\n",
      "[95]\ttrain-score:0.104675\ttest-score:0.033660\n",
      "[96]\ttrain-score:0.104912\ttest-score:0.033559\n",
      "[97]\ttrain-score:0.105215\ttest-score:0.033580\n",
      "[98]\ttrain-score:0.105604\ttest-score:0.033538\n",
      "[99]\ttrain-score:0.105853\ttest-score:0.033650\n",
      "[100]\ttrain-score:0.106177\ttest-score:0.033704\n"
     ]
    },
    {
     "data": {
      "text/plain": [
       "Booster(Ptr{Nothing} @0x000000018aa6a970)"
      ]
     },
     "execution_count": 37,
     "metadata": {},
     "output_type": "execute_result"
    }
   ],
   "source": [
    "# This part I wasn't abel to replicate perfectly, XGBoost on Julia seems to(?) lack an evals_result to push the data into\n",
    "# the source code shows only that it prints to stderr - one could redirect it to an IOBuffer and regex parse it into an\n",
    "# array but realistically the amount of effort isn't worth it, since one can clearly see the out-of-sample performance \n",
    "# differneces purely from the numbers printed\n",
    "\n",
    "param = Dict(\n",
    "    \"eta\" => 0.1,\n",
    "    \"max_depth\" => 3,\n",
    "    \"objective\" => \"reg:squarederror\",\n",
    "    \"eval_metric\" => \"rmse\"\n",
    ")\n",
    "\n",
    "\n",
    "xgboost(dtrain,\n",
    "    100,\n",
    "    param = param, \n",
    "    watchlist = [(dtrain, \"train\"), (dtest, \"test\")], \n",
    "    feval = our_score\n",
    ")"
   ]
  },
  {
   "cell_type": "markdown",
   "id": "b09786ba-c489-459f-bfc9-b54ec2e97d3e",
   "metadata": {},
   "source": [
    "# The results are sensitive to the choice of parameters, which should be picked through cross-validation"
   ]
  },
  {
   "cell_type": "code",
   "execution_count": 38,
   "id": "79eb0589-73ac-46cc-ad89-b9ff673d0b5d",
   "metadata": {},
   "outputs": [],
   "source": [
    "df₁ = df[coalesce.(eras .<= median(eras), false), :]\n",
    "df₂ = df[coalesce.(eras .> median(eras), false), :];"
   ]
  },
  {
   "cell_type": "code",
   "execution_count": 39,
   "id": "8378198c-fea0-4dc0-842d-43afc8ab4657",
   "metadata": {},
   "outputs": [
    {
     "data": {
      "text/plain": [
       "ElasticNetRegressor"
      ]
     },
     "execution_count": 39,
     "metadata": {},
     "output_type": "execute_result"
    }
   ],
   "source": [
    "XGB = @load XGBoostRegressor pkg=XGBoost verbosity=0\n",
    "Linear = @load LinearRegressor pkg=MLJLinearModels verbosity=0\n",
    "Elastic = @load ElasticNetRegressor pkg=MLJLinearModels verbosity=0"
   ]
  },
  {
   "cell_type": "code",
   "execution_count": 40,
   "id": "7c45a762-11b1-4a36-8bbc-6f90c0ac7908",
   "metadata": {},
   "outputs": [],
   "source": [
    "models = vcat(\n",
    "    [Linear()],\n",
    "    [Elastic(lambda = λ) for λ in [0.01, 0.005, 0.002, 0.001, 0.0005, 0.0002, 0.0001, 0.00005, 0.00002, 0.00001]],\n",
    "    [XGB()],\n",
    "    [XGB(eta = 0.01, num_round=1000)],\n",
    "    [XGB(eta = 0.01, colsample_bytree=0.1, num_round=1000)],\n",
    "    [XGB(eta = 0.01, colsample_bytree=0.1, num_round=1000, max_depth=5)],\n",
    "    [XGB(eta = 0.001, colsample_bytree=0.1, num_round=1000, max_depth=5)]\n",
    ");"
   ]
  },
  {
   "cell_type": "code",
   "execution_count": 41,
   "id": "c1bea9ce-bac1-4625-9004-745bcb5d7501",
   "metadata": {},
   "outputs": [
    {
     "name": "stdout",
     "output_type": "stream",
     "text": [
      " -- \u001b[34mLinearRegressor @423\u001b[39m\n",
      "outsample: 0.028025599207339144, insample: 0.06275168899240204\n",
      " -- \u001b[34mElasticNetRegressor @297\u001b[39m\n"
     ]
    },
    {
     "name": "stderr",
     "output_type": "stream",
     "text": [
      "┌ Warning: Proximal GD did not converge in 1000 iterations.\n",
      "└ @ MLJLinearModels C:\\Users\\Justin\\.julia\\packages\\MLJLinearModels\\KE4EE\\src\\fit\\proxgrad.jl:64\n"
     ]
    },
    {
     "name": "stdout",
     "output_type": "stream",
     "text": [
      "outsample: 0.027651106932304964, insample: 0.061801048380003165\n",
      " -- \u001b[34mElasticNetRegressor @124\u001b[39m\n"
     ]
    },
    {
     "name": "stderr",
     "output_type": "stream",
     "text": [
      "┌ Warning: Proximal GD did not converge in 1000 iterations.\n",
      "└ @ MLJLinearModels C:\\Users\\Justin\\.julia\\packages\\MLJLinearModels\\KE4EE\\src\\fit\\proxgrad.jl:64\n"
     ]
    },
    {
     "name": "stdout",
     "output_type": "stream",
     "text": [
      "outsample: 0.027651115862462477, insample: 0.061800987594603896\n",
      " -- \u001b[34mElasticNetRegressor @012\u001b[39m\n"
     ]
    },
    {
     "name": "stderr",
     "output_type": "stream",
     "text": [
      "┌ Warning: Proximal GD did not converge in 1000 iterations.\n",
      "└ @ MLJLinearModels C:\\Users\\Justin\\.julia\\packages\\MLJLinearModels\\KE4EE\\src\\fit\\proxgrad.jl:64\n"
     ]
    },
    {
     "name": "stdout",
     "output_type": "stream",
     "text": [
      "outsample: 0.02765108322778513, insample: 0.06180104261606859\n",
      " -- \u001b[34mElasticNetRegressor @994\u001b[39m\n"
     ]
    },
    {
     "name": "stderr",
     "output_type": "stream",
     "text": [
      "┌ Warning: Proximal GD did not converge in 1000 iterations.\n",
      "└ @ MLJLinearModels C:\\Users\\Justin\\.julia\\packages\\MLJLinearModels\\KE4EE\\src\\fit\\proxgrad.jl:64\n"
     ]
    },
    {
     "name": "stdout",
     "output_type": "stream",
     "text": [
      "outsample: 0.027651162275441423, insample: 0.061801053881855784\n",
      " -- \u001b[34mElasticNetRegressor @306\u001b[39m\n"
     ]
    },
    {
     "name": "stderr",
     "output_type": "stream",
     "text": [
      "┌ Warning: Proximal GD did not converge in 1000 iterations.\n",
      "└ @ MLJLinearModels C:\\Users\\Justin\\.julia\\packages\\MLJLinearModels\\KE4EE\\src\\fit\\proxgrad.jl:64\n"
     ]
    },
    {
     "name": "stdout",
     "output_type": "stream",
     "text": [
      "outsample: 0.027651155706182137, insample: 0.06180105710588575\n",
      " -- \u001b[34mElasticNetRegressor @576\u001b[39m\n"
     ]
    },
    {
     "name": "stderr",
     "output_type": "stream",
     "text": [
      "┌ Warning: Proximal GD did not converge in 1000 iterations.\n",
      "└ @ MLJLinearModels C:\\Users\\Justin\\.julia\\packages\\MLJLinearModels\\KE4EE\\src\\fit\\proxgrad.jl:64\n"
     ]
    },
    {
     "name": "stdout",
     "output_type": "stream",
     "text": [
      "outsample: 0.027651162860262833, insample: 0.06180104657865728\n",
      " -- \u001b[34mElasticNetRegressor @704\u001b[39m\n"
     ]
    },
    {
     "name": "stderr",
     "output_type": "stream",
     "text": [
      "┌ Warning: Proximal GD did not converge in 1000 iterations.\n",
      "└ @ MLJLinearModels C:\\Users\\Justin\\.julia\\packages\\MLJLinearModels\\KE4EE\\src\\fit\\proxgrad.jl:64\n"
     ]
    },
    {
     "name": "stdout",
     "output_type": "stream",
     "text": [
      "outsample: 0.0276511455748371, insample: 0.061801044145696406\n",
      " -- \u001b[34mElasticNetRegressor @652\u001b[39m\n"
     ]
    },
    {
     "name": "stderr",
     "output_type": "stream",
     "text": [
      "┌ Warning: Proximal GD did not converge in 1000 iterations.\n",
      "└ @ MLJLinearModels C:\\Users\\Justin\\.julia\\packages\\MLJLinearModels\\KE4EE\\src\\fit\\proxgrad.jl:64\n"
     ]
    },
    {
     "name": "stdout",
     "output_type": "stream",
     "text": [
      "outsample: 0.02765113464601516, insample: 0.061801044145696406\n",
      " -- \u001b[34mElasticNetRegressor @867\u001b[39m\n"
     ]
    },
    {
     "name": "stderr",
     "output_type": "stream",
     "text": [
      "┌ Warning: Proximal GD did not converge in 1000 iterations.\n",
      "└ @ MLJLinearModels C:\\Users\\Justin\\.julia\\packages\\MLJLinearModels\\KE4EE\\src\\fit\\proxgrad.jl:64\n"
     ]
    },
    {
     "name": "stdout",
     "output_type": "stream",
     "text": [
      "outsample: 0.027651141667503418, insample: 0.06180103987617271\n",
      " -- \u001b[34mElasticNetRegressor @584\u001b[39m\n"
     ]
    },
    {
     "name": "stderr",
     "output_type": "stream",
     "text": [
      "┌ Warning: Proximal GD did not converge in 1000 iterations.\n",
      "└ @ MLJLinearModels C:\\Users\\Justin\\.julia\\packages\\MLJLinearModels\\KE4EE\\src\\fit\\proxgrad.jl:64\n"
     ]
    },
    {
     "name": "stdout",
     "output_type": "stream",
     "text": [
      "outsample: 0.027651141667503418, insample: 0.06180103987617271\n",
      " -- \u001b[34mXGBoostRegressor @531\u001b[39m\n",
      "outsample: 0.024815763345799297, insample: 0.4033048140864821\n",
      " -- \u001b[34mXGBoostRegressor @088\u001b[39m\n",
      "outsample: 0.03659074980295988, insample: 0.34474251174858644\n",
      " -- \u001b[34mXGBoostRegressor @046\u001b[39m\n",
      "outsample: 0.03897987810857149, insample: 0.3118486054318112\n",
      " -- \u001b[34mXGBoostRegressor @391\u001b[39m\n",
      "outsample: 0.039683297779925394, insample: 0.20312468355680283\n",
      " -- \u001b[34mXGBoostRegressor @146\u001b[39m\n",
      "outsample: 0.034509192497652864, insample: 0.11544644084833998\n"
     ]
    }
   ],
   "source": [
    "for model in models\n",
    "    print(\" -- \", model, \"\\n\")\n",
    "    mach = machine(model, df₁[!, features], df₁.target)\n",
    "    MLJ.fit!(mach, verbosity=0)\n",
    "    outsample = numerai_score(df₂.target, MLJ.predict(mach, df₂[!, features]), df₂)\n",
    "    insample = numerai_score(df₁.target, MLJ.predict(mach, df₁[!, features]), df₁)\n",
    "    print(\"outsample: $outsample, insample: $insample\", \"\\n\")\n",
    "end"
   ]
  },
  {
   "cell_type": "markdown",
   "id": "1db91a8a-2d47-4756-aa3d-c2c7deaee6cc",
   "metadata": {},
   "source": [
    "## Gotcha: Models with large exposures to individual features tend to perform poorly or inconsistently out of sample ## "
   ]
  },
  {
   "cell_type": "code",
   "execution_count": 42,
   "id": "d21e8ce8-0e2c-443e-9d58-f5cd43fe0d94",
   "metadata": {},
   "outputs": [],
   "source": [
    "# MLJ matches the XGBoost implementation in Python, where num_round == n_estimators \n",
    "\n",
    "XGB = @load XGBoostRegressor pkg=XGBoost verbosity=0\n",
    "xgb = XGB(eta = 0.01, max_depth=5, num_round=1000);\n",
    "mach = machine(xgb, df₁[!, features], df₁.target)\n",
    "MLJ.fit!(mach, verbosity=0)\n",
    "\n",
    "xgb_preds = MLJ.predict(mach, df₂[!, features]);"
   ]
  },
  {
   "cell_type": "code",
   "execution_count": 43,
   "id": "2dc544bb-d0ed-45aa-93ed-986d39e052cc",
   "metadata": {},
   "outputs": [
    {
     "data": {
      "text/plain": [
       "248653-element Vector{Float32}:\n",
       " 0.5092171\n",
       " 0.51353323\n",
       " 0.5298325\n",
       " 0.50988734\n",
       " 0.50764424\n",
       " 0.50148475\n",
       " 0.504006\n",
       " 0.49748185\n",
       " 0.49696985\n",
       " 0.48918203\n",
       " 0.50696886\n",
       " 0.51324135\n",
       " 0.48414978\n",
       " ⋮\n",
       " 0.48918062\n",
       " 0.47421244\n",
       " 0.5090075\n",
       " 0.48367783\n",
       " 0.47870287\n",
       " 0.5039986\n",
       " 0.4987926\n",
       " 0.49181792\n",
       " 0.51567954\n",
       " 0.5039868\n",
       " 0.48160774\n",
       " 0.48305735"
      ]
     },
     "execution_count": 43,
     "metadata": {},
     "output_type": "execute_result"
    }
   ],
   "source": [
    "xgb_preds"
   ]
  },
  {
   "cell_type": "markdown",
   "id": "29ef7022-867a-46e6-9cd6-8fb8ae23f305",
   "metadata": {},
   "source": [
    "### Our predictions have correlation > 0.2 in either direction for some single features!\n",
    "Sure hope those features continue to act as they have in the past!"
   ]
  },
  {
   "cell_type": "code",
   "execution_count": 44,
   "id": "3f8d7a39-19b4-4710-a97f-72947ea5f63a",
   "metadata": {},
   "outputs": [
    {
     "data": {
      "text/html": [
       "<div class=\"data-frame\"><p>1 rows × 13 columns (omitted printing of 5 columns)</p><table class=\"data-frame\"><thead><tr><th></th><th>variable</th><th>mean</th><th>std</th><th>min</th><th>q25</th><th>median</th><th>q75</th><th>max</th></tr><tr><th></th><th title=\"Symbol\">Symbol</th><th title=\"Float64\">Float64</th><th title=\"Float64\">Float64</th><th title=\"Float64\">Float64</th><th title=\"Float64\">Float64</th><th title=\"Float64\">Float64</th><th title=\"Float64\">Float64</th><th title=\"Float64\">Float64</th></tr></thead><tbody><tr><th>1</th><td>cor_list</td><td>0.0484105</td><td>0.0816448</td><td>-0.229774</td><td>0.00417808</td><td>0.0457962</td><td>0.108646</td><td>0.232515</td></tr></tbody></table></div>"
      ],
      "text/latex": [
       "\\begin{tabular}{r|ccccccccc}\n",
       "\t& variable & mean & std & min & q25 & median & q75 & max & \\\\\n",
       "\t\\hline\n",
       "\t& Symbol & Float64 & Float64 & Float64 & Float64 & Float64 & Float64 & Float64 & \\\\\n",
       "\t\\hline\n",
       "\t1 & cor\\_list & 0.0484105 & 0.0816448 & -0.229774 & 0.00417808 & 0.0457962 & 0.108646 & 0.232515 & $\\dots$ \\\\\n",
       "\\end{tabular}\n"
      ],
      "text/plain": [
       "\u001b[1m1×13 DataFrame\u001b[0m\n",
       "\u001b[1m Row \u001b[0m│\u001b[1m variable \u001b[0m\u001b[1m mean      \u001b[0m\u001b[1m std       \u001b[0m\u001b[1m min       \u001b[0m\u001b[1m q25        \u001b[0m\u001b[1m median    \u001b[0m\u001b[1m q75  \u001b[0m ⋯\n",
       "\u001b[1m     \u001b[0m│\u001b[90m Symbol   \u001b[0m\u001b[90m Float64   \u001b[0m\u001b[90m Float64   \u001b[0m\u001b[90m Float64   \u001b[0m\u001b[90m Float64    \u001b[0m\u001b[90m Float64   \u001b[0m\u001b[90m Float\u001b[0m ⋯\n",
       "─────┼──────────────────────────────────────────────────────────────────────────\n",
       "   1 │ cor_list  0.0484105  0.0816448  -0.229774  0.00417808  0.0457962  0.108 ⋯\n",
       "\u001b[36m                                                               7 columns omitted\u001b[0m"
      ]
     },
     "execution_count": 44,
     "metadata": {},
     "output_type": "execute_result"
    }
   ],
   "source": [
    "cor_list = []\n",
    "for feature in features\n",
    "    append!(cor_list, cor(df₂[!, feature], xgb_preds))\n",
    "end\n",
    "    \n",
    "describe(DataFrame(cor_list = cor_list), :all)"
   ]
  },
  {
   "cell_type": "code",
   "execution_count": 45,
   "id": "d494f5af-aeb2-4071-845e-f802d74251b1",
   "metadata": {},
   "outputs": [],
   "source": [
    "# treating as one function since Julia gets snippy about subsetting with [!, column] in groupbys\n",
    "\n",
    "function norm_neut(df, columns, feats, proportion=1.0)\n",
    "    scores = quantile(Normal(0.0,1.0),(ordinalrank(df[!, columns]) .- 0.5) ./ length(df[!, columns]))\n",
    "    exposures = Matrix(df[!, feats])\n",
    "    neutralized = scores - proportion * exposures * (pinv(exposures) * scores)\n",
    "    return neutralized / std(neutralized)\n",
    "end;"
   ]
  },
  {
   "cell_type": "code",
   "execution_count": 46,
   "id": "d793b5e1-cce8-4f97-8477-a5614adb8634",
   "metadata": {},
   "outputs": [],
   "source": [
    "df₂.preds = xgb_preds\n",
    "\n",
    "df₂[:, :preds_neutralized] = combine(x -> norm_neut(x, :preds, features, 0.5), groupby(df₂, :erano)).x1\n",
    "\n",
    "x_min = minimum(df₂.preds_neutralized)\n",
    "x_max = maximum(df₂.preds_neutralized)\n",
    "X_std = (df₂.preds_neutralized .- x_min) / (x_max .- x_min)\n",
    "df₂[!, :preds_neutralized] = X_scaled = X_std * (1 - 0) .+ 0;"
   ]
  },
  {
   "cell_type": "code",
   "execution_count": 47,
   "id": "22611a15-8012-49f6-ad40-80a11276931b",
   "metadata": {},
   "outputs": [
    {
     "name": "stdout",
     "output_type": "stream",
     "text": [
      "Summary Stats:\n",
      "Length:         248653\n",
      "Missing Count:  0\n",
      "Mean:           0.512301\n",
      "Minimum:        0.000000\n",
      "1st Quartile:   0.445243\n",
      "Median:         0.510633\n",
      "3rd Quartile:   0.577324\n",
      "Maximum:        1.000000\n",
      "Type:           Float64\n"
     ]
    }
   ],
   "source": [
    "describe(df₂.preds_neutralized)"
   ]
  },
  {
   "cell_type": "markdown",
   "id": "eac5fa9a-f6d0-4726-9a02-31902762fa9c",
   "metadata": {},
   "source": [
    "### Now our single feature exposures are much smaller"
   ]
  },
  {
   "cell_type": "code",
   "execution_count": 48,
   "id": "2faa8974-715e-4c22-99a3-1a66fce6874c",
   "metadata": {},
   "outputs": [
    {
     "data": {
      "text/html": [
       "<div class=\"data-frame\"><p>1 rows × 13 columns (omitted printing of 5 columns)</p><table class=\"data-frame\"><thead><tr><th></th><th>variable</th><th>mean</th><th>std</th><th>min</th><th>q25</th><th>median</th><th>q75</th><th>max</th></tr><tr><th></th><th title=\"Symbol\">Symbol</th><th title=\"Float64\">Float64</th><th title=\"Float64\">Float64</th><th title=\"Float64\">Float64</th><th title=\"Float64\">Float64</th><th title=\"Float64\">Float64</th><th title=\"Float64\">Float64</th><th title=\"Float64\">Float64</th></tr></thead><tbody><tr><th>1</th><td>cor_list2</td><td>0.0361127</td><td>0.0531799</td><td>-0.146887</td><td>0.00775735</td><td>0.0337416</td><td>0.0753398</td><td>0.155376</td></tr></tbody></table></div>"
      ],
      "text/latex": [
       "\\begin{tabular}{r|ccccccccc}\n",
       "\t& variable & mean & std & min & q25 & median & q75 & max & \\\\\n",
       "\t\\hline\n",
       "\t& Symbol & Float64 & Float64 & Float64 & Float64 & Float64 & Float64 & Float64 & \\\\\n",
       "\t\\hline\n",
       "\t1 & cor\\_list2 & 0.0361127 & 0.0531799 & -0.146887 & 0.00775735 & 0.0337416 & 0.0753398 & 0.155376 & $\\dots$ \\\\\n",
       "\\end{tabular}\n"
      ],
      "text/plain": [
       "\u001b[1m1×13 DataFrame\u001b[0m\n",
       "\u001b[1m Row \u001b[0m│\u001b[1m variable  \u001b[0m\u001b[1m mean      \u001b[0m\u001b[1m std       \u001b[0m\u001b[1m min       \u001b[0m\u001b[1m q25        \u001b[0m\u001b[1m median    \u001b[0m\u001b[1m q75 \u001b[0m ⋯\n",
       "\u001b[1m     \u001b[0m│\u001b[90m Symbol    \u001b[0m\u001b[90m Float64   \u001b[0m\u001b[90m Float64   \u001b[0m\u001b[90m Float64   \u001b[0m\u001b[90m Float64    \u001b[0m\u001b[90m Float64   \u001b[0m\u001b[90m Floa\u001b[0m ⋯\n",
       "─────┼──────────────────────────────────────────────────────────────────────────\n",
       "   1 │ cor_list2  0.0361127  0.0531799  -0.146887  0.00775735  0.0337416  0.07 ⋯\n",
       "\u001b[36m                                                               7 columns omitted\u001b[0m"
      ]
     },
     "execution_count": 48,
     "metadata": {},
     "output_type": "execute_result"
    }
   ],
   "source": [
    "cor_list2 = []\n",
    "for feature in features\n",
    "    append!(cor_list2, cor(df₂[!, feature], df₂.preds_neutralized))\n",
    "end\n",
    "    \n",
    "describe(DataFrame(cor_list2 = cor_list2), :all)"
   ]
  },
  {
   "cell_type": "markdown",
   "id": "b37f71ed-6b4a-46c3-a07f-47e949897cd2",
   "metadata": {},
   "source": [
    "### Our overall score goes down, but the scores are more consistent than before. This leads to a higher sharpe"
   ]
  },
  {
   "cell_type": "code",
   "execution_count": 49,
   "id": "1d9ce2b0-233b-4d08-b7af-82d8062bde1e",
   "metadata": {},
   "outputs": [],
   "source": [
    "unbalanced_scores_per_era = combine(x -> cor(x.preds, x.target), groupby(df₂, :era))\n",
    "balanced_scores_per_era = combine(x -> cor(x.preds_neutralized, x.target), groupby(df₂, :era));"
   ]
  },
  {
   "cell_type": "code",
   "execution_count": 50,
   "id": "466a06c9-25a3-4aaa-bae1-8f1bebb80fb4",
   "metadata": {},
   "outputs": [
    {
     "name": "stdout",
     "output_type": "stream",
     "text": [
      "score for high feature exposure: 0.0368068530006\n",
      "score for balanced feature expo: 0.03288299396994343\n",
      "std for high feature exposure: 0.03848940885417861\n",
      "std for balanced feature expo: 0.031585501268560856\n",
      "sharpe for high feature exposure: 0.9562852248535912\n",
      "sharpe for balanced feature expo: 1.0410787433876838\n"
     ]
    }
   ],
   "source": [
    "println(\"score for high feature exposure: \", mean(unbalanced_scores_per_era.x1))\n",
    "println(\"score for balanced feature expo: \", mean(balanced_scores_per_era.x1))\n",
    "\n",
    "println(\"std for high feature exposure: \", std(unbalanced_scores_per_era.x1))\n",
    "println(\"std for balanced feature expo: \", std(balanced_scores_per_era.x1))\n",
    "\n",
    "println(\"sharpe for high feature exposure: \", mean(unbalanced_scores_per_era.x1)/std(unbalanced_scores_per_era.x1))\n",
    "println(\"sharpe for balanced feature expo: \", mean(balanced_scores_per_era.x1)/std(balanced_scores_per_era.x1))"
   ]
  },
  {
   "cell_type": "code",
   "execution_count": 51,
   "id": "b7a1f206-de0d-4cf4-bbab-f7a6dbb036c7",
   "metadata": {},
   "outputs": [
    {
     "name": "stdout",
     "output_type": "stream",
     "text": [
      "Summary Stats:\n",
      "Length:         56\n",
      "Missing Count:  0\n",
      "Mean:           0.032883\n",
      "Minimum:        -0.065154\n",
      "1st Quartile:   0.013038\n",
      "Median:         0.030797\n",
      "3rd Quartile:   0.061884\n",
      "Maximum:        0.091098\n",
      "Type:           Float64\n"
     ]
    }
   ],
   "source": [
    "describe(balanced_scores_per_era.x1)"
   ]
  },
  {
   "cell_type": "code",
   "execution_count": 52,
   "id": "c8b06a44-e891-435c-afc1-8964581738ab",
   "metadata": {},
   "outputs": [
    {
     "name": "stdout",
     "output_type": "stream",
     "text": [
      "Summary Stats:\n",
      "Length:         56\n",
      "Missing Count:  0\n",
      "Mean:           0.036807\n",
      "Minimum:        -0.085174\n",
      "1st Quartile:   0.014656\n",
      "Median:         0.033550\n",
      "3rd Quartile:   0.062175\n",
      "Maximum:        0.112687\n",
      "Type:           Float64\n"
     ]
    }
   ],
   "source": [
    "describe(unbalanced_scores_per_era.x1)"
   ]
  }
 ],
 "metadata": {
  "kernelspec": {
   "display_name": "Julia 1.6.5",
   "language": "julia",
   "name": "julia-1.6"
  },
  "language_info": {
   "file_extension": ".jl",
   "mimetype": "application/julia",
   "name": "julia",
   "version": "1.6.5"
  }
 },
 "nbformat": 4,
 "nbformat_minor": 5
}
